{
 "cells": [
  {
   "cell_type": "code",
   "execution_count": 1,
   "id": "036d715c",
   "metadata": {},
   "outputs": [],
   "source": [
    "import math\n",
    "import re\n",
    "import os\n",
    "import sys"
   ]
  },
  {
   "cell_type": "markdown",
   "id": "d1557e5a",
   "metadata": {},
   "source": [
    "# This is my implementation of standard NB\n",
    "\n",
    "I applied the theoretical principles of the Naive-Bayes algorithm here in a step by step manner using only pandas, numpy and python libraries along the way. We used sci-kit learn libraries to obtain precision and recall. I obtained very strong results with 83.5% classification accuracy here."
   ]
  },
  {
   "cell_type": "code",
   "execution_count": 2,
   "id": "8e05b9a2",
   "metadata": {},
   "outputs": [],
   "source": [
    "import pandas as pd\n",
    "train_pos = pd.read_csv('txt_sentoken/pos/train-pos/pos-files-labels.csv', index_col = 'Unnamed: 0')"
   ]
  },
  {
   "cell_type": "code",
   "execution_count": 91,
   "id": "e33e4139",
   "metadata": {},
   "outputs": [
    {
     "data": {
      "text/plain": [
       "(900, 2)"
      ]
     },
     "execution_count": 91,
     "metadata": {},
     "output_type": "execute_result"
    }
   ],
   "source": [
    "train_pos.shape"
   ]
  },
  {
   "cell_type": "code",
   "execution_count": 4,
   "id": "4655632c",
   "metadata": {},
   "outputs": [],
   "source": [
    "train_neg = pd.read_csv('txt_sentoken/neg/train-neg/neg-files-labels.csv', index_col = 'Unnamed: 0')"
   ]
  },
  {
   "cell_type": "code",
   "execution_count": 92,
   "id": "dc93b625",
   "metadata": {},
   "outputs": [
    {
     "data": {
      "text/plain": [
       "(900, 2)"
      ]
     },
     "execution_count": 92,
     "metadata": {},
     "output_type": "execute_result"
    }
   ],
   "source": [
    "train_neg.shape"
   ]
  },
  {
   "cell_type": "code",
   "execution_count": 6,
   "id": "f3ea7743",
   "metadata": {},
   "outputs": [],
   "source": [
    "join = pd.concat([train_neg, train_pos])"
   ]
  },
  {
   "cell_type": "code",
   "execution_count": 7,
   "id": "b33802ac",
   "metadata": {},
   "outputs": [],
   "source": [
    "import numpy as np\n",
    "input_txt = np.array(join['File Input'])\n",
    "unique_words_count_pos = {}\n",
    "unique_words_count_neg = {}\n",
    "unique_count_pos = 0\n",
    "unique_count_neg = 0\n",
    "wrds = []\n",
    "for i in range(len(input_txt)):\n",
    "    words = input_txt[i].split()\n",
    "    # split each input into list easier for iterating through\n",
    "    wrds.append(words)    "
   ]
  },
  {
   "cell_type": "code",
   "execution_count": 9,
   "id": "26454b18",
   "metadata": {},
   "outputs": [
    {
     "data": {
      "text/plain": [
       "699"
      ]
     },
     "execution_count": 9,
     "metadata": {},
     "output_type": "execute_result"
    }
   ],
   "source": [
    "# this use of split has worked\n",
    "len(wrds[0])"
   ]
  },
  {
   "cell_type": "code",
   "execution_count": 10,
   "id": "f45b1b52",
   "metadata": {},
   "outputs": [
    {
     "data": {
      "text/plain": [
       "340"
      ]
     },
     "execution_count": 10,
     "metadata": {},
     "output_type": "execute_result"
    }
   ],
   "source": [
    "# check length of first file with unique words only\n",
    "len(set(wrds[0]))"
   ]
  },
  {
   "cell_type": "code",
   "execution_count": 11,
   "id": "9a932dc1",
   "metadata": {},
   "outputs": [],
   "source": [
    "# get length of total positive and negative docs\n",
    "# iterate through each file input and if positive add length of doc, vice versa for negative\n",
    "len_pos = 0\n",
    "len_neg = 0\n",
    "labels1 = np.array(join['Label'])\n",
    "for i in range(len(wrds)):\n",
    "    if labels1[i] == 1:\n",
    "        len_pos += len(wrds[i])\n",
    "    else:\n",
    "        len_neg += len(wrds[i])"
   ]
  },
  {
   "cell_type": "code",
   "execution_count": 12,
   "id": "b039dce3",
   "metadata": {},
   "outputs": [],
   "source": [
    "# get unique length of total positive and negative docs\n",
    "# iterate through each file input and if positive add length of doc, vice versa for negative\n",
    "len_pos_set = 0\n",
    "len_neg_set = 0\n",
    "labels1 = np.array(join['Label'])\n",
    "for i in range(len(wrds)):\n",
    "    if labels1[i] == 1:\n",
    "        #print(len(set(wrds[i])))\n",
    "        len_pos_set += len(set(wrds[i]))\n",
    "    else:\n",
    "        #print(len(set(wrds[i])))\n",
    "        len_neg_set += len(set(wrds[i]))"
   ]
  },
  {
   "cell_type": "code",
   "execution_count": 13,
   "id": "d7677ebe",
   "metadata": {},
   "outputs": [
    {
     "data": {
      "text/plain": [
       "340"
      ]
     },
     "execution_count": 13,
     "metadata": {},
     "output_type": "execute_result"
    }
   ],
   "source": [
    "len(set(wrds[0]))"
   ]
  },
  {
   "cell_type": "code",
   "execution_count": 14,
   "id": "70c28b4d",
   "metadata": {},
   "outputs": [],
   "source": [
    "# get unique words in all docs\n",
    "uniques = []\n",
    "for i in range(len(wrds)):\n",
    "    for j in range(len(wrds[i])):\n",
    "        if wrds[i][j] not in uniques:\n",
    "            uniques.append(wrds[i][j])\n",
    "        else:\n",
    "            continue"
   ]
  },
  {
   "cell_type": "code",
   "execution_count": 15,
   "id": "eb5ef036",
   "metadata": {},
   "outputs": [
    {
     "data": {
      "text/plain": [
       "45241"
      ]
     },
     "execution_count": 15,
     "metadata": {},
     "output_type": "execute_result"
    }
   ],
   "source": [
    "len(uniques)"
   ]
  },
  {
   "cell_type": "code",
   "execution_count": 16,
   "id": "689cb4ee",
   "metadata": {},
   "outputs": [],
   "source": [
    "# now let's split our unique words into the class they lie in (positive or negative)\n",
    "uniques_pos = []\n",
    "uniques_neg = []\n",
    "labels = np.array(join['Label'])\n",
    "for i in range(len(wrds)):\n",
    "    if labels[i] == 1:\n",
    "        for j in range(len(wrds[i])):\n",
    "            if wrds[i][j] not in uniques_pos:\n",
    "                uniques_pos.append(wrds[i][j])\n",
    "            else:\n",
    "                continue\n",
    "    else:\n",
    "        for j in range(len(wrds[i])):\n",
    "            if wrds[i][j] not in uniques_neg:\n",
    "                uniques_neg.append(wrds[i][j])\n",
    "            else:\n",
    "                continue"
   ]
  },
  {
   "cell_type": "code",
   "execution_count": 17,
   "id": "f0ddb002",
   "metadata": {},
   "outputs": [
    {
     "data": {
      "text/plain": [
       "31106"
      ]
     },
     "execution_count": 17,
     "metadata": {},
     "output_type": "execute_result"
    }
   ],
   "source": [
    "# number of unique words in negative docs\n",
    "len(uniques_neg)"
   ]
  },
  {
   "cell_type": "code",
   "execution_count": 18,
   "id": "25769368",
   "metadata": {},
   "outputs": [
    {
     "data": {
      "text/plain": [
       "33172"
      ]
     },
     "execution_count": 18,
     "metadata": {},
     "output_type": "execute_result"
    }
   ],
   "source": [
    "# number of unique words in positive docs\n",
    "len(uniques_pos)"
   ]
  },
  {
   "cell_type": "markdown",
   "id": "100f30e6",
   "metadata": {},
   "source": [
    "### Half docs positive, half negative on test set and training set\n",
    "### So both prior probabilities will be 0.5 "
   ]
  },
  {
   "cell_type": "code",
   "execution_count": 19,
   "id": "08fb609b",
   "metadata": {},
   "outputs": [
    {
     "data": {
      "text/html": [
       "<div>\n",
       "<style scoped>\n",
       "    .dataframe tbody tr th:only-of-type {\n",
       "        vertical-align: middle;\n",
       "    }\n",
       "\n",
       "    .dataframe tbody tr th {\n",
       "        vertical-align: top;\n",
       "    }\n",
       "\n",
       "    .dataframe thead th {\n",
       "        text-align: right;\n",
       "    }\n",
       "</style>\n",
       "<table border=\"1\" class=\"dataframe\">\n",
       "  <thead>\n",
       "    <tr style=\"text-align: right;\">\n",
       "      <th></th>\n",
       "      <th>File Input</th>\n",
       "      <th>Label</th>\n",
       "    </tr>\n",
       "  </thead>\n",
       "  <tbody>\n",
       "    <tr>\n",
       "      <th>0</th>\n",
       "      <td>films adapted from comic books have had plenty...</td>\n",
       "      <td>1</td>\n",
       "    </tr>\n",
       "    <tr>\n",
       "      <th>1</th>\n",
       "      <td>every now and then a movie comes along from a ...</td>\n",
       "      <td>1</td>\n",
       "    </tr>\n",
       "    <tr>\n",
       "      <th>2</th>\n",
       "      <td>youve got mail works alot better than it deser...</td>\n",
       "      <td>1</td>\n",
       "    </tr>\n",
       "    <tr>\n",
       "      <th>3</th>\n",
       "      <td>jaws is a rare film that grabs your attention ...</td>\n",
       "      <td>1</td>\n",
       "    </tr>\n",
       "    <tr>\n",
       "      <th>4</th>\n",
       "      <td>moviemaking is a lot like being the general ma...</td>\n",
       "      <td>1</td>\n",
       "    </tr>\n",
       "    <tr>\n",
       "      <th>...</th>\n",
       "      <td>...</td>\n",
       "      <td>...</td>\n",
       "    </tr>\n",
       "    <tr>\n",
       "      <th>895</th>\n",
       "      <td>the soldiers of three kings have taken their c...</td>\n",
       "      <td>1</td>\n",
       "    </tr>\n",
       "    <tr>\n",
       "      <th>896</th>\n",
       "      <td>bill condons gods and monsters is a fascinatin...</td>\n",
       "      <td>1</td>\n",
       "    </tr>\n",
       "    <tr>\n",
       "      <th>897</th>\n",
       "      <td>i must admit that i was a tad skeptical of goo...</td>\n",
       "      <td>1</td>\n",
       "    </tr>\n",
       "    <tr>\n",
       "      <th>898</th>\n",
       "      <td>a cinematic version of one of john irvings nov...</td>\n",
       "      <td>1</td>\n",
       "    </tr>\n",
       "    <tr>\n",
       "      <th>899</th>\n",
       "      <td>the only historical figure that has been writt...</td>\n",
       "      <td>1</td>\n",
       "    </tr>\n",
       "  </tbody>\n",
       "</table>\n",
       "<p>900 rows × 2 columns</p>\n",
       "</div>"
      ],
      "text/plain": [
       "                                            File Input  Label\n",
       "0    films adapted from comic books have had plenty...      1\n",
       "1    every now and then a movie comes along from a ...      1\n",
       "2    youve got mail works alot better than it deser...      1\n",
       "3    jaws is a rare film that grabs your attention ...      1\n",
       "4    moviemaking is a lot like being the general ma...      1\n",
       "..                                                 ...    ...\n",
       "895  the soldiers of three kings have taken their c...      1\n",
       "896  bill condons gods and monsters is a fascinatin...      1\n",
       "897  i must admit that i was a tad skeptical of goo...      1\n",
       "898  a cinematic version of one of john irvings nov...      1\n",
       "899  the only historical figure that has been writt...      1\n",
       "\n",
       "[900 rows x 2 columns]"
      ]
     },
     "execution_count": 19,
     "metadata": {},
     "output_type": "execute_result"
    }
   ],
   "source": [
    "train_pos"
   ]
  },
  {
   "cell_type": "code",
   "execution_count": 20,
   "id": "3130519e",
   "metadata": {},
   "outputs": [
    {
     "data": {
      "text/html": [
       "<div>\n",
       "<style scoped>\n",
       "    .dataframe tbody tr th:only-of-type {\n",
       "        vertical-align: middle;\n",
       "    }\n",
       "\n",
       "    .dataframe tbody tr th {\n",
       "        vertical-align: top;\n",
       "    }\n",
       "\n",
       "    .dataframe thead th {\n",
       "        text-align: right;\n",
       "    }\n",
       "</style>\n",
       "<table border=\"1\" class=\"dataframe\">\n",
       "  <thead>\n",
       "    <tr style=\"text-align: right;\">\n",
       "      <th></th>\n",
       "      <th>File Input</th>\n",
       "      <th>Label</th>\n",
       "    </tr>\n",
       "  </thead>\n",
       "  <tbody>\n",
       "    <tr>\n",
       "      <th>0</th>\n",
       "      <td>plot two teen couples go to a church party dri...</td>\n",
       "      <td>0</td>\n",
       "    </tr>\n",
       "    <tr>\n",
       "      <th>1</th>\n",
       "      <td>the happy bastards quick movie review damn tha...</td>\n",
       "      <td>0</td>\n",
       "    </tr>\n",
       "    <tr>\n",
       "      <th>2</th>\n",
       "      <td>it is movies like these that make a jaded movi...</td>\n",
       "      <td>0</td>\n",
       "    </tr>\n",
       "    <tr>\n",
       "      <th>3</th>\n",
       "      <td>quest for camelot is warner bros first feature...</td>\n",
       "      <td>0</td>\n",
       "    </tr>\n",
       "    <tr>\n",
       "      <th>4</th>\n",
       "      <td>synopsis a mentally unstable man undergoing ps...</td>\n",
       "      <td>0</td>\n",
       "    </tr>\n",
       "    <tr>\n",
       "      <th>...</th>\n",
       "      <td>...</td>\n",
       "      <td>...</td>\n",
       "    </tr>\n",
       "    <tr>\n",
       "      <th>895</th>\n",
       "      <td>the soldiers of three kings have taken their c...</td>\n",
       "      <td>1</td>\n",
       "    </tr>\n",
       "    <tr>\n",
       "      <th>896</th>\n",
       "      <td>bill condons gods and monsters is a fascinatin...</td>\n",
       "      <td>1</td>\n",
       "    </tr>\n",
       "    <tr>\n",
       "      <th>897</th>\n",
       "      <td>i must admit that i was a tad skeptical of goo...</td>\n",
       "      <td>1</td>\n",
       "    </tr>\n",
       "    <tr>\n",
       "      <th>898</th>\n",
       "      <td>a cinematic version of one of john irvings nov...</td>\n",
       "      <td>1</td>\n",
       "    </tr>\n",
       "    <tr>\n",
       "      <th>899</th>\n",
       "      <td>the only historical figure that has been writt...</td>\n",
       "      <td>1</td>\n",
       "    </tr>\n",
       "  </tbody>\n",
       "</table>\n",
       "<p>1800 rows × 2 columns</p>\n",
       "</div>"
      ],
      "text/plain": [
       "                                            File Input  Label\n",
       "0    plot two teen couples go to a church party dri...      0\n",
       "1    the happy bastards quick movie review damn tha...      0\n",
       "2    it is movies like these that make a jaded movi...      0\n",
       "3    quest for camelot is warner bros first feature...      0\n",
       "4    synopsis a mentally unstable man undergoing ps...      0\n",
       "..                                                 ...    ...\n",
       "895  the soldiers of three kings have taken their c...      1\n",
       "896  bill condons gods and monsters is a fascinatin...      1\n",
       "897  i must admit that i was a tad skeptical of goo...      1\n",
       "898  a cinematic version of one of john irvings nov...      1\n",
       "899  the only historical figure that has been writt...      1\n",
       "\n",
       "[1800 rows x 2 columns]"
      ]
     },
     "execution_count": 20,
     "metadata": {},
     "output_type": "execute_result"
    }
   ],
   "source": [
    "join1 = join.copy()\n",
    "join1"
   ]
  },
  {
   "cell_type": "code",
   "execution_count": 21,
   "id": "c1b79c4f",
   "metadata": {},
   "outputs": [],
   "source": [
    "# create set to get unique words in each file\n",
    "# as per notes \"For tasks like sentiment, word occurrence is more important than word frequency\"\n",
    "# this is in case we want to try binary NB\n",
    "input_txt1 = np.array(join1['File Input'])\n",
    "wrds1 = []\n",
    "for i in range(len(input_txt)):\n",
    "    words1 = input_txt[i].split()\n",
    "    words2 = list(set(words1))\n",
    "    wrds1.append(words2)"
   ]
  },
  {
   "cell_type": "code",
   "execution_count": 22,
   "id": "1343ce44",
   "metadata": {},
   "outputs": [],
   "source": [
    "# create dictionaries to get number times a word occurs\n",
    "# remember standard NB takes frequency of words and not occurrence\n",
    "unique_wrd_doc_counts_pos = {}\n",
    "unique_wrd_doc_counts_neg = {}\n",
    "labels1 = np.array(join1['Label'])\n",
    "for i in range(len(wrds)):\n",
    "    if labels1[i] == 1:\n",
    "        for j in range(len(wrds[i])):\n",
    "            if wrds[i][j] not in unique_wrd_doc_counts_pos:\n",
    "                unique_wrd_doc_counts_pos[wrds[i][j]] = 1\n",
    "            else:\n",
    "                unique_wrd_doc_counts_pos[wrds[i][j]] += 1\n",
    "    else:\n",
    "        for j in range(len(wrds[i])):\n",
    "            if wrds[i][j] not in unique_wrd_doc_counts_neg:\n",
    "                unique_wrd_doc_counts_neg[wrds[i][j]] = 1\n",
    "            else:\n",
    "                unique_wrd_doc_counts_neg[wrds[i][j]] += 1"
   ]
  },
  {
   "cell_type": "code",
   "execution_count": 25,
   "id": "64a1fc85",
   "metadata": {},
   "outputs": [
    {
     "data": {
      "text/plain": [
       "613316"
      ]
     },
     "execution_count": 25,
     "metadata": {},
     "output_type": "execute_result"
    }
   ],
   "source": [
    "len_pos"
   ]
  },
  {
   "cell_type": "code",
   "execution_count": 26,
   "id": "8c23578a",
   "metadata": {},
   "outputs": [
    {
     "data": {
      "text/plain": [
       "547676"
      ]
     },
     "execution_count": 26,
     "metadata": {},
     "output_type": "execute_result"
    }
   ],
   "source": [
    "len_neg"
   ]
  },
  {
   "cell_type": "code",
   "execution_count": 27,
   "id": "18daf795",
   "metadata": {},
   "outputs": [],
   "source": [
    "testdf = pd.DataFrame.from_dict(unique_wrd_doc_counts_pos, orient='index')"
   ]
  },
  {
   "cell_type": "code",
   "execution_count": 28,
   "id": "f11d15d4",
   "metadata": {},
   "outputs": [],
   "source": [
    "testdf = testdf.reset_index()\n",
    "testdf.rename(columns={'index': 'Word', 0: 'FrequencyPositive'}, inplace = True)"
   ]
  },
  {
   "cell_type": "code",
   "execution_count": 29,
   "id": "e39813aa",
   "metadata": {},
   "outputs": [
    {
     "data": {
      "text/html": [
       "<div>\n",
       "<style scoped>\n",
       "    .dataframe tbody tr th:only-of-type {\n",
       "        vertical-align: middle;\n",
       "    }\n",
       "\n",
       "    .dataframe tbody tr th {\n",
       "        vertical-align: top;\n",
       "    }\n",
       "\n",
       "    .dataframe thead th {\n",
       "        text-align: right;\n",
       "    }\n",
       "</style>\n",
       "<table border=\"1\" class=\"dataframe\">\n",
       "  <thead>\n",
       "    <tr style=\"text-align: right;\">\n",
       "      <th></th>\n",
       "      <th>Word</th>\n",
       "      <th>FrequencyPositive</th>\n",
       "    </tr>\n",
       "  </thead>\n",
       "  <tbody>\n",
       "    <tr>\n",
       "      <th>0</th>\n",
       "      <td>films</td>\n",
       "      <td>1045</td>\n",
       "    </tr>\n",
       "    <tr>\n",
       "      <th>1</th>\n",
       "      <td>adapted</td>\n",
       "      <td>25</td>\n",
       "    </tr>\n",
       "    <tr>\n",
       "      <th>2</th>\n",
       "      <td>from</td>\n",
       "      <td>2418</td>\n",
       "    </tr>\n",
       "    <tr>\n",
       "      <th>3</th>\n",
       "      <td>comic</td>\n",
       "      <td>200</td>\n",
       "    </tr>\n",
       "    <tr>\n",
       "      <th>4</th>\n",
       "      <td>books</td>\n",
       "      <td>50</td>\n",
       "    </tr>\n",
       "    <tr>\n",
       "      <th>...</th>\n",
       "      <td>...</td>\n",
       "      <td>...</td>\n",
       "    </tr>\n",
       "    <tr>\n",
       "      <th>33167</th>\n",
       "      <td>noblewoman</td>\n",
       "      <td>1</td>\n",
       "    </tr>\n",
       "    <tr>\n",
       "      <th>33168</th>\n",
       "      <td>fennyman</td>\n",
       "      <td>1</td>\n",
       "    </tr>\n",
       "    <tr>\n",
       "      <th>33169</th>\n",
       "      <td>forementioned</td>\n",
       "      <td>1</td>\n",
       "    </tr>\n",
       "    <tr>\n",
       "      <th>33170</th>\n",
       "      <td>truelove</td>\n",
       "      <td>1</td>\n",
       "    </tr>\n",
       "    <tr>\n",
       "      <th>33171</th>\n",
       "      <td>yearsopen</td>\n",
       "      <td>1</td>\n",
       "    </tr>\n",
       "  </tbody>\n",
       "</table>\n",
       "<p>33172 rows × 2 columns</p>\n",
       "</div>"
      ],
      "text/plain": [
       "                Word  FrequencyPositive\n",
       "0              films               1045\n",
       "1            adapted                 25\n",
       "2               from               2418\n",
       "3              comic                200\n",
       "4              books                 50\n",
       "...              ...                ...\n",
       "33167     noblewoman                  1\n",
       "33168       fennyman                  1\n",
       "33169  forementioned                  1\n",
       "33170       truelove                  1\n",
       "33171      yearsopen                  1\n",
       "\n",
       "[33172 rows x 2 columns]"
      ]
     },
     "execution_count": 29,
     "metadata": {},
     "output_type": "execute_result"
    }
   ],
   "source": [
    "testdf"
   ]
  },
  {
   "cell_type": "code",
   "execution_count": 30,
   "id": "027848bd",
   "metadata": {},
   "outputs": [
    {
     "data": {
      "text/html": [
       "<div>\n",
       "<style scoped>\n",
       "    .dataframe tbody tr th:only-of-type {\n",
       "        vertical-align: middle;\n",
       "    }\n",
       "\n",
       "    .dataframe tbody tr th {\n",
       "        vertical-align: top;\n",
       "    }\n",
       "\n",
       "    .dataframe thead th {\n",
       "        text-align: right;\n",
       "    }\n",
       "</style>\n",
       "<table border=\"1\" class=\"dataframe\">\n",
       "  <thead>\n",
       "    <tr style=\"text-align: right;\">\n",
       "      <th></th>\n",
       "      <th>Word</th>\n",
       "      <th>FrequencyNegative</th>\n",
       "    </tr>\n",
       "  </thead>\n",
       "  <tbody>\n",
       "    <tr>\n",
       "      <th>0</th>\n",
       "      <td>plot</td>\n",
       "      <td>779</td>\n",
       "    </tr>\n",
       "    <tr>\n",
       "      <th>1</th>\n",
       "      <td>two</td>\n",
       "      <td>787</td>\n",
       "    </tr>\n",
       "    <tr>\n",
       "      <th>2</th>\n",
       "      <td>teen</td>\n",
       "      <td>68</td>\n",
       "    </tr>\n",
       "    <tr>\n",
       "      <th>3</th>\n",
       "      <td>couples</td>\n",
       "      <td>15</td>\n",
       "    </tr>\n",
       "    <tr>\n",
       "      <th>4</th>\n",
       "      <td>go</td>\n",
       "      <td>468</td>\n",
       "    </tr>\n",
       "    <tr>\n",
       "      <th>...</th>\n",
       "      <td>...</td>\n",
       "      <td>...</td>\n",
       "    </tr>\n",
       "    <tr>\n",
       "      <th>31101</th>\n",
       "      <td>belch</td>\n",
       "      <td>1</td>\n",
       "    </tr>\n",
       "    <tr>\n",
       "      <th>31102</th>\n",
       "      <td>secondclass</td>\n",
       "      <td>1</td>\n",
       "    </tr>\n",
       "    <tr>\n",
       "      <th>31103</th>\n",
       "      <td>maids</td>\n",
       "      <td>1</td>\n",
       "    </tr>\n",
       "    <tr>\n",
       "      <th>31104</th>\n",
       "      <td>creeping</td>\n",
       "      <td>1</td>\n",
       "    </tr>\n",
       "    <tr>\n",
       "      <th>31105</th>\n",
       "      <td>guncrazy</td>\n",
       "      <td>1</td>\n",
       "    </tr>\n",
       "  </tbody>\n",
       "</table>\n",
       "<p>31106 rows × 2 columns</p>\n",
       "</div>"
      ],
      "text/plain": [
       "              Word  FrequencyNegative\n",
       "0             plot                779\n",
       "1              two                787\n",
       "2             teen                 68\n",
       "3          couples                 15\n",
       "4               go                468\n",
       "...            ...                ...\n",
       "31101        belch                  1\n",
       "31102  secondclass                  1\n",
       "31103        maids                  1\n",
       "31104     creeping                  1\n",
       "31105     guncrazy                  1\n",
       "\n",
       "[31106 rows x 2 columns]"
      ]
     },
     "execution_count": 30,
     "metadata": {},
     "output_type": "execute_result"
    }
   ],
   "source": [
    "testdf1 = pd.DataFrame.from_dict(unique_wrd_doc_counts_neg, orient='index')\n",
    "testdf1 = testdf1.reset_index()\n",
    "testdf1.rename(columns={'index': 'Word', 0: 'FrequencyNegative'}, inplace = True)\n",
    "testdf1"
   ]
  },
  {
   "cell_type": "code",
   "execution_count": 31,
   "id": "777d4190",
   "metadata": {},
   "outputs": [
    {
     "data": {
      "text/html": [
       "<div>\n",
       "<style scoped>\n",
       "    .dataframe tbody tr th:only-of-type {\n",
       "        vertical-align: middle;\n",
       "    }\n",
       "\n",
       "    .dataframe tbody tr th {\n",
       "        vertical-align: top;\n",
       "    }\n",
       "\n",
       "    .dataframe thead th {\n",
       "        text-align: right;\n",
       "    }\n",
       "</style>\n",
       "<table border=\"1\" class=\"dataframe\">\n",
       "  <thead>\n",
       "    <tr style=\"text-align: right;\">\n",
       "      <th></th>\n",
       "      <th>Word</th>\n",
       "      <th>FrequencyPositive</th>\n",
       "      <th>FrequencyNegative</th>\n",
       "    </tr>\n",
       "  </thead>\n",
       "  <tbody>\n",
       "    <tr>\n",
       "      <th>0</th>\n",
       "      <td>films</td>\n",
       "      <td>1045.0</td>\n",
       "      <td>828.0</td>\n",
       "    </tr>\n",
       "    <tr>\n",
       "      <th>1</th>\n",
       "      <td>adapted</td>\n",
       "      <td>25.0</td>\n",
       "      <td>14.0</td>\n",
       "    </tr>\n",
       "    <tr>\n",
       "      <th>2</th>\n",
       "      <td>from</td>\n",
       "      <td>2418.0</td>\n",
       "      <td>2032.0</td>\n",
       "    </tr>\n",
       "    <tr>\n",
       "      <th>3</th>\n",
       "      <td>comic</td>\n",
       "      <td>200.0</td>\n",
       "      <td>141.0</td>\n",
       "    </tr>\n",
       "    <tr>\n",
       "      <th>4</th>\n",
       "      <td>books</td>\n",
       "      <td>50.0</td>\n",
       "      <td>23.0</td>\n",
       "    </tr>\n",
       "    <tr>\n",
       "      <th>...</th>\n",
       "      <td>...</td>\n",
       "      <td>...</td>\n",
       "      <td>...</td>\n",
       "    </tr>\n",
       "    <tr>\n",
       "      <th>45236</th>\n",
       "      <td>exspecial</td>\n",
       "      <td>NaN</td>\n",
       "      <td>1.0</td>\n",
       "    </tr>\n",
       "    <tr>\n",
       "      <th>45237</th>\n",
       "      <td>yucked</td>\n",
       "      <td>NaN</td>\n",
       "      <td>1.0</td>\n",
       "    </tr>\n",
       "    <tr>\n",
       "      <th>45238</th>\n",
       "      <td>belch</td>\n",
       "      <td>NaN</td>\n",
       "      <td>1.0</td>\n",
       "    </tr>\n",
       "    <tr>\n",
       "      <th>45239</th>\n",
       "      <td>secondclass</td>\n",
       "      <td>NaN</td>\n",
       "      <td>1.0</td>\n",
       "    </tr>\n",
       "    <tr>\n",
       "      <th>45240</th>\n",
       "      <td>guncrazy</td>\n",
       "      <td>NaN</td>\n",
       "      <td>1.0</td>\n",
       "    </tr>\n",
       "  </tbody>\n",
       "</table>\n",
       "<p>45241 rows × 3 columns</p>\n",
       "</div>"
      ],
      "text/plain": [
       "              Word  FrequencyPositive  FrequencyNegative\n",
       "0            films             1045.0              828.0\n",
       "1          adapted               25.0               14.0\n",
       "2             from             2418.0             2032.0\n",
       "3            comic              200.0              141.0\n",
       "4            books               50.0               23.0\n",
       "...            ...                ...                ...\n",
       "45236    exspecial                NaN                1.0\n",
       "45237       yucked                NaN                1.0\n",
       "45238        belch                NaN                1.0\n",
       "45239  secondclass                NaN                1.0\n",
       "45240     guncrazy                NaN                1.0\n",
       "\n",
       "[45241 rows x 3 columns]"
      ]
     },
     "execution_count": 31,
     "metadata": {},
     "output_type": "execute_result"
    }
   ],
   "source": [
    "merged_df = pd.merge(testdf, testdf1, on=\"Word\", how='outer')\n",
    "merged_df"
   ]
  },
  {
   "cell_type": "code",
   "execution_count": 32,
   "id": "2e38f73f",
   "metadata": {},
   "outputs": [],
   "source": [
    "merged_df = merged_df.fillna(0)"
   ]
  },
  {
   "cell_type": "code",
   "execution_count": 33,
   "id": "c893ae6a",
   "metadata": {},
   "outputs": [
    {
     "data": {
      "text/plain": [
       "Word                  object\n",
       "FrequencyPositive    float64\n",
       "FrequencyNegative    float64\n",
       "dtype: object"
      ]
     },
     "execution_count": 33,
     "metadata": {},
     "output_type": "execute_result"
    }
   ],
   "source": [
    "merged_df.dtypes"
   ]
  },
  {
   "cell_type": "code",
   "execution_count": 34,
   "id": "90aed174",
   "metadata": {},
   "outputs": [],
   "source": [
    "merged_df['FrequencyPositive'] = merged_df['FrequencyPositive'].astype('int64')\n",
    "merged_df['FrequencyNegative'] = merged_df['FrequencyNegative'].astype('int64')"
   ]
  },
  {
   "cell_type": "code",
   "execution_count": 35,
   "id": "1a012750",
   "metadata": {},
   "outputs": [
    {
     "data": {
      "text/html": [
       "<div>\n",
       "<style scoped>\n",
       "    .dataframe tbody tr th:only-of-type {\n",
       "        vertical-align: middle;\n",
       "    }\n",
       "\n",
       "    .dataframe tbody tr th {\n",
       "        vertical-align: top;\n",
       "    }\n",
       "\n",
       "    .dataframe thead th {\n",
       "        text-align: right;\n",
       "    }\n",
       "</style>\n",
       "<table border=\"1\" class=\"dataframe\">\n",
       "  <thead>\n",
       "    <tr style=\"text-align: right;\">\n",
       "      <th></th>\n",
       "      <th>Word</th>\n",
       "      <th>FrequencyPositive</th>\n",
       "      <th>FrequencyNegative</th>\n",
       "    </tr>\n",
       "  </thead>\n",
       "  <tbody>\n",
       "    <tr>\n",
       "      <th>0</th>\n",
       "      <td>films</td>\n",
       "      <td>1045</td>\n",
       "      <td>828</td>\n",
       "    </tr>\n",
       "    <tr>\n",
       "      <th>1</th>\n",
       "      <td>adapted</td>\n",
       "      <td>25</td>\n",
       "      <td>14</td>\n",
       "    </tr>\n",
       "    <tr>\n",
       "      <th>2</th>\n",
       "      <td>from</td>\n",
       "      <td>2418</td>\n",
       "      <td>2032</td>\n",
       "    </tr>\n",
       "    <tr>\n",
       "      <th>3</th>\n",
       "      <td>comic</td>\n",
       "      <td>200</td>\n",
       "      <td>141</td>\n",
       "    </tr>\n",
       "    <tr>\n",
       "      <th>4</th>\n",
       "      <td>books</td>\n",
       "      <td>50</td>\n",
       "      <td>23</td>\n",
       "    </tr>\n",
       "    <tr>\n",
       "      <th>...</th>\n",
       "      <td>...</td>\n",
       "      <td>...</td>\n",
       "      <td>...</td>\n",
       "    </tr>\n",
       "    <tr>\n",
       "      <th>45236</th>\n",
       "      <td>exspecial</td>\n",
       "      <td>0</td>\n",
       "      <td>1</td>\n",
       "    </tr>\n",
       "    <tr>\n",
       "      <th>45237</th>\n",
       "      <td>yucked</td>\n",
       "      <td>0</td>\n",
       "      <td>1</td>\n",
       "    </tr>\n",
       "    <tr>\n",
       "      <th>45238</th>\n",
       "      <td>belch</td>\n",
       "      <td>0</td>\n",
       "      <td>1</td>\n",
       "    </tr>\n",
       "    <tr>\n",
       "      <th>45239</th>\n",
       "      <td>secondclass</td>\n",
       "      <td>0</td>\n",
       "      <td>1</td>\n",
       "    </tr>\n",
       "    <tr>\n",
       "      <th>45240</th>\n",
       "      <td>guncrazy</td>\n",
       "      <td>0</td>\n",
       "      <td>1</td>\n",
       "    </tr>\n",
       "  </tbody>\n",
       "</table>\n",
       "<p>45241 rows × 3 columns</p>\n",
       "</div>"
      ],
      "text/plain": [
       "              Word  FrequencyPositive  FrequencyNegative\n",
       "0            films               1045                828\n",
       "1          adapted                 25                 14\n",
       "2             from               2418               2032\n",
       "3            comic                200                141\n",
       "4            books                 50                 23\n",
       "...            ...                ...                ...\n",
       "45236    exspecial                  0                  1\n",
       "45237       yucked                  0                  1\n",
       "45238        belch                  0                  1\n",
       "45239  secondclass                  0                  1\n",
       "45240     guncrazy                  0                  1\n",
       "\n",
       "[45241 rows x 3 columns]"
      ]
     },
     "execution_count": 35,
     "metadata": {},
     "output_type": "execute_result"
    }
   ],
   "source": [
    "merged_df"
   ]
  },
  {
   "cell_type": "code",
   "execution_count": 36,
   "id": "25fca2fa",
   "metadata": {},
   "outputs": [],
   "source": [
    "# calculate word probabilities\n",
    "pos_prob = []\n",
    "neg_prob = []\n",
    "vocab_pos = len(uniques_pos)\n",
    "vocab_neg = len(uniques_neg)\n",
    "vocab = len(uniques)\n",
    "words_prob = np.array(merged_df['Word'])\n",
    "pos_counts = np.array(merged_df['FrequencyPositive'])\n",
    "neg_counts = np.array(merged_df['FrequencyNegative'])\n",
    "for i in range(len(words_prob)):\n",
    "    # laplace smoothing to handle zero probabilities\n",
    "    # len_pos is 613316 from earlier\n",
    "    pos_probs = (pos_counts[i] + 1) / (len_pos + vocab)\n",
    "    # calculate probabilities both negative and positive for each word\n",
    "    # len_neg is 547676\n",
    "    neg_probs = (neg_counts[i] + 1) / (len_neg + vocab)\n",
    "    pos_prob.append(pos_probs)\n",
    "    neg_prob.append(neg_probs)"
   ]
  },
  {
   "cell_type": "code",
   "execution_count": 37,
   "id": "8d0ae0af",
   "metadata": {},
   "outputs": [
    {
     "data": {
      "text/plain": [
       "45241"
      ]
     },
     "execution_count": 37,
     "metadata": {},
     "output_type": "execute_result"
    }
   ],
   "source": [
    "len(pos_prob)"
   ]
  },
  {
   "cell_type": "code",
   "execution_count": 38,
   "id": "ebd4608b",
   "metadata": {},
   "outputs": [],
   "source": [
    "merged_df['ProbabilityPositive'] = pos_prob\n",
    "merged_df['ProbabilityNegative'] = neg_prob"
   ]
  },
  {
   "cell_type": "code",
   "execution_count": 39,
   "id": "f9e88617",
   "metadata": {},
   "outputs": [
    {
     "data": {
      "text/html": [
       "<div>\n",
       "<style scoped>\n",
       "    .dataframe tbody tr th:only-of-type {\n",
       "        vertical-align: middle;\n",
       "    }\n",
       "\n",
       "    .dataframe tbody tr th {\n",
       "        vertical-align: top;\n",
       "    }\n",
       "\n",
       "    .dataframe thead th {\n",
       "        text-align: right;\n",
       "    }\n",
       "</style>\n",
       "<table border=\"1\" class=\"dataframe\">\n",
       "  <thead>\n",
       "    <tr style=\"text-align: right;\">\n",
       "      <th></th>\n",
       "      <th>Word</th>\n",
       "      <th>FrequencyPositive</th>\n",
       "      <th>FrequencyNegative</th>\n",
       "      <th>ProbabilityPositive</th>\n",
       "      <th>ProbabilityNegative</th>\n",
       "    </tr>\n",
       "  </thead>\n",
       "  <tbody>\n",
       "    <tr>\n",
       "      <th>0</th>\n",
       "      <td>films</td>\n",
       "      <td>1045</td>\n",
       "      <td>828</td>\n",
       "      <td>0.001588</td>\n",
       "      <td>0.001398</td>\n",
       "    </tr>\n",
       "    <tr>\n",
       "      <th>1</th>\n",
       "      <td>adapted</td>\n",
       "      <td>25</td>\n",
       "      <td>14</td>\n",
       "      <td>0.000039</td>\n",
       "      <td>0.000025</td>\n",
       "    </tr>\n",
       "    <tr>\n",
       "      <th>2</th>\n",
       "      <td>from</td>\n",
       "      <td>2418</td>\n",
       "      <td>2032</td>\n",
       "      <td>0.003673</td>\n",
       "      <td>0.003429</td>\n",
       "    </tr>\n",
       "    <tr>\n",
       "      <th>3</th>\n",
       "      <td>comic</td>\n",
       "      <td>200</td>\n",
       "      <td>141</td>\n",
       "      <td>0.000305</td>\n",
       "      <td>0.000239</td>\n",
       "    </tr>\n",
       "    <tr>\n",
       "      <th>4</th>\n",
       "      <td>books</td>\n",
       "      <td>50</td>\n",
       "      <td>23</td>\n",
       "      <td>0.000077</td>\n",
       "      <td>0.000040</td>\n",
       "    </tr>\n",
       "    <tr>\n",
       "      <th>...</th>\n",
       "      <td>...</td>\n",
       "      <td>...</td>\n",
       "      <td>...</td>\n",
       "      <td>...</td>\n",
       "      <td>...</td>\n",
       "    </tr>\n",
       "    <tr>\n",
       "      <th>45236</th>\n",
       "      <td>exspecial</td>\n",
       "      <td>0</td>\n",
       "      <td>1</td>\n",
       "      <td>0.000002</td>\n",
       "      <td>0.000003</td>\n",
       "    </tr>\n",
       "    <tr>\n",
       "      <th>45237</th>\n",
       "      <td>yucked</td>\n",
       "      <td>0</td>\n",
       "      <td>1</td>\n",
       "      <td>0.000002</td>\n",
       "      <td>0.000003</td>\n",
       "    </tr>\n",
       "    <tr>\n",
       "      <th>45238</th>\n",
       "      <td>belch</td>\n",
       "      <td>0</td>\n",
       "      <td>1</td>\n",
       "      <td>0.000002</td>\n",
       "      <td>0.000003</td>\n",
       "    </tr>\n",
       "    <tr>\n",
       "      <th>45239</th>\n",
       "      <td>secondclass</td>\n",
       "      <td>0</td>\n",
       "      <td>1</td>\n",
       "      <td>0.000002</td>\n",
       "      <td>0.000003</td>\n",
       "    </tr>\n",
       "    <tr>\n",
       "      <th>45240</th>\n",
       "      <td>guncrazy</td>\n",
       "      <td>0</td>\n",
       "      <td>1</td>\n",
       "      <td>0.000002</td>\n",
       "      <td>0.000003</td>\n",
       "    </tr>\n",
       "  </tbody>\n",
       "</table>\n",
       "<p>45241 rows × 5 columns</p>\n",
       "</div>"
      ],
      "text/plain": [
       "              Word  FrequencyPositive  FrequencyNegative  ProbabilityPositive  \\\n",
       "0            films               1045                828             0.001588   \n",
       "1          adapted                 25                 14             0.000039   \n",
       "2             from               2418               2032             0.003673   \n",
       "3            comic                200                141             0.000305   \n",
       "4            books                 50                 23             0.000077   \n",
       "...            ...                ...                ...                  ...   \n",
       "45236    exspecial                  0                  1             0.000002   \n",
       "45237       yucked                  0                  1             0.000002   \n",
       "45238        belch                  0                  1             0.000002   \n",
       "45239  secondclass                  0                  1             0.000002   \n",
       "45240     guncrazy                  0                  1             0.000002   \n",
       "\n",
       "       ProbabilityNegative  \n",
       "0                 0.001398  \n",
       "1                 0.000025  \n",
       "2                 0.003429  \n",
       "3                 0.000239  \n",
       "4                 0.000040  \n",
       "...                    ...  \n",
       "45236             0.000003  \n",
       "45237             0.000003  \n",
       "45238             0.000003  \n",
       "45239             0.000003  \n",
       "45240             0.000003  \n",
       "\n",
       "[45241 rows x 5 columns]"
      ]
     },
     "execution_count": 39,
     "metadata": {},
     "output_type": "execute_result"
    }
   ],
   "source": [
    "merged_df"
   ]
  },
  {
   "cell_type": "markdown",
   "id": "0f16eb42",
   "metadata": {},
   "source": [
    "### We need to ignore unknown words in test data\n",
    "\n",
    "Let's read in positive and negative test files first."
   ]
  },
  {
   "cell_type": "code",
   "execution_count": 40,
   "id": "71d4e6f3",
   "metadata": {},
   "outputs": [],
   "source": [
    "## Read in test files\n",
    "test_pos = pd.read_csv('txt_sentoken/pos/test-pos/pos-test-files-labels.csv', index_col = 'Unnamed: 0')"
   ]
  },
  {
   "cell_type": "code",
   "execution_count": 93,
   "id": "13dcbcd4",
   "metadata": {},
   "outputs": [
    {
     "data": {
      "text/html": [
       "<div>\n",
       "<style scoped>\n",
       "    .dataframe tbody tr th:only-of-type {\n",
       "        vertical-align: middle;\n",
       "    }\n",
       "\n",
       "    .dataframe tbody tr th {\n",
       "        vertical-align: top;\n",
       "    }\n",
       "\n",
       "    .dataframe thead th {\n",
       "        text-align: right;\n",
       "    }\n",
       "</style>\n",
       "<table border=\"1\" class=\"dataframe\">\n",
       "  <thead>\n",
       "    <tr style=\"text-align: right;\">\n",
       "      <th></th>\n",
       "      <th>File Input</th>\n",
       "      <th>Label</th>\n",
       "    </tr>\n",
       "  </thead>\n",
       "  <tbody>\n",
       "    <tr>\n",
       "      <th>0</th>\n",
       "      <td>in 1912 a ship set sail on her maiden voyage a...</td>\n",
       "      <td>1</td>\n",
       "    </tr>\n",
       "    <tr>\n",
       "      <th>1</th>\n",
       "      <td>the start of this movie reminded me of parts f...</td>\n",
       "      <td>1</td>\n",
       "    </tr>\n",
       "    <tr>\n",
       "      <th>2</th>\n",
       "      <td>note some may consider portions of the followi...</td>\n",
       "      <td>1</td>\n",
       "    </tr>\n",
       "    <tr>\n",
       "      <th>3</th>\n",
       "      <td>robert altmans cookies fortune is that rare mo...</td>\n",
       "      <td>1</td>\n",
       "    </tr>\n",
       "    <tr>\n",
       "      <th>4</th>\n",
       "      <td>well ill be damned the canadians can make a go...</td>\n",
       "      <td>1</td>\n",
       "    </tr>\n",
       "  </tbody>\n",
       "</table>\n",
       "</div>"
      ],
      "text/plain": [
       "                                          File Input  Label\n",
       "0  in 1912 a ship set sail on her maiden voyage a...      1\n",
       "1  the start of this movie reminded me of parts f...      1\n",
       "2  note some may consider portions of the followi...      1\n",
       "3  robert altmans cookies fortune is that rare mo...      1\n",
       "4  well ill be damned the canadians can make a go...      1"
      ]
     },
     "execution_count": 93,
     "metadata": {},
     "output_type": "execute_result"
    }
   ],
   "source": [
    "test_pos.head()"
   ]
  },
  {
   "cell_type": "code",
   "execution_count": 42,
   "id": "4d91067e",
   "metadata": {},
   "outputs": [],
   "source": [
    "test_neg = pd.read_csv('txt_sentoken/neg/test-neg/neg-test-files-labels.csv', index_col = 'Unnamed: 0')"
   ]
  },
  {
   "cell_type": "code",
   "execution_count": 94,
   "id": "3f3a2d3f",
   "metadata": {},
   "outputs": [
    {
     "data": {
      "text/html": [
       "<div>\n",
       "<style scoped>\n",
       "    .dataframe tbody tr th:only-of-type {\n",
       "        vertical-align: middle;\n",
       "    }\n",
       "\n",
       "    .dataframe tbody tr th {\n",
       "        vertical-align: top;\n",
       "    }\n",
       "\n",
       "    .dataframe thead th {\n",
       "        text-align: right;\n",
       "    }\n",
       "</style>\n",
       "<table border=\"1\" class=\"dataframe\">\n",
       "  <thead>\n",
       "    <tr style=\"text-align: right;\">\n",
       "      <th></th>\n",
       "      <th>File Input</th>\n",
       "      <th>Label</th>\n",
       "    </tr>\n",
       "  </thead>\n",
       "  <tbody>\n",
       "    <tr>\n",
       "      <th>0</th>\n",
       "      <td>there may not be a critic alive who harbors as...</td>\n",
       "      <td>0</td>\n",
       "    </tr>\n",
       "    <tr>\n",
       "      <th>1</th>\n",
       "      <td>renee zellweger stars as sonia a young jewish ...</td>\n",
       "      <td>0</td>\n",
       "    </tr>\n",
       "    <tr>\n",
       "      <th>2</th>\n",
       "      <td>therere so many things to criticize about i do...</td>\n",
       "      <td>0</td>\n",
       "    </tr>\n",
       "    <tr>\n",
       "      <th>3</th>\n",
       "      <td>dont let this movie fool you into believing th...</td>\n",
       "      <td>0</td>\n",
       "    </tr>\n",
       "    <tr>\n",
       "      <th>4</th>\n",
       "      <td>its a good thing most animated scifi movies co...</td>\n",
       "      <td>0</td>\n",
       "    </tr>\n",
       "  </tbody>\n",
       "</table>\n",
       "</div>"
      ],
      "text/plain": [
       "                                          File Input  Label\n",
       "0  there may not be a critic alive who harbors as...      0\n",
       "1  renee zellweger stars as sonia a young jewish ...      0\n",
       "2  therere so many things to criticize about i do...      0\n",
       "3  dont let this movie fool you into believing th...      0\n",
       "4  its a good thing most animated scifi movies co...      0"
      ]
     },
     "execution_count": 94,
     "metadata": {},
     "output_type": "execute_result"
    }
   ],
   "source": [
    "test_neg.head()"
   ]
  },
  {
   "cell_type": "code",
   "execution_count": 44,
   "id": "fb6bf8b4",
   "metadata": {},
   "outputs": [
    {
     "data": {
      "text/html": [
       "<div>\n",
       "<style scoped>\n",
       "    .dataframe tbody tr th:only-of-type {\n",
       "        vertical-align: middle;\n",
       "    }\n",
       "\n",
       "    .dataframe tbody tr th {\n",
       "        vertical-align: top;\n",
       "    }\n",
       "\n",
       "    .dataframe thead th {\n",
       "        text-align: right;\n",
       "    }\n",
       "</style>\n",
       "<table border=\"1\" class=\"dataframe\">\n",
       "  <thead>\n",
       "    <tr style=\"text-align: right;\">\n",
       "      <th></th>\n",
       "      <th>File Input</th>\n",
       "      <th>Label</th>\n",
       "    </tr>\n",
       "  </thead>\n",
       "  <tbody>\n",
       "    <tr>\n",
       "      <th>0</th>\n",
       "      <td>there may not be a critic alive who harbors as...</td>\n",
       "      <td>0</td>\n",
       "    </tr>\n",
       "    <tr>\n",
       "      <th>1</th>\n",
       "      <td>renee zellweger stars as sonia a young jewish ...</td>\n",
       "      <td>0</td>\n",
       "    </tr>\n",
       "    <tr>\n",
       "      <th>2</th>\n",
       "      <td>therere so many things to criticize about i do...</td>\n",
       "      <td>0</td>\n",
       "    </tr>\n",
       "    <tr>\n",
       "      <th>3</th>\n",
       "      <td>dont let this movie fool you into believing th...</td>\n",
       "      <td>0</td>\n",
       "    </tr>\n",
       "    <tr>\n",
       "      <th>4</th>\n",
       "      <td>its a good thing most animated scifi movies co...</td>\n",
       "      <td>0</td>\n",
       "    </tr>\n",
       "    <tr>\n",
       "      <th>...</th>\n",
       "      <td>...</td>\n",
       "      <td>...</td>\n",
       "    </tr>\n",
       "    <tr>\n",
       "      <th>95</th>\n",
       "      <td>wow what a movie its everything a movie can be...</td>\n",
       "      <td>1</td>\n",
       "    </tr>\n",
       "    <tr>\n",
       "      <th>96</th>\n",
       "      <td>richard gere can be a commanding actor but hes...</td>\n",
       "      <td>1</td>\n",
       "    </tr>\n",
       "    <tr>\n",
       "      <th>97</th>\n",
       "      <td>glorystarring matthew broderick denzel washing...</td>\n",
       "      <td>1</td>\n",
       "    </tr>\n",
       "    <tr>\n",
       "      <th>98</th>\n",
       "      <td>steven spielbergs second epic film on world wa...</td>\n",
       "      <td>1</td>\n",
       "    </tr>\n",
       "    <tr>\n",
       "      <th>99</th>\n",
       "      <td>truman trueman burbank is the perfect name for...</td>\n",
       "      <td>1</td>\n",
       "    </tr>\n",
       "  </tbody>\n",
       "</table>\n",
       "<p>200 rows × 2 columns</p>\n",
       "</div>"
      ],
      "text/plain": [
       "                                           File Input  Label\n",
       "0   there may not be a critic alive who harbors as...      0\n",
       "1   renee zellweger stars as sonia a young jewish ...      0\n",
       "2   therere so many things to criticize about i do...      0\n",
       "3   dont let this movie fool you into believing th...      0\n",
       "4   its a good thing most animated scifi movies co...      0\n",
       "..                                                ...    ...\n",
       "95  wow what a movie its everything a movie can be...      1\n",
       "96  richard gere can be a commanding actor but hes...      1\n",
       "97  glorystarring matthew broderick denzel washing...      1\n",
       "98  steven spielbergs second epic film on world wa...      1\n",
       "99  truman trueman burbank is the perfect name for...      1\n",
       "\n",
       "[200 rows x 2 columns]"
      ]
     },
     "execution_count": 44,
     "metadata": {},
     "output_type": "execute_result"
    }
   ],
   "source": [
    "# combine whole test set of documents\n",
    "join_test = pd.concat([test_neg, test_pos])\n",
    "join_test"
   ]
  },
  {
   "cell_type": "markdown",
   "id": "49acbd8e",
   "metadata": {},
   "source": [
    "### Next step - removing words not in training vocab"
   ]
  },
  {
   "cell_type": "code",
   "execution_count": 45,
   "id": "b882fd43",
   "metadata": {},
   "outputs": [],
   "source": [
    "input_txt_test = np.array(join_test['File Input'])\n",
    "unknown_rm = []\n",
    "for i in range(len(input_txt_test)):\n",
    "    lst = []\n",
    "    wrds = input_txt_test[i].split()\n",
    "    for j in range(len(wrds)):\n",
    "        if wrds[j] in uniques:\n",
    "            lst.append(wrds[j])\n",
    "        else:\n",
    "            continue\n",
    "    str2 = ' '.join([str(elem) for elem in lst])\n",
    "    unknown_rm.append(str2)"
   ]
  },
  {
   "cell_type": "code",
   "execution_count": 46,
   "id": "db5fd6cc",
   "metadata": {},
   "outputs": [
    {
     "data": {
      "text/plain": [
       "False"
      ]
     },
     "execution_count": 46,
     "metadata": {},
     "output_type": "execute_result"
    }
   ],
   "source": [
    "input_txt_test[0] == unknown_rm[0]"
   ]
  },
  {
   "cell_type": "code",
   "execution_count": 47,
   "id": "e2a59a14",
   "metadata": {},
   "outputs": [
    {
     "data": {
      "text/plain": [
       "481"
      ]
     },
     "execution_count": 47,
     "metadata": {},
     "output_type": "execute_result"
    }
   ],
   "source": [
    "len(input_txt_test[0].split())"
   ]
  },
  {
   "cell_type": "code",
   "execution_count": 48,
   "id": "6c45dd34",
   "metadata": {},
   "outputs": [
    {
     "data": {
      "text/plain": [
       "462"
      ]
     },
     "execution_count": 48,
     "metadata": {},
     "output_type": "execute_result"
    }
   ],
   "source": [
    "len(unknown_rm[0].split())"
   ]
  },
  {
   "cell_type": "code",
   "execution_count": 49,
   "id": "4d2bc6af",
   "metadata": {},
   "outputs": [],
   "source": [
    "# update test file inputs with unknown words removed\n",
    "join_test['File Input'] = unknown_rm"
   ]
  },
  {
   "cell_type": "code",
   "execution_count": 50,
   "id": "a13ae94e",
   "metadata": {},
   "outputs": [
    {
     "data": {
      "text/html": [
       "<div>\n",
       "<style scoped>\n",
       "    .dataframe tbody tr th:only-of-type {\n",
       "        vertical-align: middle;\n",
       "    }\n",
       "\n",
       "    .dataframe tbody tr th {\n",
       "        vertical-align: top;\n",
       "    }\n",
       "\n",
       "    .dataframe thead th {\n",
       "        text-align: right;\n",
       "    }\n",
       "</style>\n",
       "<table border=\"1\" class=\"dataframe\">\n",
       "  <thead>\n",
       "    <tr style=\"text-align: right;\">\n",
       "      <th></th>\n",
       "      <th>Word</th>\n",
       "      <th>FrequencyPositive</th>\n",
       "      <th>FrequencyNegative</th>\n",
       "      <th>ProbabilityPositive</th>\n",
       "      <th>ProbabilityNegative</th>\n",
       "    </tr>\n",
       "  </thead>\n",
       "  <tbody>\n",
       "    <tr>\n",
       "      <th>0</th>\n",
       "      <td>films</td>\n",
       "      <td>1045</td>\n",
       "      <td>828</td>\n",
       "      <td>0.001588</td>\n",
       "      <td>0.001398</td>\n",
       "    </tr>\n",
       "    <tr>\n",
       "      <th>1</th>\n",
       "      <td>adapted</td>\n",
       "      <td>25</td>\n",
       "      <td>14</td>\n",
       "      <td>0.000039</td>\n",
       "      <td>0.000025</td>\n",
       "    </tr>\n",
       "    <tr>\n",
       "      <th>2</th>\n",
       "      <td>from</td>\n",
       "      <td>2418</td>\n",
       "      <td>2032</td>\n",
       "      <td>0.003673</td>\n",
       "      <td>0.003429</td>\n",
       "    </tr>\n",
       "    <tr>\n",
       "      <th>3</th>\n",
       "      <td>comic</td>\n",
       "      <td>200</td>\n",
       "      <td>141</td>\n",
       "      <td>0.000305</td>\n",
       "      <td>0.000239</td>\n",
       "    </tr>\n",
       "    <tr>\n",
       "      <th>4</th>\n",
       "      <td>books</td>\n",
       "      <td>50</td>\n",
       "      <td>23</td>\n",
       "      <td>0.000077</td>\n",
       "      <td>0.000040</td>\n",
       "    </tr>\n",
       "    <tr>\n",
       "      <th>...</th>\n",
       "      <td>...</td>\n",
       "      <td>...</td>\n",
       "      <td>...</td>\n",
       "      <td>...</td>\n",
       "      <td>...</td>\n",
       "    </tr>\n",
       "    <tr>\n",
       "      <th>45236</th>\n",
       "      <td>exspecial</td>\n",
       "      <td>0</td>\n",
       "      <td>1</td>\n",
       "      <td>0.000002</td>\n",
       "      <td>0.000003</td>\n",
       "    </tr>\n",
       "    <tr>\n",
       "      <th>45237</th>\n",
       "      <td>yucked</td>\n",
       "      <td>0</td>\n",
       "      <td>1</td>\n",
       "      <td>0.000002</td>\n",
       "      <td>0.000003</td>\n",
       "    </tr>\n",
       "    <tr>\n",
       "      <th>45238</th>\n",
       "      <td>belch</td>\n",
       "      <td>0</td>\n",
       "      <td>1</td>\n",
       "      <td>0.000002</td>\n",
       "      <td>0.000003</td>\n",
       "    </tr>\n",
       "    <tr>\n",
       "      <th>45239</th>\n",
       "      <td>secondclass</td>\n",
       "      <td>0</td>\n",
       "      <td>1</td>\n",
       "      <td>0.000002</td>\n",
       "      <td>0.000003</td>\n",
       "    </tr>\n",
       "    <tr>\n",
       "      <th>45240</th>\n",
       "      <td>guncrazy</td>\n",
       "      <td>0</td>\n",
       "      <td>1</td>\n",
       "      <td>0.000002</td>\n",
       "      <td>0.000003</td>\n",
       "    </tr>\n",
       "  </tbody>\n",
       "</table>\n",
       "<p>45241 rows × 5 columns</p>\n",
       "</div>"
      ],
      "text/plain": [
       "              Word  FrequencyPositive  FrequencyNegative  ProbabilityPositive  \\\n",
       "0            films               1045                828             0.001588   \n",
       "1          adapted                 25                 14             0.000039   \n",
       "2             from               2418               2032             0.003673   \n",
       "3            comic                200                141             0.000305   \n",
       "4            books                 50                 23             0.000077   \n",
       "...            ...                ...                ...                  ...   \n",
       "45236    exspecial                  0                  1             0.000002   \n",
       "45237       yucked                  0                  1             0.000002   \n",
       "45238        belch                  0                  1             0.000002   \n",
       "45239  secondclass                  0                  1             0.000002   \n",
       "45240     guncrazy                  0                  1             0.000002   \n",
       "\n",
       "       ProbabilityNegative  \n",
       "0                 0.001398  \n",
       "1                 0.000025  \n",
       "2                 0.003429  \n",
       "3                 0.000239  \n",
       "4                 0.000040  \n",
       "...                    ...  \n",
       "45236             0.000003  \n",
       "45237             0.000003  \n",
       "45238             0.000003  \n",
       "45239             0.000003  \n",
       "45240             0.000003  \n",
       "\n",
       "[45241 rows x 5 columns]"
      ]
     },
     "execution_count": 50,
     "metadata": {},
     "output_type": "execute_result"
    }
   ],
   "source": [
    "merged_df"
   ]
  },
  {
   "cell_type": "code",
   "execution_count": 56,
   "id": "c5e08cbe",
   "metadata": {},
   "outputs": [
    {
     "data": {
      "text/plain": [
       "-2.8780526680236895"
      ]
     },
     "execution_count": 56,
     "metadata": {},
     "output_type": "execute_result"
    }
   ],
   "source": [
    "np.log(merged_df['ProbabilityPositive'].max())"
   ]
  },
  {
   "cell_type": "code",
   "execution_count": 57,
   "id": "97fcfcac",
   "metadata": {},
   "outputs": [
    {
     "data": {
      "text/plain": [
       "0.05624418235627288"
      ]
     },
     "execution_count": 57,
     "metadata": {},
     "output_type": "execute_result"
    }
   ],
   "source": [
    "merged_df['ProbabilityPositive'].max()"
   ]
  },
  {
   "cell_type": "code",
   "execution_count": 58,
   "id": "750ea3c7",
   "metadata": {},
   "outputs": [],
   "source": [
    "# using log probabilities for classification\n",
    "merged_df['ProbabilityPositiveLog'] = np.log(merged_df['ProbabilityPositive'])\n",
    "merged_df['ProbabilityNegativeLog'] = np.log(merged_df['ProbabilityNegative'])"
   ]
  },
  {
   "cell_type": "code",
   "execution_count": 59,
   "id": "25a46e2c",
   "metadata": {},
   "outputs": [
    {
     "data": {
      "text/html": [
       "<div>\n",
       "<style scoped>\n",
       "    .dataframe tbody tr th:only-of-type {\n",
       "        vertical-align: middle;\n",
       "    }\n",
       "\n",
       "    .dataframe tbody tr th {\n",
       "        vertical-align: top;\n",
       "    }\n",
       "\n",
       "    .dataframe thead th {\n",
       "        text-align: right;\n",
       "    }\n",
       "</style>\n",
       "<table border=\"1\" class=\"dataframe\">\n",
       "  <thead>\n",
       "    <tr style=\"text-align: right;\">\n",
       "      <th></th>\n",
       "      <th>Word</th>\n",
       "      <th>FrequencyPositive</th>\n",
       "      <th>FrequencyNegative</th>\n",
       "      <th>ProbabilityPositive</th>\n",
       "      <th>ProbabilityNegative</th>\n",
       "      <th>ProbabilityPositiveLog</th>\n",
       "      <th>ProbabilityNegativeLog</th>\n",
       "    </tr>\n",
       "  </thead>\n",
       "  <tbody>\n",
       "    <tr>\n",
       "      <th>0</th>\n",
       "      <td>films</td>\n",
       "      <td>1045</td>\n",
       "      <td>828</td>\n",
       "      <td>0.001588</td>\n",
       "      <td>0.001398</td>\n",
       "      <td>-6.445078</td>\n",
       "      <td>-6.572590</td>\n",
       "    </tr>\n",
       "    <tr>\n",
       "      <th>1</th>\n",
       "      <td>adapted</td>\n",
       "      <td>25</td>\n",
       "      <td>14</td>\n",
       "      <td>0.000039</td>\n",
       "      <td>0.000025</td>\n",
       "      <td>-10.139710</td>\n",
       "      <td>-10.584760</td>\n",
       "    </tr>\n",
       "    <tr>\n",
       "      <th>2</th>\n",
       "      <td>from</td>\n",
       "      <td>2418</td>\n",
       "      <td>2032</td>\n",
       "      <td>0.003673</td>\n",
       "      <td>0.003429</td>\n",
       "      <td>-5.606697</td>\n",
       "      <td>-5.675542</td>\n",
       "    </tr>\n",
       "    <tr>\n",
       "      <th>3</th>\n",
       "      <td>comic</td>\n",
       "      <td>200</td>\n",
       "      <td>141</td>\n",
       "      <td>0.000305</td>\n",
       "      <td>0.000239</td>\n",
       "      <td>-8.094501</td>\n",
       "      <td>-8.336983</td>\n",
       "    </tr>\n",
       "    <tr>\n",
       "      <th>4</th>\n",
       "      <td>books</td>\n",
       "      <td>50</td>\n",
       "      <td>23</td>\n",
       "      <td>0.000077</td>\n",
       "      <td>0.000040</td>\n",
       "      <td>-9.465981</td>\n",
       "      <td>-10.114756</td>\n",
       "    </tr>\n",
       "    <tr>\n",
       "      <th>...</th>\n",
       "      <td>...</td>\n",
       "      <td>...</td>\n",
       "      <td>...</td>\n",
       "      <td>...</td>\n",
       "      <td>...</td>\n",
       "      <td>...</td>\n",
       "      <td>...</td>\n",
       "    </tr>\n",
       "    <tr>\n",
       "      <th>45236</th>\n",
       "      <td>exspecial</td>\n",
       "      <td>0</td>\n",
       "      <td>1</td>\n",
       "      <td>0.000002</td>\n",
       "      <td>0.000003</td>\n",
       "      <td>-13.397806</td>\n",
       "      <td>-12.599663</td>\n",
       "    </tr>\n",
       "    <tr>\n",
       "      <th>45237</th>\n",
       "      <td>yucked</td>\n",
       "      <td>0</td>\n",
       "      <td>1</td>\n",
       "      <td>0.000002</td>\n",
       "      <td>0.000003</td>\n",
       "      <td>-13.397806</td>\n",
       "      <td>-12.599663</td>\n",
       "    </tr>\n",
       "    <tr>\n",
       "      <th>45238</th>\n",
       "      <td>belch</td>\n",
       "      <td>0</td>\n",
       "      <td>1</td>\n",
       "      <td>0.000002</td>\n",
       "      <td>0.000003</td>\n",
       "      <td>-13.397806</td>\n",
       "      <td>-12.599663</td>\n",
       "    </tr>\n",
       "    <tr>\n",
       "      <th>45239</th>\n",
       "      <td>secondclass</td>\n",
       "      <td>0</td>\n",
       "      <td>1</td>\n",
       "      <td>0.000002</td>\n",
       "      <td>0.000003</td>\n",
       "      <td>-13.397806</td>\n",
       "      <td>-12.599663</td>\n",
       "    </tr>\n",
       "    <tr>\n",
       "      <th>45240</th>\n",
       "      <td>guncrazy</td>\n",
       "      <td>0</td>\n",
       "      <td>1</td>\n",
       "      <td>0.000002</td>\n",
       "      <td>0.000003</td>\n",
       "      <td>-13.397806</td>\n",
       "      <td>-12.599663</td>\n",
       "    </tr>\n",
       "  </tbody>\n",
       "</table>\n",
       "<p>45241 rows × 7 columns</p>\n",
       "</div>"
      ],
      "text/plain": [
       "              Word  FrequencyPositive  FrequencyNegative  ProbabilityPositive  \\\n",
       "0            films               1045                828             0.001588   \n",
       "1          adapted                 25                 14             0.000039   \n",
       "2             from               2418               2032             0.003673   \n",
       "3            comic                200                141             0.000305   \n",
       "4            books                 50                 23             0.000077   \n",
       "...            ...                ...                ...                  ...   \n",
       "45236    exspecial                  0                  1             0.000002   \n",
       "45237       yucked                  0                  1             0.000002   \n",
       "45238        belch                  0                  1             0.000002   \n",
       "45239  secondclass                  0                  1             0.000002   \n",
       "45240     guncrazy                  0                  1             0.000002   \n",
       "\n",
       "       ProbabilityNegative  ProbabilityPositiveLog  ProbabilityNegativeLog  \n",
       "0                 0.001398               -6.445078               -6.572590  \n",
       "1                 0.000025              -10.139710              -10.584760  \n",
       "2                 0.003429               -5.606697               -5.675542  \n",
       "3                 0.000239               -8.094501               -8.336983  \n",
       "4                 0.000040               -9.465981              -10.114756  \n",
       "...                    ...                     ...                     ...  \n",
       "45236             0.000003              -13.397806              -12.599663  \n",
       "45237             0.000003              -13.397806              -12.599663  \n",
       "45238             0.000003              -13.397806              -12.599663  \n",
       "45239             0.000003              -13.397806              -12.599663  \n",
       "45240             0.000003              -13.397806              -12.599663  \n",
       "\n",
       "[45241 rows x 7 columns]"
      ]
     },
     "execution_count": 59,
     "metadata": {},
     "output_type": "execute_result"
    }
   ],
   "source": [
    "merged_df"
   ]
  },
  {
   "cell_type": "markdown",
   "id": "7a8ab442",
   "metadata": {},
   "source": [
    "### Calculating document probabilities and polarity labels"
   ]
  },
  {
   "cell_type": "code",
   "execution_count": 60,
   "id": "eb2e275f",
   "metadata": {},
   "outputs": [],
   "source": [
    "# typically takes a while to run this cell\n",
    "input_txt_test = np.array(join_test['File Input'])\n",
    "probabilities_pos = []\n",
    "probabilities_neg = []\n",
    "predictions = []\n",
    "for i in range(len(input_txt_test)):\n",
    "    # prior probability for both is 0.5 as half training docs are pos and half negative\n",
    "    prior_pos = 0.5\n",
    "    prior_neg = 0.5\n",
    "    # split on each word in doc\n",
    "    wrds = input_txt_test[i].split()\n",
    "    for j in range(len(wrds)):\n",
    "        # find positive probability of word from our dataframe of positive and negative probabilities\n",
    "        p = merged_df.loc[merged_df['Word'] == wrds[j]].ProbabilityPositiveLog.item()\n",
    "        # likewise, find negative probability of word from our dataframe of positive and negative probabilities\n",
    "        n = merged_df.loc[merged_df['Word'] == wrds[j]].ProbabilityNegativeLog.item()\n",
    "        # add log probability found by each prior probability (rules of log)\n",
    "        # log(a)+log(b)=log(ab)\n",
    "        prior_pos += p\n",
    "        prior_neg += n\n",
    "    # added these lists in just to double check end results!\n",
    "    probabilities_pos.append(prior_pos)\n",
    "    probabilities_neg.append(prior_neg)\n",
    "    # if prior probability in end is greater than negative assign label 1 (positive)\n",
    "    if prior_pos > prior_neg:\n",
    "        predictions.append(1)\n",
    "    elif prior_pos < prior_neg:\n",
    "        predictions.append(0)\n",
    "    # handle equal values if they occur (very unlikely but just in case)\n",
    "    else:\n",
    "        predictions.append(-1)"
   ]
  },
  {
   "cell_type": "code",
   "execution_count": 61,
   "id": "67cc2cfd",
   "metadata": {},
   "outputs": [
    {
     "data": {
      "text/plain": [
       "200"
      ]
     },
     "execution_count": 61,
     "metadata": {},
     "output_type": "execute_result"
    }
   ],
   "source": [
    "len(predictions)"
   ]
  },
  {
   "cell_type": "code",
   "execution_count": 62,
   "id": "3ab15a2e",
   "metadata": {},
   "outputs": [],
   "source": [
    "#probabilities_neg"
   ]
  },
  {
   "cell_type": "code",
   "execution_count": 63,
   "id": "0eea4a92",
   "metadata": {},
   "outputs": [],
   "source": [
    "join_test['Predictions'] = predictions\n",
    "join_test['ProbPosNormal'] = probabilities_pos\n",
    "join_test['ProbNegNormal'] = probabilities_neg"
   ]
  },
  {
   "cell_type": "markdown",
   "id": "0da318dd",
   "metadata": {},
   "source": [
    "## Evaluation"
   ]
  },
  {
   "cell_type": "code",
   "execution_count": 66,
   "id": "7daddb41",
   "metadata": {},
   "outputs": [],
   "source": [
    "pred = np.array(join_test['Predictions'])\n",
    "actual = np.array(join_test['Label'])\n",
    "count = 0\n",
    "for i in range(len(pred)):\n",
    "    # check if prediction is equal to actual label and add count + 1 if this is true\n",
    "    if pred[i] == actual[i]:\n",
    "        count += 1\n",
    "    else:\n",
    "        continue"
   ]
  },
  {
   "cell_type": "code",
   "execution_count": 67,
   "id": "19ab5712",
   "metadata": {},
   "outputs": [
    {
     "name": "stdout",
     "output_type": "stream",
     "text": [
      "Accuracy of Naive Bayes Classifier with no stop word removal is 0.835\n"
     ]
    }
   ],
   "source": [
    "accc = (count / len(pred))\n",
    "print('Accuracy of Naive Bayes Classifier with no stop word removal is ' + str(accc))"
   ]
  },
  {
   "cell_type": "code",
   "execution_count": 87,
   "id": "d07488e7",
   "metadata": {},
   "outputs": [
    {
     "name": "stdout",
     "output_type": "stream",
     "text": [
      "Precision of Naive-Bayes without stop word removal is: 0.845\n"
     ]
    }
   ],
   "source": [
    "from sklearn.metrics import precision_score\n",
    "precision = precision_score(actual, pred)\n",
    "print('Precision of Naive-Bayes without stop word removal is: %.3f' % precision)"
   ]
  },
  {
   "cell_type": "code",
   "execution_count": 88,
   "id": "277d3d62",
   "metadata": {},
   "outputs": [
    {
     "name": "stdout",
     "output_type": "stream",
     "text": [
      "Recall of Naive-Bayes without stop word removal is: 0.820\n"
     ]
    }
   ],
   "source": [
    "from sklearn.metrics import recall_score\n",
    "recall = recall_score(actual, pred)\n",
    "print('Recall of Naive-Bayes without stop word removal is: %.3f' % recall)"
   ]
  },
  {
   "cell_type": "code",
   "execution_count": 95,
   "id": "75d5efe4",
   "metadata": {},
   "outputs": [
    {
     "data": {
      "text/html": [
       "<div>\n",
       "<style scoped>\n",
       "    .dataframe tbody tr th:only-of-type {\n",
       "        vertical-align: middle;\n",
       "    }\n",
       "\n",
       "    .dataframe tbody tr th {\n",
       "        vertical-align: top;\n",
       "    }\n",
       "\n",
       "    .dataframe thead th {\n",
       "        text-align: right;\n",
       "    }\n",
       "</style>\n",
       "<table border=\"1\" class=\"dataframe\">\n",
       "  <thead>\n",
       "    <tr style=\"text-align: right;\">\n",
       "      <th></th>\n",
       "      <th>Word</th>\n",
       "      <th>FrequencyPositive</th>\n",
       "      <th>FrequencyNegative</th>\n",
       "      <th>ProbabilityPositive</th>\n",
       "      <th>ProbabilityNegative</th>\n",
       "      <th>ProbabilityPositiveLog</th>\n",
       "      <th>ProbabilityNegativeLog</th>\n",
       "      <th>TotalCounts</th>\n",
       "    </tr>\n",
       "  </thead>\n",
       "  <tbody>\n",
       "    <tr>\n",
       "      <th>22</th>\n",
       "      <td>the</td>\n",
       "      <td>37039</td>\n",
       "      <td>31356</td>\n",
       "      <td>0.056244</td>\n",
       "      <td>0.052886</td>\n",
       "      <td>-2.878053</td>\n",
       "      <td>-2.939617</td>\n",
       "      <td>68395</td>\n",
       "    </tr>\n",
       "    <tr>\n",
       "      <th>32</th>\n",
       "      <td>a</td>\n",
       "      <td>18134</td>\n",
       "      <td>16031</td>\n",
       "      <td>0.027537</td>\n",
       "      <td>0.027039</td>\n",
       "      <td>-3.592207</td>\n",
       "      <td>-3.610468</td>\n",
       "      <td>34165</td>\n",
       "    </tr>\n",
       "    <tr>\n",
       "      <th>45</th>\n",
       "      <td>and</td>\n",
       "      <td>17695</td>\n",
       "      <td>13953</td>\n",
       "      <td>0.026871</td>\n",
       "      <td>0.023534</td>\n",
       "      <td>-3.616712</td>\n",
       "      <td>-3.749288</td>\n",
       "      <td>31648</td>\n",
       "    </tr>\n",
       "    <tr>\n",
       "      <th>8</th>\n",
       "      <td>of</td>\n",
       "      <td>16623</td>\n",
       "      <td>13797</td>\n",
       "      <td>0.025243</td>\n",
       "      <td>0.023271</td>\n",
       "      <td>-3.679204</td>\n",
       "      <td>-3.760531</td>\n",
       "      <td>30420</td>\n",
       "    </tr>\n",
       "    <tr>\n",
       "      <th>51</th>\n",
       "      <td>to</td>\n",
       "      <td>14729</td>\n",
       "      <td>13778</td>\n",
       "      <td>0.022367</td>\n",
       "      <td>0.023239</td>\n",
       "      <td>-3.800165</td>\n",
       "      <td>-3.761909</td>\n",
       "      <td>28507</td>\n",
       "    </tr>\n",
       "  </tbody>\n",
       "</table>\n",
       "</div>"
      ],
      "text/plain": [
       "   Word  FrequencyPositive  FrequencyNegative  ProbabilityPositive  \\\n",
       "22  the              37039              31356             0.056244   \n",
       "32    a              18134              16031             0.027537   \n",
       "45  and              17695              13953             0.026871   \n",
       "8    of              16623              13797             0.025243   \n",
       "51   to              14729              13778             0.022367   \n",
       "\n",
       "    ProbabilityNegative  ProbabilityPositiveLog  ProbabilityNegativeLog  \\\n",
       "22             0.052886               -2.878053               -2.939617   \n",
       "32             0.027039               -3.592207               -3.610468   \n",
       "45             0.023534               -3.616712               -3.749288   \n",
       "8              0.023271               -3.679204               -3.760531   \n",
       "51             0.023239               -3.800165               -3.761909   \n",
       "\n",
       "    TotalCounts  \n",
       "22        68395  \n",
       "32        34165  \n",
       "45        31648  \n",
       "8         30420  \n",
       "51        28507  "
      ]
     },
     "execution_count": 95,
     "metadata": {},
     "output_type": "execute_result"
    }
   ],
   "source": [
    "merged_df.head()"
   ]
  },
  {
   "cell_type": "markdown",
   "id": "7afc374c",
   "metadata": {},
   "source": [
    "### Let's try remove stop words and see does this improve our NB classifier\n",
    "\n",
    "We will take the top 50 most frequent words and remove these."
   ]
  },
  {
   "cell_type": "code",
   "execution_count": 69,
   "id": "f605dbb0",
   "metadata": {},
   "outputs": [],
   "source": [
    "# get total counts of words from both positive and negative documents to help pinpoint stop words\n",
    "freq_p = np.array(merged_df['FrequencyPositive'])\n",
    "freq_n = np.array(merged_df['FrequencyNegative'])\n",
    "count_all = []\n",
    "for i in range(len(freq_p)):\n",
    "    num = freq_p[i] + freq_n[i]\n",
    "    count_all.append(num)"
   ]
  },
  {
   "cell_type": "code",
   "execution_count": 70,
   "id": "ac1da587",
   "metadata": {},
   "outputs": [],
   "source": [
    "#count_all"
   ]
  },
  {
   "cell_type": "code",
   "execution_count": 71,
   "id": "7f4dc40d",
   "metadata": {},
   "outputs": [],
   "source": [
    "merged_df['TotalCounts'] = count_all"
   ]
  },
  {
   "cell_type": "code",
   "execution_count": 72,
   "id": "1290fc09",
   "metadata": {},
   "outputs": [
    {
     "data": {
      "text/html": [
       "<div>\n",
       "<style scoped>\n",
       "    .dataframe tbody tr th:only-of-type {\n",
       "        vertical-align: middle;\n",
       "    }\n",
       "\n",
       "    .dataframe tbody tr th {\n",
       "        vertical-align: top;\n",
       "    }\n",
       "\n",
       "    .dataframe thead th {\n",
       "        text-align: right;\n",
       "    }\n",
       "</style>\n",
       "<table border=\"1\" class=\"dataframe\">\n",
       "  <thead>\n",
       "    <tr style=\"text-align: right;\">\n",
       "      <th></th>\n",
       "      <th>Word</th>\n",
       "      <th>FrequencyPositive</th>\n",
       "      <th>FrequencyNegative</th>\n",
       "      <th>ProbabilityPositive</th>\n",
       "      <th>ProbabilityNegative</th>\n",
       "      <th>ProbabilityPositiveLog</th>\n",
       "      <th>ProbabilityNegativeLog</th>\n",
       "      <th>TotalCounts</th>\n",
       "    </tr>\n",
       "  </thead>\n",
       "  <tbody>\n",
       "    <tr>\n",
       "      <th>0</th>\n",
       "      <td>films</td>\n",
       "      <td>1045</td>\n",
       "      <td>828</td>\n",
       "      <td>0.001588</td>\n",
       "      <td>0.001398</td>\n",
       "      <td>-6.445078</td>\n",
       "      <td>-6.572590</td>\n",
       "      <td>1873</td>\n",
       "    </tr>\n",
       "    <tr>\n",
       "      <th>1</th>\n",
       "      <td>adapted</td>\n",
       "      <td>25</td>\n",
       "      <td>14</td>\n",
       "      <td>0.000039</td>\n",
       "      <td>0.000025</td>\n",
       "      <td>-10.139710</td>\n",
       "      <td>-10.584760</td>\n",
       "      <td>39</td>\n",
       "    </tr>\n",
       "    <tr>\n",
       "      <th>2</th>\n",
       "      <td>from</td>\n",
       "      <td>2418</td>\n",
       "      <td>2032</td>\n",
       "      <td>0.003673</td>\n",
       "      <td>0.003429</td>\n",
       "      <td>-5.606697</td>\n",
       "      <td>-5.675542</td>\n",
       "      <td>4450</td>\n",
       "    </tr>\n",
       "    <tr>\n",
       "      <th>3</th>\n",
       "      <td>comic</td>\n",
       "      <td>200</td>\n",
       "      <td>141</td>\n",
       "      <td>0.000305</td>\n",
       "      <td>0.000239</td>\n",
       "      <td>-8.094501</td>\n",
       "      <td>-8.336983</td>\n",
       "      <td>341</td>\n",
       "    </tr>\n",
       "    <tr>\n",
       "      <th>4</th>\n",
       "      <td>books</td>\n",
       "      <td>50</td>\n",
       "      <td>23</td>\n",
       "      <td>0.000077</td>\n",
       "      <td>0.000040</td>\n",
       "      <td>-9.465981</td>\n",
       "      <td>-10.114756</td>\n",
       "      <td>73</td>\n",
       "    </tr>\n",
       "  </tbody>\n",
       "</table>\n",
       "</div>"
      ],
      "text/plain": [
       "      Word  FrequencyPositive  FrequencyNegative  ProbabilityPositive  \\\n",
       "0    films               1045                828             0.001588   \n",
       "1  adapted                 25                 14             0.000039   \n",
       "2     from               2418               2032             0.003673   \n",
       "3    comic                200                141             0.000305   \n",
       "4    books                 50                 23             0.000077   \n",
       "\n",
       "   ProbabilityNegative  ProbabilityPositiveLog  ProbabilityNegativeLog  \\\n",
       "0             0.001398               -6.445078               -6.572590   \n",
       "1             0.000025              -10.139710              -10.584760   \n",
       "2             0.003429               -5.606697               -5.675542   \n",
       "3             0.000239               -8.094501               -8.336983   \n",
       "4             0.000040               -9.465981              -10.114756   \n",
       "\n",
       "   TotalCounts  \n",
       "0         1873  \n",
       "1           39  \n",
       "2         4450  \n",
       "3          341  \n",
       "4           73  "
      ]
     },
     "execution_count": 72,
     "metadata": {},
     "output_type": "execute_result"
    }
   ],
   "source": [
    "merged_df.head()"
   ]
  },
  {
   "cell_type": "code",
   "execution_count": 73,
   "id": "f71496dd",
   "metadata": {},
   "outputs": [],
   "source": [
    "merged_df = merged_df.sort_values(by=['TotalCounts'], ascending=False)"
   ]
  },
  {
   "cell_type": "code",
   "execution_count": 74,
   "id": "1e45eaf3",
   "metadata": {},
   "outputs": [],
   "source": [
    "stop_words = merged_df.loc[merged_df['TotalCounts'] >= 1000][:50]\n",
    "#stop_words"
   ]
  },
  {
   "cell_type": "code",
   "execution_count": 75,
   "id": "f4f0c08d",
   "metadata": {},
   "outputs": [],
   "source": [
    "stop_words_rm = list(stop_words['Word'])\n",
    "test_input_stop = np.array(join_test['File Input'])\n",
    "rm_stp_words = []\n",
    "for i in range(len(test_input_stop)):\n",
    "    wrds = test_input_stop[i].split()\n",
    "    filtered = []\n",
    "    for j in range(len(wrds)):\n",
    "        if wrds[j] not in stop_words_rm:\n",
    "            filtered.append(wrds[j])\n",
    "        else:\n",
    "            continue\n",
    "    str2 = ' '.join([str(elem) for elem in filtered])\n",
    "    rm_stp_words.append(str2)"
   ]
  },
  {
   "cell_type": "code",
   "execution_count": 76,
   "id": "cd261cef",
   "metadata": {},
   "outputs": [],
   "source": [
    "join_test['File Input'] = rm_stp_words"
   ]
  },
  {
   "cell_type": "code",
   "execution_count": 77,
   "id": "6837dd6a",
   "metadata": {},
   "outputs": [],
   "source": [
    "# typically takes a while to run this cell\n",
    "# let's now get our classifications for our documents with stop words removed\n",
    "input_txt_test = np.array(join_test['File Input'])\n",
    "probabilities_pos = []\n",
    "probabilities_neg = []\n",
    "predictions = []\n",
    "for i in range(len(input_txt_test)):\n",
    "    # prior probability for both is 0.5 as half training docs are pos and half negative\n",
    "    prior_pos = 0.5\n",
    "    prior_neg = 0.5\n",
    "    # split on each word in doc\n",
    "    wrds = input_txt_test[i].split()\n",
    "    for j in range(len(wrds)):\n",
    "        # find positive probability of word from our dataframe of positive and negative probabilities\n",
    "        p = merged_df.loc[merged_df['Word'] == wrds[j]].ProbabilityPositiveLog.item()\n",
    "        # likewise, find negative probability of word from our dataframe of positive and negative probabilities\n",
    "        n = merged_df.loc[merged_df['Word'] == wrds[j]].ProbabilityNegativeLog.item()\n",
    "        # add log probability found by each prior probability (rules of log)\n",
    "        # log(a)+log(b)=log(ab)\n",
    "        prior_pos += p\n",
    "        prior_neg += n\n",
    "    # added these lists in just to double check end results!\n",
    "    probabilities_pos.append(prior_pos)\n",
    "    probabilities_neg.append(prior_neg)\n",
    "    # if prior probability in end is greater than negative assign label 1 (positive)\n",
    "    if prior_pos > prior_neg:\n",
    "        predictions.append(1)\n",
    "    elif prior_pos < prior_neg:\n",
    "        predictions.append(0)\n",
    "    # handle equal values if they occur\n",
    "    else:\n",
    "        predictions.append(-1)"
   ]
  },
  {
   "cell_type": "code",
   "execution_count": 78,
   "id": "cacf8129",
   "metadata": {},
   "outputs": [],
   "source": [
    "join_test['PredictionsStopRemoved'] = predictions"
   ]
  },
  {
   "cell_type": "code",
   "execution_count": 79,
   "id": "65006357",
   "metadata": {},
   "outputs": [],
   "source": [
    "pred_stop = np.array(join_test['PredictionsStopRemoved'])\n",
    "actual = np.array(join_test['Label'])\n",
    "count_stop = 0\n",
    "for i in range(len(pred_stop)):\n",
    "    if pred_stop[i] == actual[i]:\n",
    "        count_stop += 1\n",
    "    else:\n",
    "        continue"
   ]
  },
  {
   "cell_type": "code",
   "execution_count": 80,
   "id": "96dc9b82",
   "metadata": {},
   "outputs": [
    {
     "name": "stdout",
     "output_type": "stream",
     "text": [
      "Accuracy of Naive Bayes Classifier with stop words removed is 0.825\n"
     ]
    }
   ],
   "source": [
    "accc_stop = (count_stop / len(pred_stop))\n",
    "print('Accuracy of Naive Bayes Classifier with stop words removed is ' + str(accc_stop))"
   ]
  },
  {
   "cell_type": "code",
   "execution_count": 89,
   "id": "c32ea427",
   "metadata": {},
   "outputs": [
    {
     "name": "stdout",
     "output_type": "stream",
     "text": [
      "Precision of Naive-Bayes with stop word removal is: 0.857\n"
     ]
    }
   ],
   "source": [
    "precision1 = precision_score(actual, pred_stop)\n",
    "print('Precision of Naive-Bayes with stop word removal is: %.3f' % precision1)"
   ]
  },
  {
   "cell_type": "code",
   "execution_count": 90,
   "id": "056821f3",
   "metadata": {},
   "outputs": [
    {
     "name": "stdout",
     "output_type": "stream",
     "text": [
      "Recall of Naive-Bayes with stop word removal is: 0.780\n"
     ]
    }
   ],
   "source": [
    "recall1 = recall_score(actual, pred_stop)\n",
    "print('Recall of Naive-Bayes with stop word removal is: %.3f' % recall1)"
   ]
  },
  {
   "cell_type": "code",
   "execution_count": 81,
   "id": "f8e868b1",
   "metadata": {},
   "outputs": [],
   "source": [
    "#join_test.to_csv('analysis-data.csv')"
   ]
  },
  {
   "cell_type": "code",
   "execution_count": 82,
   "id": "dd35b064",
   "metadata": {},
   "outputs": [],
   "source": [
    "#merged_df.to_csv('word-probs.csv')"
   ]
  }
 ],
 "metadata": {
  "kernelspec": {
   "display_name": "Python 3 (ipykernel)",
   "language": "python",
   "name": "python3"
  },
  "language_info": {
   "codemirror_mode": {
    "name": "ipython",
    "version": 3
   },
   "file_extension": ".py",
   "mimetype": "text/x-python",
   "name": "python",
   "nbconvert_exporter": "python",
   "pygments_lexer": "ipython3",
   "version": "3.8.12"
  }
 },
 "nbformat": 4,
 "nbformat_minor": 5
}
