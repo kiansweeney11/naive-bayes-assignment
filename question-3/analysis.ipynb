{
 "cells": [
  {
   "cell_type": "code",
   "execution_count": 1,
   "id": "e55c4bff",
   "metadata": {},
   "outputs": [],
   "source": [
    "import pandas as pd"
   ]
  },
  {
   "cell_type": "code",
   "execution_count": 2,
   "id": "d5286648",
   "metadata": {},
   "outputs": [
    {
     "data": {
      "text/html": [
       "<div>\n",
       "<style scoped>\n",
       "    .dataframe tbody tr th:only-of-type {\n",
       "        vertical-align: middle;\n",
       "    }\n",
       "\n",
       "    .dataframe tbody tr th {\n",
       "        vertical-align: top;\n",
       "    }\n",
       "\n",
       "    .dataframe thead th {\n",
       "        text-align: right;\n",
       "    }\n",
       "</style>\n",
       "<table border=\"1\" class=\"dataframe\">\n",
       "  <thead>\n",
       "    <tr style=\"text-align: right;\">\n",
       "      <th></th>\n",
       "      <th>File Input</th>\n",
       "      <th>Label</th>\n",
       "      <th>Predictions</th>\n",
       "      <th>ProbPosNormal</th>\n",
       "      <th>ProbNegNormal</th>\n",
       "      <th>PredictionsStopRemoved</th>\n",
       "    </tr>\n",
       "  </thead>\n",
       "  <tbody>\n",
       "    <tr>\n",
       "      <th>0</th>\n",
       "      <td>there may critic alive harbors much affection ...</td>\n",
       "      <td>0</td>\n",
       "      <td>0</td>\n",
       "      <td>-3504.131836</td>\n",
       "      <td>-3462.060583</td>\n",
       "      <td>0</td>\n",
       "    </tr>\n",
       "    <tr>\n",
       "      <th>1</th>\n",
       "      <td>renee zellweger stars young jewish wife mother...</td>\n",
       "      <td>0</td>\n",
       "      <td>1</td>\n",
       "      <td>-2053.102410</td>\n",
       "      <td>-2056.606503</td>\n",
       "      <td>1</td>\n",
       "    </tr>\n",
       "    <tr>\n",
       "      <th>2</th>\n",
       "      <td>many things criticize dont know where start re...</td>\n",
       "      <td>0</td>\n",
       "      <td>0</td>\n",
       "      <td>-4577.031106</td>\n",
       "      <td>-4532.844221</td>\n",
       "      <td>0</td>\n",
       "    </tr>\n",
       "    <tr>\n",
       "      <th>3</th>\n",
       "      <td>dont let fool into believing romantic william ...</td>\n",
       "      <td>0</td>\n",
       "      <td>1</td>\n",
       "      <td>-2047.445251</td>\n",
       "      <td>-2048.744317</td>\n",
       "      <td>1</td>\n",
       "    </tr>\n",
       "    <tr>\n",
       "      <th>4</th>\n",
       "      <td>good thing most animated scifi movies come jap...</td>\n",
       "      <td>0</td>\n",
       "      <td>1</td>\n",
       "      <td>-1383.697672</td>\n",
       "      <td>-1383.727814</td>\n",
       "      <td>1</td>\n",
       "    </tr>\n",
       "  </tbody>\n",
       "</table>\n",
       "</div>"
      ],
      "text/plain": [
       "                                          File Input  Label  Predictions  \\\n",
       "0  there may critic alive harbors much affection ...      0            0   \n",
       "1  renee zellweger stars young jewish wife mother...      0            1   \n",
       "2  many things criticize dont know where start re...      0            0   \n",
       "3  dont let fool into believing romantic william ...      0            1   \n",
       "4  good thing most animated scifi movies come jap...      0            1   \n",
       "\n",
       "   ProbPosNormal  ProbNegNormal  PredictionsStopRemoved  \n",
       "0   -3504.131836   -3462.060583                       0  \n",
       "1   -2053.102410   -2056.606503                       1  \n",
       "2   -4577.031106   -4532.844221                       0  \n",
       "3   -2047.445251   -2048.744317                       1  \n",
       "4   -1383.697672   -1383.727814                       1  "
      ]
     },
     "execution_count": 2,
     "metadata": {},
     "output_type": "execute_result"
    }
   ],
   "source": [
    "analysis1 = pd.read_csv('analysis-data.csv', index_col = 'Unnamed: 0')\n",
    "analysis1 = analysis1.reset_index(drop=True)\n",
    "analysis1.head()"
   ]
  },
  {
   "cell_type": "markdown",
   "id": "4ee1ec77",
   "metadata": {},
   "source": [
    "## Incorrect Predictions - Analysis"
   ]
  },
  {
   "cell_type": "code",
   "execution_count": 7,
   "id": "27c72c75",
   "metadata": {},
   "outputs": [
    {
     "data": {
      "text/html": [
       "<div>\n",
       "<style scoped>\n",
       "    .dataframe tbody tr th:only-of-type {\n",
       "        vertical-align: middle;\n",
       "    }\n",
       "\n",
       "    .dataframe tbody tr th {\n",
       "        vertical-align: top;\n",
       "    }\n",
       "\n",
       "    .dataframe thead th {\n",
       "        text-align: right;\n",
       "    }\n",
       "</style>\n",
       "<table border=\"1\" class=\"dataframe\">\n",
       "  <thead>\n",
       "    <tr style=\"text-align: right;\">\n",
       "      <th></th>\n",
       "      <th>Word</th>\n",
       "      <th>FrequencyPositive</th>\n",
       "      <th>FrequencyNegative</th>\n",
       "      <th>ProbabilityPositive</th>\n",
       "      <th>ProbabilityNegative</th>\n",
       "      <th>ProbabilityPositiveLog</th>\n",
       "      <th>ProbabilityNegativeLog</th>\n",
       "      <th>TotalCounts</th>\n",
       "    </tr>\n",
       "  </thead>\n",
       "  <tbody>\n",
       "    <tr>\n",
       "      <th>22</th>\n",
       "      <td>the</td>\n",
       "      <td>37039</td>\n",
       "      <td>31356</td>\n",
       "      <td>0.056244</td>\n",
       "      <td>0.052886</td>\n",
       "      <td>-2.878053</td>\n",
       "      <td>-2.939617</td>\n",
       "      <td>68395</td>\n",
       "    </tr>\n",
       "  </tbody>\n",
       "</table>\n",
       "</div>"
      ],
      "text/plain": [
       "   Word  FrequencyPositive  FrequencyNegative  ProbabilityPositive  \\\n",
       "22  the              37039              31356             0.056244   \n",
       "\n",
       "    ProbabilityNegative  ProbabilityPositiveLog  ProbabilityNegativeLog  \\\n",
       "22             0.052886               -2.878053               -2.939617   \n",
       "\n",
       "    TotalCounts  \n",
       "22        68395  "
      ]
     },
     "execution_count": 7,
     "metadata": {},
     "output_type": "execute_result"
    }
   ],
   "source": [
    "# load in word probabilities just for analysis validation if we want to focus in on a word\n",
    "probs1 = pd.read_csv('word-probs.csv', index_col = 'Unnamed: 0')\n",
    "probs1.head(1)"
   ]
  },
  {
   "cell_type": "markdown",
   "id": "af1bc4f7",
   "metadata": {},
   "source": [
    "Let's look at a set of these results now looking at incorrect predictions first. We will study 5 of these incorrect results in total as part of our analysis."
   ]
  },
  {
   "cell_type": "markdown",
   "id": "528b2f82",
   "metadata": {},
   "source": [
    "### Incorrect Prediction 1\n",
    "\n",
    "##### File Input\n",
    "\n",
    "***its a sad state of affairs when the back box blurb is more exciting than the movie contained within it such is the case for the 1990 paul mayersberg film the last samurai though the blurb alludes to a jungle filled with political intrigue uneasy alliances and murderous enemies at every turn the story of the movie is actually quite simple and prosaic a middleaged japanese businessman named endo played by john fujioka and his assistant both of whom have samurai aspirations travel to africa in search of his ancestor who went to bring buddhism to africa he hires the services of downattheheels vietnam veteran pilot johnny congo the redoubtable lance henriksen and his girlfriend arabella holzbog and travels to the camp of an armsmerchantcumsafarihost cumislamicmissionary john saxon and his wife lisa eilbacher they are all kidnapped by an african revolutionary guerilla with witchdoctor aspirations to conceal a prearranged arms deal which subsequently falls through congo escapes finds endos ancestors sword and comes back guns blazing to free the rest of them and endo kills the revolutionary with the sword the end the last samurai is one of those movies that is neither bad enough nor good enough to be enjoyable it is merely there the murky plot is filled with subtexts that are never elaborated subplots that are never explained and many scenes that make very little sense at all the film is shot through with all the tired old inscrutable japanese samurai and zen stereotypes that are to be expected from an american movie it is quite slowpaced with only a bit of action near the end and the final duel between endo and the terrorist is quite anticlimactic most of the acting is fair with the possible exception of congos girlfriend lance henriksen is his usual scenechewing self and is one of few possible reasons anyone might conceivably have for seeing this movie the only other bright spot is the sweeping african scenery i paid 3 for this film from the discount rack at best buy and halfway suspect i overpaid for it if you are in the mood for samurai read a clavell novel or watch a kurusawa movie skip the last samurai unless you are a diehard henriksen fan***"
   ]
  },
  {
   "cell_type": "markdown",
   "id": "12301131",
   "metadata": {},
   "source": [
    "### Incorrect Prediction 1 Analysis\n",
    "Looking at our first incorrect prediction, it is based on a film review of \"The Last Samurai\" and our Naive-Bayes classifier wrongly classifies it as positive when it is indeed negative. Examining the full text of the file immediately I can identify a phrase the classifier would have wrongly interpreted as positive, this being:\n",
    "\n",
    "***is more exciting***\n",
    "\n",
    "Without context this is an overwhelmingly positive phrase in which the positive probability would score highly. The context here being the sentence begins with the it being \"a sad state of affairs\" when the movie lacks excitement. The next few sentences contain uncommon names and phrases that would be neutral looking on the onside with regards to positive / negative sentiment. Another set of words I feel that might skew the probability slightly towards positive classification are:\n",
    "\n",
    "***good enough to be enjoyable***\n",
    "\n",
    "Despite the presence of \"nor\" just before this phrase taken in isolation this phrase would be seen as positive without doubt. The rest of this sentence is also very clearly negative sentiment but this part of the phrase would definitely be seen as positive. I feel also looking at the text stop words play a key word in helping identify the sentiment. They bring us on to the writers main points and help direct the negative sentiment more accurately. Looking at how the Naive-Bayes polarity classifier works here in that it focuses on the frequency of the word this may help tell us why this document was wrongly classified."
   ]
  },
  {
   "cell_type": "markdown",
   "id": "e9946572",
   "metadata": {},
   "source": [
    "### Incorrect Prediction 2"
   ]
  },
  {
   "cell_type": "markdown",
   "id": "d7eb1219",
   "metadata": {},
   "source": [
    "##### File Input\n",
    "\n",
    "***set in harlem during the great depression rival gangster families go to war over control of the numbers an illegal gambling lottery runners take bets from potential lottery winners and deliver them to private locations for drawings the undisputed leader of the harlem numbers is the madame queen cicely tyson who is challenged by dutch schulz tim roth a ruthless hoodlum by turning against the queen dutch defies his partner the infamous lucky luciano andy garcia who wishes to respect the queen and keep the peace the queens army strengthens when an acquaintance ellsworth bumpy johnson lawrence fishburne is released from prison and becomes a bodyguard for her he proves himself worthy in short time as he thwarts an assassination attempt on himself and the queen and later takes control of the queens army when she is jailed for tax evasion bumpys reign is not as restrained and subdued as the queen and he declares all out war on dutch bloody gang warfare ensues bumpy faces many obstacles during his reign his new army questions his methods his girlfriend vanessa l williams and the queen disagree with his violent solutions most importantly in his eyes dutch has become a more formidable foe than he imagined and seeks help from lucky luciano to assassinate him there have been so many movies dealing with organized crime that it must be hard to write an original story dealing with it this movie is not original at all in fact i was angered by how many similarities there was between this film and arguably the best gangster movie of all time the godfather if you are going to borrow ideas from another movie and not give credit why not borrow from a lesser known movie say millers crossing how could the credited screenwriter chris brancato not give credit to mario puzo himself here are just some of the major similarities i stopped counting at 10 crooked cop assaults blood relative of the leader gang extracts revenge on crooked cop wife or girlfriend questions her partners murderous activities and leaves him high ranking officer betrays the leader blood relative of the leader murdered war erupting between the families highranking officer disapproves of the leader in front of other family members new leader runs family differently from previous leader large meeting with all families involved the setup in this movie is done rather well i enjoyed the portrayal of the network of runners sprinting through the streets collecting bets for the queens lottery this was the way of life in harlem and most people involved with the queen did so because it was the only way to support their families and put food on the table number running was the only way for the harlem population to find work i also enjoyed the interaction between the angry violent dutch and the calm patient lucky after about the 3040 minute mark all of the similarities with the godfather start appearing one after the other and in short order it was a huge distraction and an insult to my intelligence who was the screenwriter kidding here some of the individual performances were well done andy garcia was very convincing as lucky unfortunately his screen time is reduced to a supporting role tim roth effectively plays the cocky villain much like his roles in the cook the thief his wife and her lover and rob roy the good performances and convincing setup during the first third of the movie do not make up for the lackluster story that follows a couple of coincidences is one thing over a dozen is an insult directed by bill duke ellsworth bumpy johnson lawrence fishburne dutch schultz tim roth lucky luciano andy garcia the queen cicely tyson francine hughes vanessa l williams illinois gordon chi mcbride written by randy turgeon january 22 1998***"
   ]
  },
  {
   "cell_type": "markdown",
   "id": "a2da33b9",
   "metadata": {},
   "source": [
    "### Second Incorrect Prediction Analysis\n",
    "\n",
    "We are once again focusing on an incorrect prediction involving a negative document labelled as positive. This is another movie review but certainly done in a different style to our previous analysis. It has a slightly larger disparity in positive and negative total probabilities here than the previous document, albeit with more unique words. This piece more tells the story of the film for the first half of the text and really is harder to tell which text would sway the positive or negative sentiments our Naive-Bayes classifier detects. The first clearly negative piece of text can be seen here:\n",
    "\n",
    "***this movie is not original at all in fact i was angered by how many similarities there was between this film and arguably the best gangster movie of all time the godfather if you are going to borrow ideas from another movie and not give credit why not borrow from a lesser known movie say millers crossing how could the credited screenwriter chris brancato not give credit to mario puzo himself here are just some of the major similarities i stopped counting at 10***\n",
    "\n",
    "Personally, I think the Naive-Bayes classifier would struggle with picking up some of the quite clear negative sentiment here. Looking at the cells below this clarifies this point further. Three of the four words have higher psoitive probabilities here and overall this phrase \"not original at all\" would be classed as positive. The way Naive-Bayes works, focusing on individual words and their occurrences misses phrases like this and with a relatively small difference in probabilities between positive and negative ratings for this document phrases like this become key."
   ]
  },
  {
   "cell_type": "markdown",
   "id": "2762c3b1",
   "metadata": {},
   "source": [
    "### Incorrect Prediction 3\n",
    "\n",
    "Let's look at positive reviews wrongly labelled as negative."
   ]
  },
  {
   "cell_type": "markdown",
   "id": "47c84dbb",
   "metadata": {},
   "source": [
    "##### File Input\n",
    "\n",
    "***the start of this movie reminded me of parts from the movie stargate people are looking around in an egyptian temple reading about some dangerous thing that is going to destroy earth in the future after a sort of confusing bit involving fakelooking cyborg things the movie jumps into the future and the movie improves by leaps and bounds the basic idea behind the movie is that every once in a while make that every 1000 years or so an evil force comes to destroy earth the things needed to defend against this menace are the four elements of nature plus the fifth element the plot in this movie really isnt that important to the thing though this movie has very good special effects for the most part the technoish music in the background fits the mood very well bruce willis is an illegal taxicab driver in a futuristic new york city one day a lady draped with a few bandages drops down into his trunk this movie is about what happens the plot twists are interesting and the movie never fails to present the viewer with a variety of different locations also there is a fair bit of action in the film particularly towards the end some characters are just plain strange including a highlyenergetic deejay in drag bruce willis does his normal job of blowing things away like he always does the movie is definitely watchable and rarely slows down it is one of those scifi films where youll be saying cool followed by a what the hell i give the fifth element***"
   ]
  },
  {
   "cell_type": "markdown",
   "id": "219f3eb2",
   "metadata": {},
   "source": [
    "### Analysis Incorrect Prediction 3\n",
    "Reading through the full text of this document I feel it can be identified in a few locations where our Naive-Bayes classifier detects negative sentiment. The text used is very online / modern like \"fakelooking cyborg things\" but there is definitely a couple of areas of text I feel the classifier may struggle with. These include sentences such as:\n",
    "\n",
    "***the movie never fails to present the viewer***\n",
    "\n",
    "This use of negation here may struggle to be picked up and as we see below in our cells the word \"fails\" has an overwhelmingly majority in negative probability. In other language models the phrase \"never fails to\" (\"never ceases to\" etc.) could automatically be labelled as positive whereas as discussed earlier in our Naive-Bayes classifier where individual words are focused on we cannot tell the sentiment. Another phrase that could be interpreted as negative is:\n",
    "\n",
    "***where youll be saying cool followed by a what the hell i give the fifth element***\n",
    "\n",
    "Again, what the hell could be wrongly interpreted here as negative. However, in this context the 3 words together share a positive sentiment in that it is an exciting film. Overall, once again it is missing the sentiment behind such phrases that leads to incorrect predictions from our Naive-Bayes classifier."
   ]
  },
  {
   "cell_type": "code",
   "execution_count": 9,
   "id": "ce44ff15",
   "metadata": {},
   "outputs": [
    {
     "data": {
      "text/html": [
       "<div>\n",
       "<style scoped>\n",
       "    .dataframe tbody tr th:only-of-type {\n",
       "        vertical-align: middle;\n",
       "    }\n",
       "\n",
       "    .dataframe tbody tr th {\n",
       "        vertical-align: top;\n",
       "    }\n",
       "\n",
       "    .dataframe thead th {\n",
       "        text-align: right;\n",
       "    }\n",
       "</style>\n",
       "<table border=\"1\" class=\"dataframe\">\n",
       "  <thead>\n",
       "    <tr style=\"text-align: right;\">\n",
       "      <th></th>\n",
       "      <th>Word</th>\n",
       "      <th>FrequencyPositive</th>\n",
       "      <th>FrequencyNegative</th>\n",
       "      <th>ProbabilityPositive</th>\n",
       "      <th>ProbabilityNegative</th>\n",
       "      <th>ProbabilityPositiveLog</th>\n",
       "      <th>ProbabilityNegativeLog</th>\n",
       "      <th>TotalCounts</th>\n",
       "    </tr>\n",
       "  </thead>\n",
       "  <tbody>\n",
       "    <tr>\n",
       "      <th>29</th>\n",
       "      <td>never</td>\n",
       "      <td>640</td>\n",
       "      <td>561</td>\n",
       "      <td>0.000973</td>\n",
       "      <td>0.000948</td>\n",
       "      <td>-6.934777</td>\n",
       "      <td>-6.961308</td>\n",
       "      <td>1201</td>\n",
       "    </tr>\n",
       "  </tbody>\n",
       "</table>\n",
       "</div>"
      ],
      "text/plain": [
       "     Word  FrequencyPositive  FrequencyNegative  ProbabilityPositive  \\\n",
       "29  never                640                561             0.000973   \n",
       "\n",
       "    ProbabilityNegative  ProbabilityPositiveLog  ProbabilityNegativeLog  \\\n",
       "29             0.000948               -6.934777               -6.961308   \n",
       "\n",
       "    TotalCounts  \n",
       "29         1201  "
      ]
     },
     "execution_count": 9,
     "metadata": {},
     "output_type": "execute_result"
    }
   ],
   "source": [
    "probs1.loc[probs1['Word'] == 'never']"
   ]
  },
  {
   "cell_type": "code",
   "execution_count": 10,
   "id": "657c8635",
   "metadata": {},
   "outputs": [
    {
     "data": {
      "text/html": [
       "<div>\n",
       "<style scoped>\n",
       "    .dataframe tbody tr th:only-of-type {\n",
       "        vertical-align: middle;\n",
       "    }\n",
       "\n",
       "    .dataframe tbody tr th {\n",
       "        vertical-align: top;\n",
       "    }\n",
       "\n",
       "    .dataframe thead th {\n",
       "        text-align: right;\n",
       "    }\n",
       "</style>\n",
       "<table border=\"1\" class=\"dataframe\">\n",
       "  <thead>\n",
       "    <tr style=\"text-align: right;\">\n",
       "      <th></th>\n",
       "      <th>Word</th>\n",
       "      <th>FrequencyPositive</th>\n",
       "      <th>FrequencyNegative</th>\n",
       "      <th>ProbabilityPositive</th>\n",
       "      <th>ProbabilityNegative</th>\n",
       "      <th>ProbabilityPositiveLog</th>\n",
       "      <th>ProbabilityNegativeLog</th>\n",
       "      <th>TotalCounts</th>\n",
       "    </tr>\n",
       "  </thead>\n",
       "  <tbody>\n",
       "    <tr>\n",
       "      <th>3491</th>\n",
       "      <td>fails</td>\n",
       "      <td>38</td>\n",
       "      <td>105</td>\n",
       "      <td>0.000059</td>\n",
       "      <td>0.000179</td>\n",
       "      <td>-9.734245</td>\n",
       "      <td>-8.629371</td>\n",
       "      <td>143</td>\n",
       "    </tr>\n",
       "  </tbody>\n",
       "</table>\n",
       "</div>"
      ],
      "text/plain": [
       "       Word  FrequencyPositive  FrequencyNegative  ProbabilityPositive  \\\n",
       "3491  fails                 38                105             0.000059   \n",
       "\n",
       "      ProbabilityNegative  ProbabilityPositiveLog  ProbabilityNegativeLog  \\\n",
       "3491             0.000179               -9.734245               -8.629371   \n",
       "\n",
       "      TotalCounts  \n",
       "3491          143  "
      ]
     },
     "execution_count": 10,
     "metadata": {},
     "output_type": "execute_result"
    }
   ],
   "source": [
    "probs1.loc[probs1['Word'] == 'fails']"
   ]
  },
  {
   "cell_type": "markdown",
   "id": "7a39efc1",
   "metadata": {},
   "source": [
    "### Incorrect Prediction 4"
   ]
  },
  {
   "cell_type": "markdown",
   "id": "dd6a97ee",
   "metadata": {},
   "source": [
    "##### File Input\n",
    "\n",
    "***what do you get when you combine clueless and dumb and dumber to answer the question you get director david mirkins new comedy romy and micheles high school reunion romy white mira sorvino mighty aprhodite and michele weinberger lisa kudrow tvs friends have been inseparable buddies since they graduated from sagebrush high in 1987 however when former classmate heather mooney janeane garafolo the truth about cats and dogs confronts romy about the 10 year reunion she is astounded that she forgot watching pretty woman for the umteenth time they are reminded of how they wouldnt let julia roberts character shop in the expensive stores because of her appearance then it hits them they are not successful what are she and michele going to do romys instant solution is lose some weight off their already slender frames bag a couple of boyfriends and get jobs romy says this will be easy but michele retorts that if it is so easy why hadnt they already done it robin schiffs script keeps the show moving with some nice oneliners one of the best has romy reminiscing about her lifes battle against the bathroom scales i was so lucky getting mono she says looking at her thinnest high school picture that was like the best diet ever the casting for the film is so perfect that one begins to suspect that the leads were chosen and then the script was developed romy and michele use their high school yearbook to discuss the caste system at their high school the films editor david finfer dissolves the stills from the yearbook to live action flashbacks which makes the past come to life at sagebrush high the hierarchy consisted of the a group cheerleaders the b group drama club and the c group nerds romy and michele were none of the above ridiculed as the weirdoes they were constant targets for abuse even though they were quite attractive they had so much fun being together that they did not care about the others that they make their own outlandish clothes helped keep the wall around them complementing romy and micheles lightness is janeane garofalo as the dark pudgy heather mooney heather who invented a new cigarette paper for cigarettes with twice the taste in half the time for the gal on the go has the success and the money that they would like heather was even more of an outsider than they were in high school garofalos onedimensional role is only a side show this is a two person film with the other characters there merely for the two leads to bounce their lines off of the genuine chemistry between sorvino and kudrow makes for a sweet and sometimes touching comedy they have so much fun acting out their parts their enjoyment spreads to the audience***"
   ]
  },
  {
   "cell_type": "markdown",
   "id": "ff4bc684",
   "metadata": {},
   "source": [
    "### Analysis Incorrect Prediction 4\n",
    "This document has the greater disparity in overall positive and negative sentiment we have encountered so far. Immediately, it does not take long to see why. The first few words are for our sentiment classifier very confusing:\n",
    "\n",
    "***what do you get when you combine clueless and dumb and dumber***\n",
    "\n",
    "We can see from the cells below that multiplying these word would give a much more negative slant on our results. As we have said before our classifier does not take context into account and only takes words based on occurrences it finds in positive and negative documents. This phrase in question is a compliment related to the much love film \"Dumb and Dumber\" and is meant as a compliment to the director of this film being reviewed in question. Dumb (and dumber for that matter) are rarely seen as positive words and this is particularly prevalent for the word probabilities associated with \"dumb\" from our training."
   ]
  },
  {
   "cell_type": "code",
   "execution_count": 11,
   "id": "c745709f",
   "metadata": {},
   "outputs": [
    {
     "data": {
      "text/html": [
       "<div>\n",
       "<style scoped>\n",
       "    .dataframe tbody tr th:only-of-type {\n",
       "        vertical-align: middle;\n",
       "    }\n",
       "\n",
       "    .dataframe tbody tr th {\n",
       "        vertical-align: top;\n",
       "    }\n",
       "\n",
       "    .dataframe thead th {\n",
       "        text-align: right;\n",
       "    }\n",
       "</style>\n",
       "<table border=\"1\" class=\"dataframe\">\n",
       "  <thead>\n",
       "    <tr style=\"text-align: right;\">\n",
       "      <th></th>\n",
       "      <th>Word</th>\n",
       "      <th>FrequencyPositive</th>\n",
       "      <th>FrequencyNegative</th>\n",
       "      <th>ProbabilityPositive</th>\n",
       "      <th>ProbabilityNegative</th>\n",
       "      <th>ProbabilityPositiveLog</th>\n",
       "      <th>ProbabilityNegativeLog</th>\n",
       "      <th>TotalCounts</th>\n",
       "    </tr>\n",
       "  </thead>\n",
       "  <tbody>\n",
       "    <tr>\n",
       "      <th>5431</th>\n",
       "      <td>dumb</td>\n",
       "      <td>42</td>\n",
       "      <td>104</td>\n",
       "      <td>0.000065</td>\n",
       "      <td>0.000177</td>\n",
       "      <td>-9.636606</td>\n",
       "      <td>-8.638849</td>\n",
       "      <td>146</td>\n",
       "    </tr>\n",
       "  </tbody>\n",
       "</table>\n",
       "</div>"
      ],
      "text/plain": [
       "      Word  FrequencyPositive  FrequencyNegative  ProbabilityPositive  \\\n",
       "5431  dumb                 42                104             0.000065   \n",
       "\n",
       "      ProbabilityNegative  ProbabilityPositiveLog  ProbabilityNegativeLog  \\\n",
       "5431             0.000177               -9.636606               -8.638849   \n",
       "\n",
       "      TotalCounts  \n",
       "5431          146  "
      ]
     },
     "execution_count": 11,
     "metadata": {},
     "output_type": "execute_result"
    }
   ],
   "source": [
    "probs1.loc[probs1['Word'] == 'dumb']"
   ]
  },
  {
   "cell_type": "code",
   "execution_count": 12,
   "id": "2160625f",
   "metadata": {},
   "outputs": [
    {
     "data": {
      "text/html": [
       "<div>\n",
       "<style scoped>\n",
       "    .dataframe tbody tr th:only-of-type {\n",
       "        vertical-align: middle;\n",
       "    }\n",
       "\n",
       "    .dataframe tbody tr th {\n",
       "        vertical-align: top;\n",
       "    }\n",
       "\n",
       "    .dataframe thead th {\n",
       "        text-align: right;\n",
       "    }\n",
       "</style>\n",
       "<table border=\"1\" class=\"dataframe\">\n",
       "  <thead>\n",
       "    <tr style=\"text-align: right;\">\n",
       "      <th></th>\n",
       "      <th>Word</th>\n",
       "      <th>FrequencyPositive</th>\n",
       "      <th>FrequencyNegative</th>\n",
       "      <th>ProbabilityPositive</th>\n",
       "      <th>ProbabilityNegative</th>\n",
       "      <th>ProbabilityPositiveLog</th>\n",
       "      <th>ProbabilityNegativeLog</th>\n",
       "      <th>TotalCounts</th>\n",
       "    </tr>\n",
       "  </thead>\n",
       "  <tbody>\n",
       "    <tr>\n",
       "      <th>17777</th>\n",
       "      <td>dumber</td>\n",
       "      <td>8</td>\n",
       "      <td>12</td>\n",
       "      <td>0.000014</td>\n",
       "      <td>0.000022</td>\n",
       "      <td>-11.200582</td>\n",
       "      <td>-10.72786</td>\n",
       "      <td>20</td>\n",
       "    </tr>\n",
       "  </tbody>\n",
       "</table>\n",
       "</div>"
      ],
      "text/plain": [
       "         Word  FrequencyPositive  FrequencyNegative  ProbabilityPositive  \\\n",
       "17777  dumber                  8                 12             0.000014   \n",
       "\n",
       "       ProbabilityNegative  ProbabilityPositiveLog  ProbabilityNegativeLog  \\\n",
       "17777             0.000022              -11.200582               -10.72786   \n",
       "\n",
       "       TotalCounts  \n",
       "17777           20  "
      ]
     },
     "execution_count": 12,
     "metadata": {},
     "output_type": "execute_result"
    }
   ],
   "source": [
    "probs1.loc[probs1['Word'] == 'dumber']"
   ]
  },
  {
   "cell_type": "code",
   "execution_count": 13,
   "id": "f040ec9f",
   "metadata": {},
   "outputs": [
    {
     "data": {
      "text/html": [
       "<div>\n",
       "<style scoped>\n",
       "    .dataframe tbody tr th:only-of-type {\n",
       "        vertical-align: middle;\n",
       "    }\n",
       "\n",
       "    .dataframe tbody tr th {\n",
       "        vertical-align: top;\n",
       "    }\n",
       "\n",
       "    .dataframe thead th {\n",
       "        text-align: right;\n",
       "    }\n",
       "</style>\n",
       "<table border=\"1\" class=\"dataframe\">\n",
       "  <thead>\n",
       "    <tr style=\"text-align: right;\">\n",
       "      <th></th>\n",
       "      <th>Word</th>\n",
       "      <th>FrequencyPositive</th>\n",
       "      <th>FrequencyNegative</th>\n",
       "      <th>ProbabilityPositive</th>\n",
       "      <th>ProbabilityNegative</th>\n",
       "      <th>ProbabilityPositiveLog</th>\n",
       "      <th>ProbabilityNegativeLog</th>\n",
       "      <th>TotalCounts</th>\n",
       "    </tr>\n",
       "  </thead>\n",
       "  <tbody>\n",
       "    <tr>\n",
       "      <th>5626</th>\n",
       "      <td>clueless</td>\n",
       "      <td>13</td>\n",
       "      <td>26</td>\n",
       "      <td>0.000021</td>\n",
       "      <td>0.000046</td>\n",
       "      <td>-10.758749</td>\n",
       "      <td>-9.996973</td>\n",
       "      <td>39</td>\n",
       "    </tr>\n",
       "  </tbody>\n",
       "</table>\n",
       "</div>"
      ],
      "text/plain": [
       "          Word  FrequencyPositive  FrequencyNegative  ProbabilityPositive  \\\n",
       "5626  clueless                 13                 26             0.000021   \n",
       "\n",
       "      ProbabilityNegative  ProbabilityPositiveLog  ProbabilityNegativeLog  \\\n",
       "5626             0.000046              -10.758749               -9.996973   \n",
       "\n",
       "      TotalCounts  \n",
       "5626           39  "
      ]
     },
     "execution_count": 13,
     "metadata": {},
     "output_type": "execute_result"
    }
   ],
   "source": [
    "probs1.loc[probs1['Word'] == 'clueless']"
   ]
  },
  {
   "cell_type": "markdown",
   "id": "c4b41624",
   "metadata": {},
   "source": [
    "### Incorrect Prediction 5"
   ]
  },
  {
   "cell_type": "markdown",
   "id": "4d8ce875",
   "metadata": {},
   "source": [
    "##### File Input\n",
    "\n",
    "***armageddon in itself symbolizes everything that is wrong in modern filmmaking stories have been replaced with special effects character development gets overshadowed by bad dialogue plotting consists of a bunch of shit getting blown up armageddon is as stupid as loud and as shallow as any movie youll see come out this summer or maybe even any other summer but i loved every freaking minute of it believe me im just as shocked as you are hell i dont even know why i went to see it in the first place the previews were so annoying that i predicted this was going to be the worst film of the year or at least in the running im sorry but somebody dial 911 isnt quite the tagging thats going to sell a movie it isnt too wise either to market the film using the movies stupidest lines beam me up scotty yeah that sure is great writing i mean lets face it armageddons previews rival the truman shows as being some of the worst of the year neither of them even come close to doing their respective films justice of course you all know the story when the earth is threatened with total annihilation via an asteroid the size of texas nasa calls in the uss top oil drillers to go into space and implant a nuclear device eighthundred and someodd feet into the asteroid in the coarse of all this mayhem we are introduced to some interesting and not so interesting characters belonging to the former group is rockhound steve buscemi a horny little womanizing genius whos always full of wisecracks even when flying into space at a huge amount of gs also theres the always coolashell billy bob thornton as dan truman the bigwig at nasa who recruits all the drillers he kind of reminded me of ed harris in apollo 13 only without the intensity and great lines to deliver then on the flip side of the coin is the tired contrived character of harry stamper bruce willis who does the whole movie employing with annoying accent i cant quite place the leader of the pack as well as liv tyler and ben affleck as the token lovers you must have in any summer movie basically thats about it as i said this is hardly a film about plot its another summer blockbuster with plot points that are beyond unbelievable and dialogue and characters that are mostly completely wooden case in point nasa doesnt know that there is even an asteroid on its way until eighteen days before impact huh another example at one point in the movie two children are playing with toy space shuttles in front of a poster of kennedy how pretentious is that want another one okay before the oil drillers blast off into space one of them starts singing leaving on a jet plane and soon all the rest join in did michael bay attend the school of sappy filmmaking before he made this picture but naturally all this sappiness melodrama and special effects accumulate to one bitchin time at the movies and dont get me wrong despite all of the things i found wrong with armageddon i still very much enjoyed it so even if you dont win one of mcdonalds free tickets its still definitely worth checking out***"
   ]
  },
  {
   "cell_type": "markdown",
   "id": "17f69679",
   "metadata": {},
   "source": [
    "### Analysis Incorrect Prediction 5\n",
    "The disparity in positive and negative results is even greater here once again for our final incorrect prediction analysis. Like our last document it does not take long to realise why our Naive-Bayes classifier makes an incorrect prediction. The first lines highlight where the majority of incorrect judgement is most likely:\n",
    "\n",
    "***armageddon in itself symbolizes everything that is wrong in modern filmmaking stories have been replaced with special effects character development gets overshadowed by bad dialogue plotting consists of a bunch of shit getting blown up armageddon is as stupid as loud and as shallow as any movie youll see come out this summer or maybe even any other summer***\n",
    "\n",
    "Taking these words without context to anyone would be an overwhelmingly negative sentiment. However, the next three words after this change the meaning of the sentence completely:\n",
    "\n",
    "***but i loved every freaking minute of it***\n",
    "\n",
    "The use of but here completely changes the meaning of the sentence. Our classifier until this has encountered a multitude of very much negative words (wrong, bad, stupid, loud, shit among others). Even the word \"freaking\" which is slang in this context could be detected as negative by our classifier. Even other phrases like:\n",
    "\n",
    "***i predicted this was going to be the worst film of the year***\n",
    "\n",
    "would be interpreted as negative despite it being a compliment about how the reviewer's opinions beforehand were negative but in fact they really enjoyed the film."
   ]
  },
  {
   "cell_type": "markdown",
   "id": "0bd4430a",
   "metadata": {},
   "source": [
    "## Correct Predictions Analysis"
   ]
  },
  {
   "cell_type": "markdown",
   "id": "69d7c85d",
   "metadata": {},
   "source": [
    "### Prediction 6\n",
    "##### File Input\n",
    "\n",
    "***ah and 1999 was going along so well too shes all that has the dubious distinction of being the worst movie ive seen so far this year and quite frankly i doubt ill see anything equally bad at least i hope i dont see anything equally bad shes all that tells the story of the most popular guy in school played by freddie prinze jr who accepts a bet to transform the geekiest girl in school rachel leigh cook into the most popular that right there is problem 1 how many times have we seen this storyline as cook comments near the end of the film its kind of like pretty woman except without the prostitution of course had the filmmakers attempted to try something new with this material the wellworn storyline would have been a device to propell the movie forward as it is though shes all that relies completely on the lame and overused formula to push it ahead theres not one original or interesting character in the film either and if that wasnt bad enough theres not one good performance featured the star of the movie rachel leigh cook is simply horrible i usually dont like to get so personal but in this case i think it needs to be said cook wears the same expression throughout the flick and looks to be having as miserable a time as i was i was never convinced that she was a nerd and her transformation was unconvincing and unnecessary the movie seems to be saying its better to be popular than to be who you are as for freddie prinze jr an actor i ordinarily enjoy he too is quite bad here he coasts through the film on socalled charm and never establishes a real character kieren culkin is here too as the brother of cook and for some indiscernable reason hes got hearing aids no explanation is given and theyre never brought up were we supposed to feel sorry for him just because he wore hearing aids i dont think so that single element of the film was one of the most offensive things ive seen in a movie in a long time shes all that sucks thats what it boils down to its not entertaining and its not even a good time passer the hour and a half running time goes by slower than a 5 minute hairremoval system informercial and whats worse it sends out a bad message to teens it appears to be telling them hey it doesnt matter if youre happy the way you are thats unimportant if you want to truly be happy dress in the latest fashions and act like a bubbleheaded moron ugh***"
   ]
  },
  {
   "cell_type": "markdown",
   "id": "3f3e59ea",
   "metadata": {},
   "source": [
    "### Analysis Correct Prediction 1 \n",
    "Looking at the first of our negative predictions it becomes apparent at the start of this piece this is very much a negative review. The first lines read as following:\n",
    "\n",
    "***ah and 1999 was going along so well too shes all that has the dubious distinction of being the worst movie ive seen so far this year and quite frankly i doubt ill see anything equally bad at least i hope i dont see anything equally bad***\n",
    "\n",
    "Clearly this is an overwhelmingly negative sentiment with the words \"dubious distinction of being the worst movie ive seen so far this year\" highlighting how much the user didn't enjoy the film. This negative trend continues with commentary on the overall feel of the film:\n",
    "\n",
    "***theres not one original or interesting character in the film either and if that wasnt bad enough theres not one good performance***\n",
    "\n",
    "Our Naive-Bayes classifier appears to be able to pick up negation used here (\"not one original or interesting\") and help classify it as negative sentiment as it could most definitely pick up the use of interesting here and make this sentence positive. We also see very strong expressions to describe characters such as \"simply horrible\" to describe one of the main characters in the film and see further use of negation here:\n",
    "\n",
    "***its not entertaining and its not even a good time passer the hour and a half***\n",
    "\n",
    "Again, our classifier seems to be able to pick up on this use of negation and not just take the word \"entertaining\" as positive. Across the document, it is abundantly obvious that it is a negative document and the clear disparity in positive and negative scores here highlight the good job our classifier has done here."
   ]
  },
  {
   "cell_type": "markdown",
   "id": "5addacb3",
   "metadata": {},
   "source": [
    "### Correct Prediction 2"
   ]
  },
  {
   "cell_type": "markdown",
   "id": "4dff30b2",
   "metadata": {},
   "source": [
    "##### File Input\n",
    "\n",
    "***susan grangers review of the musketeer universal pictures hollywood launches another assault on classic literature with this 50 million adaptation of alexandre dumass novel thats strong on action but weak on drama fusing hong kong martial arts with 17th century swordplay the story chronicles the adventures of the dashing dartagnan justin chambers as he leaves his village of gascogne headed for paris to join king louis xiiis elite guard the royal musketeers and to search for the man who killed his parents 14 years earlier this puts him in conflict with the formidable febre tim roth vicious henchman for conniving cardinal richelieu stephen rea the traditional musketeer trio aramis nick moran athos jan gregor kremp and porthos steve speirs dont offer much help so he turns to the feisty francesca mena suvari chambermaid to the queen of france catherine deneuve scripter gene quintano and directorcinematographer peter hyams are primarily interested in the derringdo as evidenced by choreographer xinxin xiongs elaborate but not original stunts including a fastpaced stagecoach chase a tavern brawl on rolling barrels highwire acrobatics with the combatants dangling from ropes and a ladderfight sequence filmed in southern france the scenery sets and costumes are spectacular but the lighting is too dark and editing is filled with choppy restless mtvish cuts as the swashbuckling dartagnan bland calvin klein model justin chambers buckles where he should be swashing totally lacking onscreen charisma not to mention acting skill mena suvari so impressive in american beauty seems like a contemporary interloper in the royal court on the granger movie gauge of 1 to 10 the musketeer is a cinematic but shallow 3 all for one and one for all not this time round***"
   ]
  },
  {
   "cell_type": "markdown",
   "id": "52989390",
   "metadata": {},
   "source": [
    "### Analysis Correct Prediction 2\n",
    "We see another large disparity in positive and negative probability scores here despite it being a small document in terms of content. It is not as clear here as before from the start as to why this is clearly a negative document. There is a lot of unique names here in this document based on characters within the document which would not contribute very highly to the probability (\"richelieu stephen rea\" etc) but there is a few words amongst all that set a negative tone. There is a couple of words such as \"weak\" and \"conniving\" that would skew the probability of words slightly. The aforementioned names also would skew our results here I feel. The fact that these would all have better scores for negative probabilities like the word \"xinxin\" demonstrated below is another reason why I feel our Naive-Bayes classifier accurately predicts this document as negative. There is quite a few of these in this document so that would definitely be a factor. Other phrases such as \"totally lacking\" would I feel also skew the probability towards a more negative prediction."
   ]
  },
  {
   "cell_type": "code",
   "execution_count": 14,
   "id": "e08e84cc",
   "metadata": {},
   "outputs": [
    {
     "data": {
      "text/html": [
       "<div>\n",
       "<style scoped>\n",
       "    .dataframe tbody tr th:only-of-type {\n",
       "        vertical-align: middle;\n",
       "    }\n",
       "\n",
       "    .dataframe tbody tr th {\n",
       "        vertical-align: top;\n",
       "    }\n",
       "\n",
       "    .dataframe thead th {\n",
       "        text-align: right;\n",
       "    }\n",
       "</style>\n",
       "<table border=\"1\" class=\"dataframe\">\n",
       "  <thead>\n",
       "    <tr style=\"text-align: right;\">\n",
       "      <th></th>\n",
       "      <th>Word</th>\n",
       "      <th>FrequencyPositive</th>\n",
       "      <th>FrequencyNegative</th>\n",
       "      <th>ProbabilityPositive</th>\n",
       "      <th>ProbabilityNegative</th>\n",
       "      <th>ProbabilityPositiveLog</th>\n",
       "      <th>ProbabilityNegativeLog</th>\n",
       "      <th>TotalCounts</th>\n",
       "    </tr>\n",
       "  </thead>\n",
       "  <tbody>\n",
       "    <tr>\n",
       "      <th>5144</th>\n",
       "      <td>lacking</td>\n",
       "      <td>24</td>\n",
       "      <td>34</td>\n",
       "      <td>0.000038</td>\n",
       "      <td>0.000059</td>\n",
       "      <td>-10.178931</td>\n",
       "      <td>-9.737462</td>\n",
       "      <td>58</td>\n",
       "    </tr>\n",
       "  </tbody>\n",
       "</table>\n",
       "</div>"
      ],
      "text/plain": [
       "         Word  FrequencyPositive  FrequencyNegative  ProbabilityPositive  \\\n",
       "5144  lacking                 24                 34             0.000038   \n",
       "\n",
       "      ProbabilityNegative  ProbabilityPositiveLog  ProbabilityNegativeLog  \\\n",
       "5144             0.000059              -10.178931               -9.737462   \n",
       "\n",
       "      TotalCounts  \n",
       "5144           58  "
      ]
     },
     "execution_count": 14,
     "metadata": {},
     "output_type": "execute_result"
    }
   ],
   "source": [
    "probs1.loc[probs1['Word'] == 'lacking']"
   ]
  },
  {
   "cell_type": "code",
   "execution_count": 15,
   "id": "ee1d8047",
   "metadata": {},
   "outputs": [
    {
     "data": {
      "text/html": [
       "<div>\n",
       "<style scoped>\n",
       "    .dataframe tbody tr th:only-of-type {\n",
       "        vertical-align: middle;\n",
       "    }\n",
       "\n",
       "    .dataframe tbody tr th {\n",
       "        vertical-align: top;\n",
       "    }\n",
       "\n",
       "    .dataframe thead th {\n",
       "        text-align: right;\n",
       "    }\n",
       "</style>\n",
       "<table border=\"1\" class=\"dataframe\">\n",
       "  <thead>\n",
       "    <tr style=\"text-align: right;\">\n",
       "      <th></th>\n",
       "      <th>Word</th>\n",
       "      <th>FrequencyPositive</th>\n",
       "      <th>FrequencyNegative</th>\n",
       "      <th>ProbabilityPositive</th>\n",
       "      <th>ProbabilityNegative</th>\n",
       "      <th>ProbabilityPositiveLog</th>\n",
       "      <th>ProbabilityNegativeLog</th>\n",
       "      <th>TotalCounts</th>\n",
       "    </tr>\n",
       "  </thead>\n",
       "  <tbody>\n",
       "    <tr>\n",
       "      <th>41280</th>\n",
       "      <td>xinxin</td>\n",
       "      <td>0</td>\n",
       "      <td>1</td>\n",
       "      <td>0.000002</td>\n",
       "      <td>0.000003</td>\n",
       "      <td>-13.397806</td>\n",
       "      <td>-12.599663</td>\n",
       "      <td>1</td>\n",
       "    </tr>\n",
       "  </tbody>\n",
       "</table>\n",
       "</div>"
      ],
      "text/plain": [
       "         Word  FrequencyPositive  FrequencyNegative  ProbabilityPositive  \\\n",
       "41280  xinxin                  0                  1             0.000002   \n",
       "\n",
       "       ProbabilityNegative  ProbabilityPositiveLog  ProbabilityNegativeLog  \\\n",
       "41280             0.000003              -13.397806              -12.599663   \n",
       "\n",
       "       TotalCounts  \n",
       "41280            1  "
      ]
     },
     "execution_count": 15,
     "metadata": {},
     "output_type": "execute_result"
    }
   ],
   "source": [
    "probs1.loc[probs1['Word'] == 'xinxin']"
   ]
  },
  {
   "cell_type": "markdown",
   "id": "79e09048",
   "metadata": {},
   "source": [
    "### Correct Prediction 3\n",
    "I am now going to turn my attention to positive documents our classifier successfully predicted as positive."
   ]
  },
  {
   "cell_type": "markdown",
   "id": "91f7aba9",
   "metadata": {},
   "source": [
    "##### File Input\n",
    "\n",
    "***ingredients downonhisluck evangelist church synopsis sonny dewey robert duvall is a tireless texas pentecostal preacher who unexpectedly catches his wife farrah fawcett in bed with another guy in a regrettable crime of passion he takes a baseball bat to the guys head and suddenly finds himself a fugitive for murder and estranged from his wife and two kids to atone for his sins sonny flees to a rural bayou town in louisiana and baptizes himself as a new creature the apostle e f as the apostle e f sonnys main mission is to revive an abandoned church community and preach the gospel at the local radio station soon he sets about resurrecting the one way road to heaven holiness temple but sonny knows his time is short one day the police will find him opinion this movie is a thoughtprovoking look at an evangelist in real life terms i believe that robert duvall who is the producer director writer and main star of the apostle deserves an oscar for his performance as sonny the religious crusader a performance which is so complex and realistic it ranks as one of the finest acting performances on film duvalls portrayal of a true believer is authentic superb and inspired it offers the audience a completely honest look at southern religion as well as a portrait of a fallible complicated man driven by his beliefs incidentally in real life duvall was just as driven in getting the project underway since no major hollywood studio wanted to risk financing a complex movie about an evangelist the apostle as a project lay dormant for almost 13 years before duvall was able to get it done paying for its production with his own money about five million dollars in terms of hardhitting realism and character portrayal the apostle would rank as one of the best movies of this decade and i emphatically recommend the apostle for connoisseurs of stage and fine acting on film similarly those with a steep background in pentecostal christianity would find the apostle a thoughtprovoking experience on the other hand the apostles main strength duvalls preaching is also what limits the apostles target audience in terms of plot and pure entertainment value the apostle is definitely not for everyone teenagers action fans comedy fans and people who find church completely boring should stay far away from this movie since three quarters of the film is watching sonny preach at church in other words the apostle is a four star performance but with a very limited audience***"
   ]
  },
  {
   "cell_type": "markdown",
   "id": "4607f16d",
   "metadata": {},
   "source": [
    "### Analysis Correct Prediction 3\n",
    "This document certainly takes to detect any positive or negative sentiment within it. There is basically a run of the plot for the first few sentences which to many reading it hints at a negative classification (\"regrettable crime of passion he takes a baseball bat to the guys head and suddenly finds himself a fugitive for murder\"). However, after this brief summary of the film we start to see some much more positive sentiment expressed. There are some uber positive words used such \"thoughtprovoking\", \"complex\", \"realistic\", \"authentic\" and \"superb\" used in the piece. As demonstrated below these are all clearly positive words and even like the previous document mentioned with names that only seem to appear in this document which would label them as positive in the training data and hence make them positive in the document. Other phrases such as:\n",
    "\n",
    "***one of the best movies of this decade and i emphatically recommend the apostle***\n",
    "\n",
    "would certainly gather a strong positivity score too. \"Emphatically\" only appears once in the training corpus so again this would help swing the positive score overall I feel."
   ]
  },
  {
   "cell_type": "code",
   "execution_count": 16,
   "id": "0ce2227b",
   "metadata": {},
   "outputs": [
    {
     "data": {
      "text/html": [
       "<div>\n",
       "<style scoped>\n",
       "    .dataframe tbody tr th:only-of-type {\n",
       "        vertical-align: middle;\n",
       "    }\n",
       "\n",
       "    .dataframe tbody tr th {\n",
       "        vertical-align: top;\n",
       "    }\n",
       "\n",
       "    .dataframe thead th {\n",
       "        text-align: right;\n",
       "    }\n",
       "</style>\n",
       "<table border=\"1\" class=\"dataframe\">\n",
       "  <thead>\n",
       "    <tr style=\"text-align: right;\">\n",
       "      <th></th>\n",
       "      <th>Word</th>\n",
       "      <th>FrequencyPositive</th>\n",
       "      <th>FrequencyNegative</th>\n",
       "      <th>ProbabilityPositive</th>\n",
       "      <th>ProbabilityNegative</th>\n",
       "      <th>ProbabilityPositiveLog</th>\n",
       "      <th>ProbabilityNegativeLog</th>\n",
       "      <th>TotalCounts</th>\n",
       "    </tr>\n",
       "  </thead>\n",
       "  <tbody>\n",
       "    <tr>\n",
       "      <th>4738</th>\n",
       "      <td>thoughtprovoking</td>\n",
       "      <td>19</td>\n",
       "      <td>9</td>\n",
       "      <td>0.00003</td>\n",
       "      <td>0.000017</td>\n",
       "      <td>-10.402074</td>\n",
       "      <td>-10.990225</td>\n",
       "      <td>28</td>\n",
       "    </tr>\n",
       "  </tbody>\n",
       "</table>\n",
       "</div>"
      ],
      "text/plain": [
       "                  Word  FrequencyPositive  FrequencyNegative  \\\n",
       "4738  thoughtprovoking                 19                  9   \n",
       "\n",
       "      ProbabilityPositive  ProbabilityNegative  ProbabilityPositiveLog  \\\n",
       "4738              0.00003             0.000017              -10.402074   \n",
       "\n",
       "      ProbabilityNegativeLog  TotalCounts  \n",
       "4738              -10.990225           28  "
      ]
     },
     "execution_count": 16,
     "metadata": {},
     "output_type": "execute_result"
    }
   ],
   "source": [
    "# this movie is a thoughtprovoking\n",
    "probs1.loc[probs1['Word'] == 'thoughtprovoking']"
   ]
  },
  {
   "cell_type": "code",
   "execution_count": 17,
   "id": "bf9c197e",
   "metadata": {},
   "outputs": [
    {
     "data": {
      "text/html": [
       "<div>\n",
       "<style scoped>\n",
       "    .dataframe tbody tr th:only-of-type {\n",
       "        vertical-align: middle;\n",
       "    }\n",
       "\n",
       "    .dataframe tbody tr th {\n",
       "        vertical-align: top;\n",
       "    }\n",
       "\n",
       "    .dataframe thead th {\n",
       "        text-align: right;\n",
       "    }\n",
       "</style>\n",
       "<table border=\"1\" class=\"dataframe\">\n",
       "  <thead>\n",
       "    <tr style=\"text-align: right;\">\n",
       "      <th></th>\n",
       "      <th>Word</th>\n",
       "      <th>FrequencyPositive</th>\n",
       "      <th>FrequencyNegative</th>\n",
       "      <th>ProbabilityPositive</th>\n",
       "      <th>ProbabilityNegative</th>\n",
       "      <th>ProbabilityPositiveLog</th>\n",
       "      <th>ProbabilityNegativeLog</th>\n",
       "      <th>TotalCounts</th>\n",
       "    </tr>\n",
       "  </thead>\n",
       "  <tbody>\n",
       "    <tr>\n",
       "      <th>1027</th>\n",
       "      <td>complex</td>\n",
       "      <td>82</td>\n",
       "      <td>33</td>\n",
       "      <td>0.000126</td>\n",
       "      <td>0.000057</td>\n",
       "      <td>-8.978966</td>\n",
       "      <td>-9.766449</td>\n",
       "      <td>115</td>\n",
       "    </tr>\n",
       "  </tbody>\n",
       "</table>\n",
       "</div>"
      ],
      "text/plain": [
       "         Word  FrequencyPositive  FrequencyNegative  ProbabilityPositive  \\\n",
       "1027  complex                 82                 33             0.000126   \n",
       "\n",
       "      ProbabilityNegative  ProbabilityPositiveLog  ProbabilityNegativeLog  \\\n",
       "1027             0.000057               -8.978966               -9.766449   \n",
       "\n",
       "      TotalCounts  \n",
       "1027          115  "
      ]
     },
     "execution_count": 17,
     "metadata": {},
     "output_type": "execute_result"
    }
   ],
   "source": [
    "# is so complex and realistic\n",
    "probs1.loc[probs1['Word'] == 'complex']"
   ]
  },
  {
   "cell_type": "code",
   "execution_count": 18,
   "id": "0adb8ed7",
   "metadata": {},
   "outputs": [
    {
     "data": {
      "text/html": [
       "<div>\n",
       "<style scoped>\n",
       "    .dataframe tbody tr th:only-of-type {\n",
       "        vertical-align: middle;\n",
       "    }\n",
       "\n",
       "    .dataframe tbody tr th {\n",
       "        vertical-align: top;\n",
       "    }\n",
       "\n",
       "    .dataframe thead th {\n",
       "        text-align: right;\n",
       "    }\n",
       "</style>\n",
       "<table border=\"1\" class=\"dataframe\">\n",
       "  <thead>\n",
       "    <tr style=\"text-align: right;\">\n",
       "      <th></th>\n",
       "      <th>Word</th>\n",
       "      <th>FrequencyPositive</th>\n",
       "      <th>FrequencyNegative</th>\n",
       "      <th>ProbabilityPositive</th>\n",
       "      <th>ProbabilityNegative</th>\n",
       "      <th>ProbabilityPositiveLog</th>\n",
       "      <th>ProbabilityNegativeLog</th>\n",
       "      <th>TotalCounts</th>\n",
       "    </tr>\n",
       "  </thead>\n",
       "  <tbody>\n",
       "    <tr>\n",
       "      <th>1563</th>\n",
       "      <td>realistic</td>\n",
       "      <td>84</td>\n",
       "      <td>26</td>\n",
       "      <td>0.000129</td>\n",
       "      <td>0.000046</td>\n",
       "      <td>-8.955155</td>\n",
       "      <td>-9.996973</td>\n",
       "      <td>110</td>\n",
       "    </tr>\n",
       "  </tbody>\n",
       "</table>\n",
       "</div>"
      ],
      "text/plain": [
       "           Word  FrequencyPositive  FrequencyNegative  ProbabilityPositive  \\\n",
       "1563  realistic                 84                 26             0.000129   \n",
       "\n",
       "      ProbabilityNegative  ProbabilityPositiveLog  ProbabilityNegativeLog  \\\n",
       "1563             0.000046               -8.955155               -9.996973   \n",
       "\n",
       "      TotalCounts  \n",
       "1563          110  "
      ]
     },
     "execution_count": 18,
     "metadata": {},
     "output_type": "execute_result"
    }
   ],
   "source": [
    "probs1.loc[probs1['Word'] == 'realistic']"
   ]
  },
  {
   "cell_type": "code",
   "execution_count": 19,
   "id": "3260285f",
   "metadata": {},
   "outputs": [
    {
     "data": {
      "text/html": [
       "<div>\n",
       "<style scoped>\n",
       "    .dataframe tbody tr th:only-of-type {\n",
       "        vertical-align: middle;\n",
       "    }\n",
       "\n",
       "    .dataframe tbody tr th {\n",
       "        vertical-align: top;\n",
       "    }\n",
       "\n",
       "    .dataframe thead th {\n",
       "        text-align: right;\n",
       "    }\n",
       "</style>\n",
       "<table border=\"1\" class=\"dataframe\">\n",
       "  <thead>\n",
       "    <tr style=\"text-align: right;\">\n",
       "      <th></th>\n",
       "      <th>Word</th>\n",
       "      <th>FrequencyPositive</th>\n",
       "      <th>FrequencyNegative</th>\n",
       "      <th>ProbabilityPositive</th>\n",
       "      <th>ProbabilityNegative</th>\n",
       "      <th>ProbabilityPositiveLog</th>\n",
       "      <th>ProbabilityNegativeLog</th>\n",
       "      <th>TotalCounts</th>\n",
       "    </tr>\n",
       "  </thead>\n",
       "  <tbody>\n",
       "    <tr>\n",
       "      <th>14828</th>\n",
       "      <td>authentic</td>\n",
       "      <td>25</td>\n",
       "      <td>7</td>\n",
       "      <td>0.000039</td>\n",
       "      <td>0.000013</td>\n",
       "      <td>-10.13971</td>\n",
       "      <td>-11.213368</td>\n",
       "      <td>32</td>\n",
       "    </tr>\n",
       "  </tbody>\n",
       "</table>\n",
       "</div>"
      ],
      "text/plain": [
       "            Word  FrequencyPositive  FrequencyNegative  ProbabilityPositive  \\\n",
       "14828  authentic                 25                  7             0.000039   \n",
       "\n",
       "       ProbabilityNegative  ProbabilityPositiveLog  ProbabilityNegativeLog  \\\n",
       "14828             0.000013               -10.13971              -11.213368   \n",
       "\n",
       "       TotalCounts  \n",
       "14828           32  "
      ]
     },
     "execution_count": 19,
     "metadata": {},
     "output_type": "execute_result"
    }
   ],
   "source": [
    "# authentic superb and inspired\n",
    "probs1.loc[probs1['Word'] == 'authentic']"
   ]
  },
  {
   "cell_type": "code",
   "execution_count": 20,
   "id": "f0606b1b",
   "metadata": {},
   "outputs": [
    {
     "data": {
      "text/html": [
       "<div>\n",
       "<style scoped>\n",
       "    .dataframe tbody tr th:only-of-type {\n",
       "        vertical-align: middle;\n",
       "    }\n",
       "\n",
       "    .dataframe tbody tr th {\n",
       "        vertical-align: top;\n",
       "    }\n",
       "\n",
       "    .dataframe thead th {\n",
       "        text-align: right;\n",
       "    }\n",
       "</style>\n",
       "<table border=\"1\" class=\"dataframe\">\n",
       "  <thead>\n",
       "    <tr style=\"text-align: right;\">\n",
       "      <th></th>\n",
       "      <th>Word</th>\n",
       "      <th>FrequencyPositive</th>\n",
       "      <th>FrequencyNegative</th>\n",
       "      <th>ProbabilityPositive</th>\n",
       "      <th>ProbabilityNegative</th>\n",
       "      <th>ProbabilityPositiveLog</th>\n",
       "      <th>ProbabilityNegativeLog</th>\n",
       "      <th>TotalCounts</th>\n",
       "    </tr>\n",
       "  </thead>\n",
       "  <tbody>\n",
       "    <tr>\n",
       "      <th>2667</th>\n",
       "      <td>superb</td>\n",
       "      <td>73</td>\n",
       "      <td>17</td>\n",
       "      <td>0.000112</td>\n",
       "      <td>0.00003</td>\n",
       "      <td>-9.093741</td>\n",
       "      <td>-10.402438</td>\n",
       "      <td>90</td>\n",
       "    </tr>\n",
       "  </tbody>\n",
       "</table>\n",
       "</div>"
      ],
      "text/plain": [
       "        Word  FrequencyPositive  FrequencyNegative  ProbabilityPositive  \\\n",
       "2667  superb                 73                 17             0.000112   \n",
       "\n",
       "      ProbabilityNegative  ProbabilityPositiveLog  ProbabilityNegativeLog  \\\n",
       "2667              0.00003               -9.093741              -10.402438   \n",
       "\n",
       "      TotalCounts  \n",
       "2667           90  "
      ]
     },
     "execution_count": 20,
     "metadata": {},
     "output_type": "execute_result"
    }
   ],
   "source": [
    "probs1.loc[probs1['Word'] == 'superb']"
   ]
  },
  {
   "cell_type": "markdown",
   "id": "1234d0c1",
   "metadata": {},
   "source": [
    "### Correct Prediction 4"
   ]
  },
  {
   "cell_type": "markdown",
   "id": "685ab001",
   "metadata": {},
   "source": [
    "##### File Input\n",
    "\n",
    "***not too many people know who james whale is but its a safe bet that a good chunk of them have seen his movies if we are to believe the semi biographical gods and monsters whale would have wanted it to be that way this is an insightful haunting exploration of the last days of the frankenstein and bride of frankenstein director and it is notable for introducing one of the first complicated gay characters in a hollywood movie gods and monsters has no interest in being a biopic of whales life because it tracks only the final few days of his life and its probably a better movie for it its focus is on whales ian mckellen untraditional and deceptive lust for heterosexual gardener clayton boone brendan fraser it begins with whale a fairly talented artist aside from being a director asking boone to sit for him pose for a portrait at first boone doesnt realize that whale is gay and grows fascinated with the old man when he does discover whales sexual orientation from his dedicated and protective maid lynn redgrave he is frightened refusing to sit for the guy but he comes back only to storm out again disgusted with whales locker room talk boone returns yet another time after whale promises to tone down the aforementioned locker room talk and finds their platonic relationship to be strengthening meanwhile jimmy himself is suffering from hallucinations and mental attacks as a result of his stroke not long ago his ailment leads to desperation and depression which build to the point where he is forced to ask boone for an incredulously big favor what is perhaps most sensational about gods and monsters is brendan frasers bravura performance up until seeing this film i intensely disliked the young actor because of his tendency to ruin the movies he is in blast from the past for example i was surprised how expressive an actor he proved himself to be here this is impressive because his characters dialogue is minimal with mckellan doing most of the talking that requires fraser to act through body language a difficult skill to master but something he proves capable of doing well this is not to ignore mckellans oscar nominated turn he earned that nomination with his touching performance here although at the risk of sounding like a philistine i would have chosen his performance as the nazi in apt pupil for the nomination an understated compelling gem whale dreaded being remembered solely for his work in the hollywood horror genre and he thought hollywood to be the equivalent of a battlefield he rejoiced in being free from it only reluctantly going to receptions with fellow movie people in the end perhaps it is what killed him the memories of hollywood and war blending together to form a living nightmare 1999 eugene novikov137***"
   ]
  },
  {
   "cell_type": "markdown",
   "id": "e6ad5427",
   "metadata": {},
   "source": [
    "### Analysis Correct Prediction 4\n",
    "Again, we see a document start with more of a general rundown of the film rather than commenting too much positively or negatively on the film itself. The only positive sentiment expressed of note would be found here:\n",
    "\n",
    "***this is an insightful haunting exploration***\n",
    "\n",
    "We see as per below that \"insightful\" definitely has a noticeable higher positive probability than it's negative. After this there is definitely enough what could be regarded as negative words such as \"untraditional and deceptive\", \"frightened\" and \"disgusted\". However, as per below some of these words seem to be regarded as positive below which could be seen as surprising. For the rest of the piece we again see what would be predominately high probability words scattered throughout. Some of these are referenced below such as \"compelling\" and \"impressive\" which I feel help tip the balance towards a positive prediction here. "
   ]
  },
  {
   "cell_type": "code",
   "execution_count": 21,
   "id": "59ff9a2e",
   "metadata": {},
   "outputs": [
    {
     "data": {
      "text/html": [
       "<div>\n",
       "<style scoped>\n",
       "    .dataframe tbody tr th:only-of-type {\n",
       "        vertical-align: middle;\n",
       "    }\n",
       "\n",
       "    .dataframe tbody tr th {\n",
       "        vertical-align: top;\n",
       "    }\n",
       "\n",
       "    .dataframe thead th {\n",
       "        text-align: right;\n",
       "    }\n",
       "</style>\n",
       "<table border=\"1\" class=\"dataframe\">\n",
       "  <thead>\n",
       "    <tr style=\"text-align: right;\">\n",
       "      <th></th>\n",
       "      <th>Word</th>\n",
       "      <th>FrequencyPositive</th>\n",
       "      <th>FrequencyNegative</th>\n",
       "      <th>ProbabilityPositive</th>\n",
       "      <th>ProbabilityNegative</th>\n",
       "      <th>ProbabilityPositiveLog</th>\n",
       "      <th>ProbabilityNegativeLog</th>\n",
       "      <th>TotalCounts</th>\n",
       "    </tr>\n",
       "  </thead>\n",
       "  <tbody>\n",
       "    <tr>\n",
       "      <th>6024</th>\n",
       "      <td>insightful</td>\n",
       "      <td>19</td>\n",
       "      <td>6</td>\n",
       "      <td>0.00003</td>\n",
       "      <td>0.000012</td>\n",
       "      <td>-10.402074</td>\n",
       "      <td>-11.3469</td>\n",
       "      <td>25</td>\n",
       "    </tr>\n",
       "  </tbody>\n",
       "</table>\n",
       "</div>"
      ],
      "text/plain": [
       "            Word  FrequencyPositive  FrequencyNegative  ProbabilityPositive  \\\n",
       "6024  insightful                 19                  6              0.00003   \n",
       "\n",
       "      ProbabilityNegative  ProbabilityPositiveLog  ProbabilityNegativeLog  \\\n",
       "6024             0.000012              -10.402074                -11.3469   \n",
       "\n",
       "      TotalCounts  \n",
       "6024           25  "
      ]
     },
     "execution_count": 21,
     "metadata": {},
     "output_type": "execute_result"
    }
   ],
   "source": [
    "# this is an insightful haunting exploration\n",
    "probs1.loc[probs1['Word'] == 'insightful']"
   ]
  },
  {
   "cell_type": "code",
   "execution_count": 22,
   "id": "071d6c3e",
   "metadata": {},
   "outputs": [
    {
     "data": {
      "text/html": [
       "<div>\n",
       "<style scoped>\n",
       "    .dataframe tbody tr th:only-of-type {\n",
       "        vertical-align: middle;\n",
       "    }\n",
       "\n",
       "    .dataframe tbody tr th {\n",
       "        vertical-align: top;\n",
       "    }\n",
       "\n",
       "    .dataframe thead th {\n",
       "        text-align: right;\n",
       "    }\n",
       "</style>\n",
       "<table border=\"1\" class=\"dataframe\">\n",
       "  <thead>\n",
       "    <tr style=\"text-align: right;\">\n",
       "      <th></th>\n",
       "      <th>Word</th>\n",
       "      <th>FrequencyPositive</th>\n",
       "      <th>FrequencyNegative</th>\n",
       "      <th>ProbabilityPositive</th>\n",
       "      <th>ProbabilityNegative</th>\n",
       "      <th>ProbabilityPositiveLog</th>\n",
       "      <th>ProbabilityNegativeLog</th>\n",
       "      <th>TotalCounts</th>\n",
       "    </tr>\n",
       "  </thead>\n",
       "  <tbody>\n",
       "    <tr>\n",
       "      <th>8081</th>\n",
       "      <td>haunting</td>\n",
       "      <td>32</td>\n",
       "      <td>41</td>\n",
       "      <td>0.00005</td>\n",
       "      <td>0.000071</td>\n",
       "      <td>-9.901299</td>\n",
       "      <td>-9.55514</td>\n",
       "      <td>73</td>\n",
       "    </tr>\n",
       "  </tbody>\n",
       "</table>\n",
       "</div>"
      ],
      "text/plain": [
       "          Word  FrequencyPositive  FrequencyNegative  ProbabilityPositive  \\\n",
       "8081  haunting                 32                 41              0.00005   \n",
       "\n",
       "      ProbabilityNegative  ProbabilityPositiveLog  ProbabilityNegativeLog  \\\n",
       "8081             0.000071               -9.901299                -9.55514   \n",
       "\n",
       "      TotalCounts  \n",
       "8081           73  "
      ]
     },
     "execution_count": 22,
     "metadata": {},
     "output_type": "execute_result"
    }
   ],
   "source": [
    "probs1.loc[probs1['Word'] == 'haunting']"
   ]
  },
  {
   "cell_type": "code",
   "execution_count": 23,
   "id": "f5a44917",
   "metadata": {},
   "outputs": [
    {
     "data": {
      "text/html": [
       "<div>\n",
       "<style scoped>\n",
       "    .dataframe tbody tr th:only-of-type {\n",
       "        vertical-align: middle;\n",
       "    }\n",
       "\n",
       "    .dataframe tbody tr th {\n",
       "        vertical-align: top;\n",
       "    }\n",
       "\n",
       "    .dataframe thead th {\n",
       "        text-align: right;\n",
       "    }\n",
       "</style>\n",
       "<table border=\"1\" class=\"dataframe\">\n",
       "  <thead>\n",
       "    <tr style=\"text-align: right;\">\n",
       "      <th></th>\n",
       "      <th>Word</th>\n",
       "      <th>FrequencyPositive</th>\n",
       "      <th>FrequencyNegative</th>\n",
       "      <th>ProbabilityPositive</th>\n",
       "      <th>ProbabilityNegative</th>\n",
       "      <th>ProbabilityPositiveLog</th>\n",
       "      <th>ProbabilityNegativeLog</th>\n",
       "      <th>TotalCounts</th>\n",
       "    </tr>\n",
       "  </thead>\n",
       "  <tbody>\n",
       "    <tr>\n",
       "      <th>6011</th>\n",
       "      <td>frightened</td>\n",
       "      <td>16</td>\n",
       "      <td>11</td>\n",
       "      <td>0.000026</td>\n",
       "      <td>0.00002</td>\n",
       "      <td>-10.564593</td>\n",
       "      <td>-10.807903</td>\n",
       "      <td>27</td>\n",
       "    </tr>\n",
       "  </tbody>\n",
       "</table>\n",
       "</div>"
      ],
      "text/plain": [
       "            Word  FrequencyPositive  FrequencyNegative  ProbabilityPositive  \\\n",
       "6011  frightened                 16                 11             0.000026   \n",
       "\n",
       "      ProbabilityNegative  ProbabilityPositiveLog  ProbabilityNegativeLog  \\\n",
       "6011              0.00002              -10.564593              -10.807903   \n",
       "\n",
       "      TotalCounts  \n",
       "6011           27  "
      ]
     },
     "execution_count": 23,
     "metadata": {},
     "output_type": "execute_result"
    }
   ],
   "source": [
    "probs1.loc[probs1['Word'] == 'frightened']"
   ]
  },
  {
   "cell_type": "code",
   "execution_count": 24,
   "id": "ef89519a",
   "metadata": {},
   "outputs": [
    {
     "data": {
      "text/html": [
       "<div>\n",
       "<style scoped>\n",
       "    .dataframe tbody tr th:only-of-type {\n",
       "        vertical-align: middle;\n",
       "    }\n",
       "\n",
       "    .dataframe tbody tr th {\n",
       "        vertical-align: top;\n",
       "    }\n",
       "\n",
       "    .dataframe thead th {\n",
       "        text-align: right;\n",
       "    }\n",
       "</style>\n",
       "<table border=\"1\" class=\"dataframe\">\n",
       "  <thead>\n",
       "    <tr style=\"text-align: right;\">\n",
       "      <th></th>\n",
       "      <th>Word</th>\n",
       "      <th>FrequencyPositive</th>\n",
       "      <th>FrequencyNegative</th>\n",
       "      <th>ProbabilityPositive</th>\n",
       "      <th>ProbabilityNegative</th>\n",
       "      <th>ProbabilityPositiveLog</th>\n",
       "      <th>ProbabilityNegativeLog</th>\n",
       "      <th>TotalCounts</th>\n",
       "    </tr>\n",
       "  </thead>\n",
       "  <tbody>\n",
       "    <tr>\n",
       "      <th>1793</th>\n",
       "      <td>compelling</td>\n",
       "      <td>51</td>\n",
       "      <td>20</td>\n",
       "      <td>0.000079</td>\n",
       "      <td>0.000035</td>\n",
       "      <td>-9.446563</td>\n",
       "      <td>-10.248287</td>\n",
       "      <td>71</td>\n",
       "    </tr>\n",
       "  </tbody>\n",
       "</table>\n",
       "</div>"
      ],
      "text/plain": [
       "            Word  FrequencyPositive  FrequencyNegative  ProbabilityPositive  \\\n",
       "1793  compelling                 51                 20             0.000079   \n",
       "\n",
       "      ProbabilityNegative  ProbabilityPositiveLog  ProbabilityNegativeLog  \\\n",
       "1793             0.000035               -9.446563              -10.248287   \n",
       "\n",
       "      TotalCounts  \n",
       "1793           71  "
      ]
     },
     "execution_count": 24,
     "metadata": {},
     "output_type": "execute_result"
    }
   ],
   "source": [
    "# most sensational\n",
    "# expressive an actor he proved himself to be here this is impressive\n",
    "# understated compelling\n",
    "probs1.loc[probs1['Word'] == 'compelling']"
   ]
  },
  {
   "cell_type": "code",
   "execution_count": 25,
   "id": "0f77f0cb",
   "metadata": {},
   "outputs": [
    {
     "data": {
      "text/html": [
       "<div>\n",
       "<style scoped>\n",
       "    .dataframe tbody tr th:only-of-type {\n",
       "        vertical-align: middle;\n",
       "    }\n",
       "\n",
       "    .dataframe tbody tr th {\n",
       "        vertical-align: top;\n",
       "    }\n",
       "\n",
       "    .dataframe thead th {\n",
       "        text-align: right;\n",
       "    }\n",
       "</style>\n",
       "<table border=\"1\" class=\"dataframe\">\n",
       "  <thead>\n",
       "    <tr style=\"text-align: right;\">\n",
       "      <th></th>\n",
       "      <th>Word</th>\n",
       "      <th>FrequencyPositive</th>\n",
       "      <th>FrequencyNegative</th>\n",
       "      <th>ProbabilityPositive</th>\n",
       "      <th>ProbabilityNegative</th>\n",
       "      <th>ProbabilityPositiveLog</th>\n",
       "      <th>ProbabilityNegativeLog</th>\n",
       "      <th>TotalCounts</th>\n",
       "    </tr>\n",
       "  </thead>\n",
       "  <tbody>\n",
       "    <tr>\n",
       "      <th>16576</th>\n",
       "      <td>sensational</td>\n",
       "      <td>5</td>\n",
       "      <td>2</td>\n",
       "      <td>0.000009</td>\n",
       "      <td>0.000005</td>\n",
       "      <td>-11.606047</td>\n",
       "      <td>-12.194197</td>\n",
       "      <td>7</td>\n",
       "    </tr>\n",
       "  </tbody>\n",
       "</table>\n",
       "</div>"
      ],
      "text/plain": [
       "              Word  FrequencyPositive  FrequencyNegative  ProbabilityPositive  \\\n",
       "16576  sensational                  5                  2             0.000009   \n",
       "\n",
       "       ProbabilityNegative  ProbabilityPositiveLog  ProbabilityNegativeLog  \\\n",
       "16576             0.000005              -11.606047              -12.194197   \n",
       "\n",
       "       TotalCounts  \n",
       "16576            7  "
      ]
     },
     "execution_count": 25,
     "metadata": {},
     "output_type": "execute_result"
    }
   ],
   "source": [
    "probs1.loc[probs1['Word'] == 'sensational']"
   ]
  },
  {
   "cell_type": "code",
   "execution_count": 26,
   "id": "f16264f1",
   "metadata": {},
   "outputs": [
    {
     "data": {
      "text/html": [
       "<div>\n",
       "<style scoped>\n",
       "    .dataframe tbody tr th:only-of-type {\n",
       "        vertical-align: middle;\n",
       "    }\n",
       "\n",
       "    .dataframe tbody tr th {\n",
       "        vertical-align: top;\n",
       "    }\n",
       "\n",
       "    .dataframe thead th {\n",
       "        text-align: right;\n",
       "    }\n",
       "</style>\n",
       "<table border=\"1\" class=\"dataframe\">\n",
       "  <thead>\n",
       "    <tr style=\"text-align: right;\">\n",
       "      <th></th>\n",
       "      <th>Word</th>\n",
       "      <th>FrequencyPositive</th>\n",
       "      <th>FrequencyNegative</th>\n",
       "      <th>ProbabilityPositive</th>\n",
       "      <th>ProbabilityNegative</th>\n",
       "      <th>ProbabilityPositiveLog</th>\n",
       "      <th>ProbabilityNegativeLog</th>\n",
       "      <th>TotalCounts</th>\n",
       "    </tr>\n",
       "  </thead>\n",
       "  <tbody>\n",
       "    <tr>\n",
       "      <th>2562</th>\n",
       "      <td>impressive</td>\n",
       "      <td>114</td>\n",
       "      <td>76</td>\n",
       "      <td>0.000175</td>\n",
       "      <td>0.00013</td>\n",
       "      <td>-8.652874</td>\n",
       "      <td>-8.949004</td>\n",
       "      <td>190</td>\n",
       "    </tr>\n",
       "  </tbody>\n",
       "</table>\n",
       "</div>"
      ],
      "text/plain": [
       "            Word  FrequencyPositive  FrequencyNegative  ProbabilityPositive  \\\n",
       "2562  impressive                114                 76             0.000175   \n",
       "\n",
       "      ProbabilityNegative  ProbabilityPositiveLog  ProbabilityNegativeLog  \\\n",
       "2562              0.00013               -8.652874               -8.949004   \n",
       "\n",
       "      TotalCounts  \n",
       "2562          190  "
      ]
     },
     "execution_count": 26,
     "metadata": {},
     "output_type": "execute_result"
    }
   ],
   "source": [
    "probs1.loc[probs1['Word'] == 'impressive']"
   ]
  },
  {
   "cell_type": "markdown",
   "id": "6b2dac63",
   "metadata": {},
   "source": [
    "### Correct Prediction 5"
   ]
  },
  {
   "cell_type": "markdown",
   "id": "c9dcff5c",
   "metadata": {},
   "source": [
    "##### File Input\n",
    "\n",
    "***steven spielbergs second epic film on world war ii is an unquestioned masterpiece of film spielberg ever the student on film has managed to resurrect the war genre by producing one of its grittiest and most powerful entries he also managed to cast this eras greatest answer to jimmy stewart tom hanks who delivers a performance that is nothing short of an astonishing miracle for about 160 out of its 170 minutes saving private ryan is flawless literally the plot is simple enough after the epic dday invasion whose sequences are nothing short of spectacular capt john miller hanks and his team are forced to search for a pvt james ryan damon whose brothers have all died in battle once they find him they are to bring him back for immediate discharge so that he can go home accompanying miller are his crew played with astonishing perfection by a group of character actors that are simply sensational barry pepper adam goldberg vin diesel giovanni ribisi davies and burns are the team sent to find one man and bring him home the battle sequences that bookend the film are extraordinary literally there is nothing in film that has ever been recorded that will prepare you for the sheer onslaught of terrorizing violence in the films first 20 minutes spielberg films almost the entire movie without music leaving it up to the characters to generate emotion and they do to perfection the sequences in france all of them beginning with the battle and ending with the battle are fabulous especially the dialogues between the men as they walk through the hills and countrysides trying to save private ryan there are no words i can use to describe the true horror and power of these sequences this is what coppola was looking for in apocalypse now but couldnt create the sheer horror of these sequences all but condemn war the performance by hanks as the leader of this gang is also extraordinary he is head and shoulders above of the rest of the actors in the world with his comic timing dramatic flair his quiet emotion that stirs an entire nation to tears hanks is this countrys finest actor and he proves it here however spielberg almost destroys his own masterpiece with a chance to make it the one of the greatest films of all time spielberg creates 10 minutes of purely worthless film the sequence involving army chiefofstafff george marshall and mrs ryan is decent but doesnt hold up to the rest of the film relying on wartime cliches to power it but that is forgivable what isnt is the bookends of the film the cemetary sequences the first one is quite good a decent introduction into the lives of these men the last sequence is atrocious the forced emotion accompanied by a ridiculous piece of music is simply horrible compared to the rest of the magical film these flaws are what downgrade ryan from the greatest film of our era to the greatest war film of our era spielberg should have trusted his own material and he should have trusted hanks to deliver the most chilling line of the movie to end his masterpiece right there the use of the flag though patriotic is in contrast to the movies theme the power of the bulk of the film however is astonishing spielberg has truly made a wondrous work of art that persists even after first viewing of the film is extraordinary this is the film of the year***"
   ]
  },
  {
   "cell_type": "markdown",
   "id": "985ae537",
   "metadata": {},
   "source": [
    "### Analysis Correct Prediction 5\n",
    "For our final document to be analysed, this document is much easier to tell why it was correctly given a positive label by our Naive-Bayes classifier. This document uses much more emotion and opinion in the piece than our other two correct positive predictions. Instantly, it is subjective and positive: \n",
    "\n",
    "***is an unquestioned masterpiece***\n",
    "***by producing one of its grittiest and most powerful entries***\n",
    "\n",
    "Instantly we are drawn to positive words such as \"unquestioned\", \"masterpiece\" and \"powerful\" which are all very positive words. Furthermore, we see other phrases such as:\n",
    "\n",
    "***sequences are nothing short of spectacular***\n",
    "\n",
    "while \"sensational\" is also used to describe elements of the film. As we only take unique words for our classifier these words are all different ways to highlight approval of the film and express positive sentiment. Further positive words such as \"extraordinary\" and \"asthonishing\" can be seen used in the document as well and adding all these unique positive words together it is easy to see why this document was overwhelmingly scored as positive by our classifier. A lot of these words would not have high negative probabilities also which would contribute to the labelling of this document as positive also.\n"
   ]
  }
 ],
 "metadata": {
  "kernelspec": {
   "display_name": "Python 3 (ipykernel)",
   "language": "python",
   "name": "python3"
  },
  "language_info": {
   "codemirror_mode": {
    "name": "ipython",
    "version": 3
   },
   "file_extension": ".py",
   "mimetype": "text/x-python",
   "name": "python",
   "nbconvert_exporter": "python",
   "pygments_lexer": "ipython3",
   "version": "3.8.12"
  }
 },
 "nbformat": 4,
 "nbformat_minor": 5
}
