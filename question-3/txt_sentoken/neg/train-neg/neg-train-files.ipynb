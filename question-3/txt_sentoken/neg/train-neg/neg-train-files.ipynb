{
 "cells": [
  {
   "cell_type": "code",
   "execution_count": 1,
   "id": "bdc30a69",
   "metadata": {},
   "outputs": [],
   "source": [
    "import os\n",
    "\n",
    "cwd = os.getcwd()\n",
    "onlyfiles = [os.path.join(cwd, f) for f in os.listdir(cwd) if \n",
    "os.path.isfile(os.path.join(cwd, f))]\n",
    "#print(onlyfiles)\n",
    "input_train_neg = []\n",
    "for i in range(len(onlyfiles)):\n",
    "    if onlyfiles[i][-4:] == \".txt\":\n",
    "        with open(onlyfiles[i], \"r\", encoding=\"utf8\") as f:\n",
    "            #lines = f.readlines()\n",
    "            #contents = [x.strip() for x in f.readlines()]\n",
    "            contents = ' '.join([str(elem.strip()) for elem in f.readlines()])\n",
    "            # remove newline characters\n",
    "            contents = contents.replace(\"\\n\", \"\")\n",
    "            if not contents:\n",
    "                print('FILE IS EMPTY')\n",
    "            else:\n",
    "                input_train_neg.append(contents)\n",
    "    else:\n",
    "        continue"
   ]
  },
  {
   "cell_type": "code",
   "execution_count": 2,
   "id": "d341eca5",
   "metadata": {},
   "outputs": [
    {
     "data": {
      "text/plain": [
       "900"
      ]
     },
     "execution_count": 2,
     "metadata": {},
     "output_type": "execute_result"
    }
   ],
   "source": [
    "len(input_train_neg)"
   ]
  },
  {
   "cell_type": "code",
   "execution_count": 3,
   "id": "b25a5116",
   "metadata": {},
   "outputs": [],
   "source": [
    "import pandas as pd\n",
    "df = pd.DataFrame()\n",
    "df['File Input'] = input_train_neg"
   ]
  },
  {
   "cell_type": "code",
   "execution_count": 4,
   "id": "33aae6f2",
   "metadata": {},
   "outputs": [
    {
     "data": {
      "text/html": [
       "<div>\n",
       "<style scoped>\n",
       "    .dataframe tbody tr th:only-of-type {\n",
       "        vertical-align: middle;\n",
       "    }\n",
       "\n",
       "    .dataframe tbody tr th {\n",
       "        vertical-align: top;\n",
       "    }\n",
       "\n",
       "    .dataframe thead th {\n",
       "        text-align: right;\n",
       "    }\n",
       "</style>\n",
       "<table border=\"1\" class=\"dataframe\">\n",
       "  <thead>\n",
       "    <tr style=\"text-align: right;\">\n",
       "      <th></th>\n",
       "      <th>File Input</th>\n",
       "    </tr>\n",
       "  </thead>\n",
       "  <tbody>\n",
       "    <tr>\n",
       "      <th>0</th>\n",
       "      <td>plot : two teen couples go to a church party ,...</td>\n",
       "    </tr>\n",
       "    <tr>\n",
       "      <th>1</th>\n",
       "      <td>the happy bastard's quick movie review damn th...</td>\n",
       "    </tr>\n",
       "    <tr>\n",
       "      <th>2</th>\n",
       "      <td>it is movies like these that make a jaded movi...</td>\n",
       "    </tr>\n",
       "    <tr>\n",
       "      <th>3</th>\n",
       "      <td>\" quest for camelot \" is warner bros . ' first...</td>\n",
       "    </tr>\n",
       "    <tr>\n",
       "      <th>4</th>\n",
       "      <td>synopsis : a mentally unstable man undergoing ...</td>\n",
       "    </tr>\n",
       "    <tr>\n",
       "      <th>...</th>\n",
       "      <td>...</td>\n",
       "    </tr>\n",
       "    <tr>\n",
       "      <th>895</th>\n",
       "      <td>2 days in the valley is more or less a pulp fi...</td>\n",
       "    </tr>\n",
       "    <tr>\n",
       "      <th>896</th>\n",
       "      <td>what would inspire someone who cannot write or...</td>\n",
       "    </tr>\n",
       "    <tr>\n",
       "      <th>897</th>\n",
       "      <td>synopsis : a novelist struggling with his late...</td>\n",
       "    </tr>\n",
       "    <tr>\n",
       "      <th>898</th>\n",
       "      <td>okay , okay . maybe i wasn't in the mood to wa...</td>\n",
       "    </tr>\n",
       "    <tr>\n",
       "      <th>899</th>\n",
       "      <td>in life , eddie murphy and martin lawrence pla...</td>\n",
       "    </tr>\n",
       "  </tbody>\n",
       "</table>\n",
       "<p>900 rows × 1 columns</p>\n",
       "</div>"
      ],
      "text/plain": [
       "                                            File Input\n",
       "0    plot : two teen couples go to a church party ,...\n",
       "1    the happy bastard's quick movie review damn th...\n",
       "2    it is movies like these that make a jaded movi...\n",
       "3    \" quest for camelot \" is warner bros . ' first...\n",
       "4    synopsis : a mentally unstable man undergoing ...\n",
       "..                                                 ...\n",
       "895  2 days in the valley is more or less a pulp fi...\n",
       "896  what would inspire someone who cannot write or...\n",
       "897  synopsis : a novelist struggling with his late...\n",
       "898  okay , okay . maybe i wasn't in the mood to wa...\n",
       "899  in life , eddie murphy and martin lawrence pla...\n",
       "\n",
       "[900 rows x 1 columns]"
      ]
     },
     "execution_count": 4,
     "metadata": {},
     "output_type": "execute_result"
    }
   ],
   "source": [
    "df"
   ]
  },
  {
   "cell_type": "code",
   "execution_count": 5,
   "id": "a6a736c6",
   "metadata": {},
   "outputs": [],
   "source": [
    "import numpy as np\n",
    "input_f = np.array(df['File Input'])\n",
    "label = []\n",
    "for i in range(len(input_f)):\n",
    "    label.append(0)"
   ]
  },
  {
   "cell_type": "code",
   "execution_count": 6,
   "id": "92e9f32a",
   "metadata": {},
   "outputs": [],
   "source": [
    "df['Label'] = label"
   ]
  },
  {
   "cell_type": "code",
   "execution_count": 7,
   "id": "133cf9f4",
   "metadata": {},
   "outputs": [],
   "source": [
    "import string\n",
    "#input_f[0].translate(str.maketrans('', '', string.punctuation))\n",
    "input_f = np.array(df['File Input'])\n",
    "punc = []\n",
    "for i in range(len(input_f)):\n",
    "    str1 = input_f[i].translate(str.maketrans('', '', string.punctuation))\n",
    "    str2 = ' '.join(str1.split())\n",
    "    punc.append(str2)"
   ]
  },
  {
   "cell_type": "code",
   "execution_count": 8,
   "id": "2b61ccb1",
   "metadata": {},
   "outputs": [],
   "source": [
    "df['File Input'] = punc"
   ]
  },
  {
   "cell_type": "code",
   "execution_count": 9,
   "id": "c1d5b437",
   "metadata": {},
   "outputs": [
    {
     "data": {
      "text/html": [
       "<div>\n",
       "<style scoped>\n",
       "    .dataframe tbody tr th:only-of-type {\n",
       "        vertical-align: middle;\n",
       "    }\n",
       "\n",
       "    .dataframe tbody tr th {\n",
       "        vertical-align: top;\n",
       "    }\n",
       "\n",
       "    .dataframe thead th {\n",
       "        text-align: right;\n",
       "    }\n",
       "</style>\n",
       "<table border=\"1\" class=\"dataframe\">\n",
       "  <thead>\n",
       "    <tr style=\"text-align: right;\">\n",
       "      <th></th>\n",
       "      <th>File Input</th>\n",
       "      <th>Label</th>\n",
       "    </tr>\n",
       "  </thead>\n",
       "  <tbody>\n",
       "    <tr>\n",
       "      <th>0</th>\n",
       "      <td>plot two teen couples go to a church party dri...</td>\n",
       "      <td>0</td>\n",
       "    </tr>\n",
       "    <tr>\n",
       "      <th>1</th>\n",
       "      <td>the happy bastards quick movie review damn tha...</td>\n",
       "      <td>0</td>\n",
       "    </tr>\n",
       "    <tr>\n",
       "      <th>2</th>\n",
       "      <td>it is movies like these that make a jaded movi...</td>\n",
       "      <td>0</td>\n",
       "    </tr>\n",
       "    <tr>\n",
       "      <th>3</th>\n",
       "      <td>quest for camelot is warner bros first feature...</td>\n",
       "      <td>0</td>\n",
       "    </tr>\n",
       "    <tr>\n",
       "      <th>4</th>\n",
       "      <td>synopsis a mentally unstable man undergoing ps...</td>\n",
       "      <td>0</td>\n",
       "    </tr>\n",
       "    <tr>\n",
       "      <th>...</th>\n",
       "      <td>...</td>\n",
       "      <td>...</td>\n",
       "    </tr>\n",
       "    <tr>\n",
       "      <th>895</th>\n",
       "      <td>2 days in the valley is more or less a pulp fi...</td>\n",
       "      <td>0</td>\n",
       "    </tr>\n",
       "    <tr>\n",
       "      <th>896</th>\n",
       "      <td>what would inspire someone who cannot write or...</td>\n",
       "      <td>0</td>\n",
       "    </tr>\n",
       "    <tr>\n",
       "      <th>897</th>\n",
       "      <td>synopsis a novelist struggling with his latest...</td>\n",
       "      <td>0</td>\n",
       "    </tr>\n",
       "    <tr>\n",
       "      <th>898</th>\n",
       "      <td>okay okay maybe i wasnt in the mood to watch a...</td>\n",
       "      <td>0</td>\n",
       "    </tr>\n",
       "    <tr>\n",
       "      <th>899</th>\n",
       "      <td>in life eddie murphy and martin lawrence play ...</td>\n",
       "      <td>0</td>\n",
       "    </tr>\n",
       "  </tbody>\n",
       "</table>\n",
       "<p>900 rows × 2 columns</p>\n",
       "</div>"
      ],
      "text/plain": [
       "                                            File Input  Label\n",
       "0    plot two teen couples go to a church party dri...      0\n",
       "1    the happy bastards quick movie review damn tha...      0\n",
       "2    it is movies like these that make a jaded movi...      0\n",
       "3    quest for camelot is warner bros first feature...      0\n",
       "4    synopsis a mentally unstable man undergoing ps...      0\n",
       "..                                                 ...    ...\n",
       "895  2 days in the valley is more or less a pulp fi...      0\n",
       "896  what would inspire someone who cannot write or...      0\n",
       "897  synopsis a novelist struggling with his latest...      0\n",
       "898  okay okay maybe i wasnt in the mood to watch a...      0\n",
       "899  in life eddie murphy and martin lawrence play ...      0\n",
       "\n",
       "[900 rows x 2 columns]"
      ]
     },
     "execution_count": 9,
     "metadata": {},
     "output_type": "execute_result"
    }
   ],
   "source": [
    "df"
   ]
  },
  {
   "cell_type": "code",
   "execution_count": 10,
   "id": "8227287d",
   "metadata": {},
   "outputs": [],
   "source": [
    "df.to_csv('neg-files-labels.csv')"
   ]
  }
 ],
 "metadata": {
  "kernelspec": {
   "display_name": "Python 3 (ipykernel)",
   "language": "python",
   "name": "python3"
  },
  "language_info": {
   "codemirror_mode": {
    "name": "ipython",
    "version": 3
   },
   "file_extension": ".py",
   "mimetype": "text/x-python",
   "name": "python",
   "nbconvert_exporter": "python",
   "pygments_lexer": "ipython3",
   "version": "3.8.12"
  }
 },
 "nbformat": 4,
 "nbformat_minor": 5
}
