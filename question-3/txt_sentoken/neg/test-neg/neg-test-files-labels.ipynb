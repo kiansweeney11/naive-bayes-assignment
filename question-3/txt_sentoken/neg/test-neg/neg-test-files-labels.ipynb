{
 "cells": [
  {
   "cell_type": "code",
   "execution_count": 1,
   "id": "eb3fb889",
   "metadata": {},
   "outputs": [],
   "source": [
    "import os\n",
    "\n",
    "cwd = os.getcwd()\n",
    "onlyfiles = [os.path.join(cwd, f) for f in os.listdir(cwd) if \n",
    "os.path.isfile(os.path.join(cwd, f))]\n",
    "#print(onlyfiles)\n",
    "input_train_neg = []\n",
    "for i in range(len(onlyfiles)):\n",
    "    if onlyfiles[i][-4:] == \".txt\":\n",
    "        with open(onlyfiles[i], \"r\", encoding=\"utf8\") as f:\n",
    "            #lines = f.readlines()\n",
    "            #contents = [x.strip() for x in f.readlines()]\n",
    "            contents = ' '.join([str(elem.strip()) for elem in f.readlines()])\n",
    "            # remove newline characters\n",
    "            contents = contents.replace(\"\\n\", \"\")\n",
    "            if not contents:\n",
    "                print('FILE IS EMPTY')\n",
    "            else:\n",
    "                input_train_neg.append(contents)\n",
    "    else:\n",
    "        continue"
   ]
  },
  {
   "cell_type": "code",
   "execution_count": 2,
   "id": "0af6bad3",
   "metadata": {},
   "outputs": [
    {
     "data": {
      "text/plain": [
       "100"
      ]
     },
     "execution_count": 2,
     "metadata": {},
     "output_type": "execute_result"
    }
   ],
   "source": [
    "len(input_train_neg)"
   ]
  },
  {
   "cell_type": "code",
   "execution_count": 3,
   "id": "a8aa52e5",
   "metadata": {},
   "outputs": [],
   "source": [
    "import pandas as pd\n",
    "df = pd.DataFrame()\n",
    "df['File Input'] = input_train_neg"
   ]
  },
  {
   "cell_type": "code",
   "execution_count": 4,
   "id": "86e002b2",
   "metadata": {},
   "outputs": [],
   "source": [
    "import numpy as np\n",
    "input_f = np.array(df['File Input'])\n",
    "label = []\n",
    "for i in range(len(input_f)):\n",
    "    label.append(0)"
   ]
  },
  {
   "cell_type": "code",
   "execution_count": 5,
   "id": "3f61f6d0",
   "metadata": {},
   "outputs": [],
   "source": [
    "df['Label'] = label"
   ]
  },
  {
   "cell_type": "code",
   "execution_count": 6,
   "id": "20288e12",
   "metadata": {},
   "outputs": [
    {
     "data": {
      "text/html": [
       "<div>\n",
       "<style scoped>\n",
       "    .dataframe tbody tr th:only-of-type {\n",
       "        vertical-align: middle;\n",
       "    }\n",
       "\n",
       "    .dataframe tbody tr th {\n",
       "        vertical-align: top;\n",
       "    }\n",
       "\n",
       "    .dataframe thead th {\n",
       "        text-align: right;\n",
       "    }\n",
       "</style>\n",
       "<table border=\"1\" class=\"dataframe\">\n",
       "  <thead>\n",
       "    <tr style=\"text-align: right;\">\n",
       "      <th></th>\n",
       "      <th>File Input</th>\n",
       "      <th>Label</th>\n",
       "    </tr>\n",
       "  </thead>\n",
       "  <tbody>\n",
       "    <tr>\n",
       "      <th>0</th>\n",
       "      <td>there may not be a critic alive who harbors as...</td>\n",
       "      <td>0</td>\n",
       "    </tr>\n",
       "    <tr>\n",
       "      <th>1</th>\n",
       "      <td>renee zellweger stars as sonia , a young jewis...</td>\n",
       "      <td>0</td>\n",
       "    </tr>\n",
       "    <tr>\n",
       "      <th>2</th>\n",
       "      <td>there're so many things to criticize about i d...</td>\n",
       "      <td>0</td>\n",
       "    </tr>\n",
       "    <tr>\n",
       "      <th>3</th>\n",
       "      <td>don't let this movie fool you into believing t...</td>\n",
       "      <td>0</td>\n",
       "    </tr>\n",
       "    <tr>\n",
       "      <th>4</th>\n",
       "      <td>it's a good thing most animated sci-fi movies ...</td>\n",
       "      <td>0</td>\n",
       "    </tr>\n",
       "    <tr>\n",
       "      <th>...</th>\n",
       "      <td>...</td>\n",
       "      <td>...</td>\n",
       "    </tr>\n",
       "    <tr>\n",
       "      <th>95</th>\n",
       "      <td>if anything , \" stigmata \" should be taken as ...</td>\n",
       "      <td>0</td>\n",
       "    </tr>\n",
       "    <tr>\n",
       "      <th>96</th>\n",
       "      <td>john boorman's \" zardoz \" is a goofy cinematic...</td>\n",
       "      <td>0</td>\n",
       "    </tr>\n",
       "    <tr>\n",
       "      <th>97</th>\n",
       "      <td>the kids in the hall are an acquired taste . i...</td>\n",
       "      <td>0</td>\n",
       "    </tr>\n",
       "    <tr>\n",
       "      <th>98</th>\n",
       "      <td>there was a time when john carpenter was a gre...</td>\n",
       "      <td>0</td>\n",
       "    </tr>\n",
       "    <tr>\n",
       "      <th>99</th>\n",
       "      <td>two party guys bob their heads to haddaway's d...</td>\n",
       "      <td>0</td>\n",
       "    </tr>\n",
       "  </tbody>\n",
       "</table>\n",
       "<p>100 rows × 2 columns</p>\n",
       "</div>"
      ],
      "text/plain": [
       "                                           File Input  Label\n",
       "0   there may not be a critic alive who harbors as...      0\n",
       "1   renee zellweger stars as sonia , a young jewis...      0\n",
       "2   there're so many things to criticize about i d...      0\n",
       "3   don't let this movie fool you into believing t...      0\n",
       "4   it's a good thing most animated sci-fi movies ...      0\n",
       "..                                                ...    ...\n",
       "95  if anything , \" stigmata \" should be taken as ...      0\n",
       "96  john boorman's \" zardoz \" is a goofy cinematic...      0\n",
       "97  the kids in the hall are an acquired taste . i...      0\n",
       "98  there was a time when john carpenter was a gre...      0\n",
       "99  two party guys bob their heads to haddaway's d...      0\n",
       "\n",
       "[100 rows x 2 columns]"
      ]
     },
     "execution_count": 6,
     "metadata": {},
     "output_type": "execute_result"
    }
   ],
   "source": [
    "df"
   ]
  },
  {
   "cell_type": "code",
   "execution_count": 7,
   "id": "a0922364",
   "metadata": {},
   "outputs": [],
   "source": [
    "import string\n",
    "input_f = np.array(df['File Input'])\n",
    "punc = []\n",
    "for i in range(len(input_f)):\n",
    "    str1 = input_f[i].translate(str.maketrans('', '', string.punctuation))\n",
    "    str2 = ' '.join(str1.split())\n",
    "    punc.append(str2)"
   ]
  },
  {
   "cell_type": "code",
   "execution_count": 8,
   "id": "dfd807cc",
   "metadata": {},
   "outputs": [],
   "source": [
    "df['File Input'] = punc"
   ]
  },
  {
   "cell_type": "code",
   "execution_count": 9,
   "id": "11fbd298",
   "metadata": {},
   "outputs": [
    {
     "data": {
      "text/html": [
       "<div>\n",
       "<style scoped>\n",
       "    .dataframe tbody tr th:only-of-type {\n",
       "        vertical-align: middle;\n",
       "    }\n",
       "\n",
       "    .dataframe tbody tr th {\n",
       "        vertical-align: top;\n",
       "    }\n",
       "\n",
       "    .dataframe thead th {\n",
       "        text-align: right;\n",
       "    }\n",
       "</style>\n",
       "<table border=\"1\" class=\"dataframe\">\n",
       "  <thead>\n",
       "    <tr style=\"text-align: right;\">\n",
       "      <th></th>\n",
       "      <th>File Input</th>\n",
       "      <th>Label</th>\n",
       "    </tr>\n",
       "  </thead>\n",
       "  <tbody>\n",
       "    <tr>\n",
       "      <th>0</th>\n",
       "      <td>there may not be a critic alive who harbors as...</td>\n",
       "      <td>0</td>\n",
       "    </tr>\n",
       "    <tr>\n",
       "      <th>1</th>\n",
       "      <td>renee zellweger stars as sonia a young jewish ...</td>\n",
       "      <td>0</td>\n",
       "    </tr>\n",
       "    <tr>\n",
       "      <th>2</th>\n",
       "      <td>therere so many things to criticize about i do...</td>\n",
       "      <td>0</td>\n",
       "    </tr>\n",
       "    <tr>\n",
       "      <th>3</th>\n",
       "      <td>dont let this movie fool you into believing th...</td>\n",
       "      <td>0</td>\n",
       "    </tr>\n",
       "    <tr>\n",
       "      <th>4</th>\n",
       "      <td>its a good thing most animated scifi movies co...</td>\n",
       "      <td>0</td>\n",
       "    </tr>\n",
       "    <tr>\n",
       "      <th>...</th>\n",
       "      <td>...</td>\n",
       "      <td>...</td>\n",
       "    </tr>\n",
       "    <tr>\n",
       "      <th>95</th>\n",
       "      <td>if anything stigmata should be taken as a warn...</td>\n",
       "      <td>0</td>\n",
       "    </tr>\n",
       "    <tr>\n",
       "      <th>96</th>\n",
       "      <td>john boormans zardoz is a goofy cinematic deba...</td>\n",
       "      <td>0</td>\n",
       "    </tr>\n",
       "    <tr>\n",
       "      <th>97</th>\n",
       "      <td>the kids in the hall are an acquired taste it ...</td>\n",
       "      <td>0</td>\n",
       "    </tr>\n",
       "    <tr>\n",
       "      <th>98</th>\n",
       "      <td>there was a time when john carpenter was a gre...</td>\n",
       "      <td>0</td>\n",
       "    </tr>\n",
       "    <tr>\n",
       "      <th>99</th>\n",
       "      <td>two party guys bob their heads to haddaways da...</td>\n",
       "      <td>0</td>\n",
       "    </tr>\n",
       "  </tbody>\n",
       "</table>\n",
       "<p>100 rows × 2 columns</p>\n",
       "</div>"
      ],
      "text/plain": [
       "                                           File Input  Label\n",
       "0   there may not be a critic alive who harbors as...      0\n",
       "1   renee zellweger stars as sonia a young jewish ...      0\n",
       "2   therere so many things to criticize about i do...      0\n",
       "3   dont let this movie fool you into believing th...      0\n",
       "4   its a good thing most animated scifi movies co...      0\n",
       "..                                                ...    ...\n",
       "95  if anything stigmata should be taken as a warn...      0\n",
       "96  john boormans zardoz is a goofy cinematic deba...      0\n",
       "97  the kids in the hall are an acquired taste it ...      0\n",
       "98  there was a time when john carpenter was a gre...      0\n",
       "99  two party guys bob their heads to haddaways da...      0\n",
       "\n",
       "[100 rows x 2 columns]"
      ]
     },
     "execution_count": 9,
     "metadata": {},
     "output_type": "execute_result"
    }
   ],
   "source": [
    "df"
   ]
  },
  {
   "cell_type": "code",
   "execution_count": 10,
   "id": "ce9a6a1c",
   "metadata": {},
   "outputs": [],
   "source": [
    "df.to_csv('neg-test-files-labels.csv')"
   ]
  }
 ],
 "metadata": {
  "kernelspec": {
   "display_name": "Python 3 (ipykernel)",
   "language": "python",
   "name": "python3"
  },
  "language_info": {
   "codemirror_mode": {
    "name": "ipython",
    "version": 3
   },
   "file_extension": ".py",
   "mimetype": "text/x-python",
   "name": "python",
   "nbconvert_exporter": "python",
   "pygments_lexer": "ipython3",
   "version": "3.8.12"
  }
 },
 "nbformat": 4,
 "nbformat_minor": 5
}
