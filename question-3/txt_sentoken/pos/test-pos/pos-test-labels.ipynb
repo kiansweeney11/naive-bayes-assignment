{
 "cells": [
  {
   "cell_type": "code",
   "execution_count": 1,
   "id": "4b552ffe",
   "metadata": {},
   "outputs": [],
   "source": [
    "import os\n",
    "\n",
    "cwd = os.getcwd()\n",
    "onlyfiles = [os.path.join(cwd, f) for f in os.listdir(cwd) if \n",
    "os.path.isfile(os.path.join(cwd, f))]\n",
    "#print(onlyfiles)\n",
    "input_train_pos = []\n",
    "for i in range(len(onlyfiles)):\n",
    "    if onlyfiles[i][-4:] == \".txt\":\n",
    "        with open(onlyfiles[i], \"r\", encoding=\"utf8\") as f:\n",
    "            #lines = f.readlines()\n",
    "            #contents = [x.strip() for x in f.readlines()]\n",
    "            contents = ' '.join([str(elem.strip()) for elem in f.readlines()])\n",
    "            # remove newline characters\n",
    "            contents = contents.replace(\"\\n\", \"\")\n",
    "            if not contents:\n",
    "                print('FILE IS EMPTY')\n",
    "            else:\n",
    "                input_train_pos.append(contents)\n",
    "    else:\n",
    "        continue"
   ]
  },
  {
   "cell_type": "code",
   "execution_count": 2,
   "id": "8a78e5cd",
   "metadata": {},
   "outputs": [
    {
     "data": {
      "text/plain": [
       "100"
      ]
     },
     "execution_count": 2,
     "metadata": {},
     "output_type": "execute_result"
    }
   ],
   "source": [
    "len(input_train_pos)"
   ]
  },
  {
   "cell_type": "code",
   "execution_count": 3,
   "id": "006a7a69",
   "metadata": {},
   "outputs": [],
   "source": [
    "import pandas as pd\n",
    "df = pd.DataFrame()\n",
    "df['File Input'] = input_train_pos"
   ]
  },
  {
   "cell_type": "code",
   "execution_count": 4,
   "id": "01f9d8ff",
   "metadata": {},
   "outputs": [],
   "source": [
    "import numpy as np\n",
    "input_f = np.array(df['File Input'])\n",
    "label = []\n",
    "for i in range(len(input_f)):\n",
    "    label.append(1)"
   ]
  },
  {
   "cell_type": "code",
   "execution_count": 5,
   "id": "f51ede2f",
   "metadata": {},
   "outputs": [],
   "source": [
    "df['Label'] = label"
   ]
  },
  {
   "cell_type": "code",
   "execution_count": 6,
   "id": "9eeaf496",
   "metadata": {},
   "outputs": [
    {
     "data": {
      "text/html": [
       "<div>\n",
       "<style scoped>\n",
       "    .dataframe tbody tr th:only-of-type {\n",
       "        vertical-align: middle;\n",
       "    }\n",
       "\n",
       "    .dataframe tbody tr th {\n",
       "        vertical-align: top;\n",
       "    }\n",
       "\n",
       "    .dataframe thead th {\n",
       "        text-align: right;\n",
       "    }\n",
       "</style>\n",
       "<table border=\"1\" class=\"dataframe\">\n",
       "  <thead>\n",
       "    <tr style=\"text-align: right;\">\n",
       "      <th></th>\n",
       "      <th>File Input</th>\n",
       "      <th>Label</th>\n",
       "    </tr>\n",
       "  </thead>\n",
       "  <tbody>\n",
       "    <tr>\n",
       "      <th>0</th>\n",
       "      <td>in 1912 , a ship set sail on her maiden voyage...</td>\n",
       "      <td>1</td>\n",
       "    </tr>\n",
       "    <tr>\n",
       "      <th>1</th>\n",
       "      <td>the start of this movie reminded me of parts f...</td>\n",
       "      <td>1</td>\n",
       "    </tr>\n",
       "    <tr>\n",
       "      <th>2</th>\n",
       "      <td>note : some may consider portions of the follo...</td>\n",
       "      <td>1</td>\n",
       "    </tr>\n",
       "    <tr>\n",
       "      <th>3</th>\n",
       "      <td>robert altman's cookie's fortune is that rare ...</td>\n",
       "      <td>1</td>\n",
       "    </tr>\n",
       "    <tr>\n",
       "      <th>4</th>\n",
       "      <td>well i'll be damned . . . the canadians can ma...</td>\n",
       "      <td>1</td>\n",
       "    </tr>\n",
       "    <tr>\n",
       "      <th>...</th>\n",
       "      <td>...</td>\n",
       "      <td>...</td>\n",
       "    </tr>\n",
       "    <tr>\n",
       "      <th>95</th>\n",
       "      <td>wow ! what a movie . it's everything a movie c...</td>\n",
       "      <td>1</td>\n",
       "    </tr>\n",
       "    <tr>\n",
       "      <th>96</th>\n",
       "      <td>richard gere can be a commanding actor , but h...</td>\n",
       "      <td>1</td>\n",
       "    </tr>\n",
       "    <tr>\n",
       "      <th>97</th>\n",
       "      <td>glory--starring matthew broderick , denzel was...</td>\n",
       "      <td>1</td>\n",
       "    </tr>\n",
       "    <tr>\n",
       "      <th>98</th>\n",
       "      <td>steven spielberg's second epic film on world w...</td>\n",
       "      <td>1</td>\n",
       "    </tr>\n",
       "    <tr>\n",
       "      <th>99</th>\n",
       "      <td>truman ( \" true-man \" ) burbank is the perfect...</td>\n",
       "      <td>1</td>\n",
       "    </tr>\n",
       "  </tbody>\n",
       "</table>\n",
       "<p>100 rows × 2 columns</p>\n",
       "</div>"
      ],
      "text/plain": [
       "                                           File Input  Label\n",
       "0   in 1912 , a ship set sail on her maiden voyage...      1\n",
       "1   the start of this movie reminded me of parts f...      1\n",
       "2   note : some may consider portions of the follo...      1\n",
       "3   robert altman's cookie's fortune is that rare ...      1\n",
       "4   well i'll be damned . . . the canadians can ma...      1\n",
       "..                                                ...    ...\n",
       "95  wow ! what a movie . it's everything a movie c...      1\n",
       "96  richard gere can be a commanding actor , but h...      1\n",
       "97  glory--starring matthew broderick , denzel was...      1\n",
       "98  steven spielberg's second epic film on world w...      1\n",
       "99  truman ( \" true-man \" ) burbank is the perfect...      1\n",
       "\n",
       "[100 rows x 2 columns]"
      ]
     },
     "execution_count": 6,
     "metadata": {},
     "output_type": "execute_result"
    }
   ],
   "source": [
    "df"
   ]
  },
  {
   "cell_type": "code",
   "execution_count": 7,
   "id": "58e3a118",
   "metadata": {},
   "outputs": [],
   "source": [
    "import string\n",
    "input_f = np.array(df['File Input'])\n",
    "punc = []\n",
    "for i in range(len(input_f)):\n",
    "    str1 = input_f[i].translate(str.maketrans('', '', string.punctuation))\n",
    "    str2 = ' '.join(str1.split())\n",
    "    punc.append(str2)"
   ]
  },
  {
   "cell_type": "code",
   "execution_count": 8,
   "id": "d94bdc20",
   "metadata": {},
   "outputs": [],
   "source": [
    "df['File Input'] = punc"
   ]
  },
  {
   "cell_type": "code",
   "execution_count": 9,
   "id": "1c66e101",
   "metadata": {},
   "outputs": [
    {
     "data": {
      "text/html": [
       "<div>\n",
       "<style scoped>\n",
       "    .dataframe tbody tr th:only-of-type {\n",
       "        vertical-align: middle;\n",
       "    }\n",
       "\n",
       "    .dataframe tbody tr th {\n",
       "        vertical-align: top;\n",
       "    }\n",
       "\n",
       "    .dataframe thead th {\n",
       "        text-align: right;\n",
       "    }\n",
       "</style>\n",
       "<table border=\"1\" class=\"dataframe\">\n",
       "  <thead>\n",
       "    <tr style=\"text-align: right;\">\n",
       "      <th></th>\n",
       "      <th>File Input</th>\n",
       "      <th>Label</th>\n",
       "    </tr>\n",
       "  </thead>\n",
       "  <tbody>\n",
       "    <tr>\n",
       "      <th>0</th>\n",
       "      <td>in 1912 a ship set sail on her maiden voyage a...</td>\n",
       "      <td>1</td>\n",
       "    </tr>\n",
       "    <tr>\n",
       "      <th>1</th>\n",
       "      <td>the start of this movie reminded me of parts f...</td>\n",
       "      <td>1</td>\n",
       "    </tr>\n",
       "    <tr>\n",
       "      <th>2</th>\n",
       "      <td>note some may consider portions of the followi...</td>\n",
       "      <td>1</td>\n",
       "    </tr>\n",
       "    <tr>\n",
       "      <th>3</th>\n",
       "      <td>robert altmans cookies fortune is that rare mo...</td>\n",
       "      <td>1</td>\n",
       "    </tr>\n",
       "    <tr>\n",
       "      <th>4</th>\n",
       "      <td>well ill be damned the canadians can make a go...</td>\n",
       "      <td>1</td>\n",
       "    </tr>\n",
       "    <tr>\n",
       "      <th>...</th>\n",
       "      <td>...</td>\n",
       "      <td>...</td>\n",
       "    </tr>\n",
       "    <tr>\n",
       "      <th>95</th>\n",
       "      <td>wow what a movie its everything a movie can be...</td>\n",
       "      <td>1</td>\n",
       "    </tr>\n",
       "    <tr>\n",
       "      <th>96</th>\n",
       "      <td>richard gere can be a commanding actor but hes...</td>\n",
       "      <td>1</td>\n",
       "    </tr>\n",
       "    <tr>\n",
       "      <th>97</th>\n",
       "      <td>glorystarring matthew broderick denzel washing...</td>\n",
       "      <td>1</td>\n",
       "    </tr>\n",
       "    <tr>\n",
       "      <th>98</th>\n",
       "      <td>steven spielbergs second epic film on world wa...</td>\n",
       "      <td>1</td>\n",
       "    </tr>\n",
       "    <tr>\n",
       "      <th>99</th>\n",
       "      <td>truman trueman burbank is the perfect name for...</td>\n",
       "      <td>1</td>\n",
       "    </tr>\n",
       "  </tbody>\n",
       "</table>\n",
       "<p>100 rows × 2 columns</p>\n",
       "</div>"
      ],
      "text/plain": [
       "                                           File Input  Label\n",
       "0   in 1912 a ship set sail on her maiden voyage a...      1\n",
       "1   the start of this movie reminded me of parts f...      1\n",
       "2   note some may consider portions of the followi...      1\n",
       "3   robert altmans cookies fortune is that rare mo...      1\n",
       "4   well ill be damned the canadians can make a go...      1\n",
       "..                                                ...    ...\n",
       "95  wow what a movie its everything a movie can be...      1\n",
       "96  richard gere can be a commanding actor but hes...      1\n",
       "97  glorystarring matthew broderick denzel washing...      1\n",
       "98  steven spielbergs second epic film on world wa...      1\n",
       "99  truman trueman burbank is the perfect name for...      1\n",
       "\n",
       "[100 rows x 2 columns]"
      ]
     },
     "execution_count": 9,
     "metadata": {},
     "output_type": "execute_result"
    }
   ],
   "source": [
    "df"
   ]
  },
  {
   "cell_type": "code",
   "execution_count": 10,
   "id": "4296e70d",
   "metadata": {},
   "outputs": [],
   "source": [
    "df.to_csv('pos-test-files-labels.csv')"
   ]
  }
 ],
 "metadata": {
  "kernelspec": {
   "display_name": "Python 3 (ipykernel)",
   "language": "python",
   "name": "python3"
  },
  "language_info": {
   "codemirror_mode": {
    "name": "ipython",
    "version": 3
   },
   "file_extension": ".py",
   "mimetype": "text/x-python",
   "name": "python",
   "nbconvert_exporter": "python",
   "pygments_lexer": "ipython3",
   "version": "3.8.12"
  }
 },
 "nbformat": 4,
 "nbformat_minor": 5
}
