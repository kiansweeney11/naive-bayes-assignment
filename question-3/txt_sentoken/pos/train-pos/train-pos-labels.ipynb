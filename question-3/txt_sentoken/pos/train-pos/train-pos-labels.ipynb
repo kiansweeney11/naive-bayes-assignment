{
 "cells": [
  {
   "cell_type": "code",
   "execution_count": 1,
   "id": "63ad4878",
   "metadata": {},
   "outputs": [],
   "source": [
    "import os\n",
    "\n",
    "cwd = os.getcwd()\n",
    "onlyfiles = [os.path.join(cwd, f) for f in os.listdir(cwd) if \n",
    "os.path.isfile(os.path.join(cwd, f))]\n",
    "#print(onlyfiles)\n",
    "input_train_pos = []\n",
    "for i in range(len(onlyfiles)):\n",
    "    if onlyfiles[i][-4:] == \".txt\":\n",
    "        with open(onlyfiles[i], \"r\", encoding=\"utf8\") as f:\n",
    "            #lines = f.readlines()\n",
    "            #contents = [x.strip() for x in f.readlines()]\n",
    "            contents = ' '.join([str(elem.strip()) for elem in f.readlines()])\n",
    "            # remove newline characters\n",
    "            contents = contents.replace(\"\\n\", \"\")\n",
    "            if not contents:\n",
    "                print('FILE IS EMPTY')\n",
    "            else:\n",
    "                input_train_pos.append(contents)\n",
    "    else:\n",
    "        continue"
   ]
  },
  {
   "cell_type": "code",
   "execution_count": 2,
   "id": "4bc2ca97",
   "metadata": {},
   "outputs": [
    {
     "data": {
      "text/plain": [
       "900"
      ]
     },
     "execution_count": 2,
     "metadata": {},
     "output_type": "execute_result"
    }
   ],
   "source": [
    "len(input_train_pos)"
   ]
  },
  {
   "cell_type": "code",
   "execution_count": 3,
   "id": "907a8983",
   "metadata": {},
   "outputs": [],
   "source": [
    "import pandas as pd\n",
    "df = pd.DataFrame()\n",
    "df['File Input'] = input_train_pos"
   ]
  },
  {
   "cell_type": "code",
   "execution_count": 4,
   "id": "aba0351c",
   "metadata": {},
   "outputs": [],
   "source": [
    "import numpy as np\n",
    "input_f = np.array(df['File Input'])\n",
    "label = []\n",
    "for i in range(len(input_f)):\n",
    "    label.append(1)"
   ]
  },
  {
   "cell_type": "code",
   "execution_count": 5,
   "id": "351aee2a",
   "metadata": {},
   "outputs": [],
   "source": [
    "df['Label'] = label"
   ]
  },
  {
   "cell_type": "code",
   "execution_count": 6,
   "id": "702d3f9f",
   "metadata": {},
   "outputs": [
    {
     "data": {
      "text/html": [
       "<div>\n",
       "<style scoped>\n",
       "    .dataframe tbody tr th:only-of-type {\n",
       "        vertical-align: middle;\n",
       "    }\n",
       "\n",
       "    .dataframe tbody tr th {\n",
       "        vertical-align: top;\n",
       "    }\n",
       "\n",
       "    .dataframe thead th {\n",
       "        text-align: right;\n",
       "    }\n",
       "</style>\n",
       "<table border=\"1\" class=\"dataframe\">\n",
       "  <thead>\n",
       "    <tr style=\"text-align: right;\">\n",
       "      <th></th>\n",
       "      <th>File Input</th>\n",
       "      <th>Label</th>\n",
       "    </tr>\n",
       "  </thead>\n",
       "  <tbody>\n",
       "    <tr>\n",
       "      <th>0</th>\n",
       "      <td>films adapted from comic books have had plenty...</td>\n",
       "      <td>1</td>\n",
       "    </tr>\n",
       "    <tr>\n",
       "      <th>1</th>\n",
       "      <td>every now and then a movie comes along from a ...</td>\n",
       "      <td>1</td>\n",
       "    </tr>\n",
       "    <tr>\n",
       "      <th>2</th>\n",
       "      <td>you've got mail works alot better than it dese...</td>\n",
       "      <td>1</td>\n",
       "    </tr>\n",
       "    <tr>\n",
       "      <th>3</th>\n",
       "      <td>\" jaws \" is a rare film that grabs your attent...</td>\n",
       "      <td>1</td>\n",
       "    </tr>\n",
       "    <tr>\n",
       "      <th>4</th>\n",
       "      <td>moviemaking is a lot like being the general ma...</td>\n",
       "      <td>1</td>\n",
       "    </tr>\n",
       "    <tr>\n",
       "      <th>...</th>\n",
       "      <td>...</td>\n",
       "      <td>...</td>\n",
       "    </tr>\n",
       "    <tr>\n",
       "      <th>895</th>\n",
       "      <td>the soldiers of three kings have taken their c...</td>\n",
       "      <td>1</td>\n",
       "    </tr>\n",
       "    <tr>\n",
       "      <th>896</th>\n",
       "      <td>bill condon's \" gods and monsters \" is a fasci...</td>\n",
       "      <td>1</td>\n",
       "    </tr>\n",
       "    <tr>\n",
       "      <th>897</th>\n",
       "      <td>i must admit that i was a tad skeptical of \" g...</td>\n",
       "      <td>1</td>\n",
       "    </tr>\n",
       "    <tr>\n",
       "      <th>898</th>\n",
       "      <td>a cinematic version of one of john irving's no...</td>\n",
       "      <td>1</td>\n",
       "    </tr>\n",
       "    <tr>\n",
       "      <th>899</th>\n",
       "      <td>the only historical figure that has been writt...</td>\n",
       "      <td>1</td>\n",
       "    </tr>\n",
       "  </tbody>\n",
       "</table>\n",
       "<p>900 rows × 2 columns</p>\n",
       "</div>"
      ],
      "text/plain": [
       "                                            File Input  Label\n",
       "0    films adapted from comic books have had plenty...      1\n",
       "1    every now and then a movie comes along from a ...      1\n",
       "2    you've got mail works alot better than it dese...      1\n",
       "3    \" jaws \" is a rare film that grabs your attent...      1\n",
       "4    moviemaking is a lot like being the general ma...      1\n",
       "..                                                 ...    ...\n",
       "895  the soldiers of three kings have taken their c...      1\n",
       "896  bill condon's \" gods and monsters \" is a fasci...      1\n",
       "897  i must admit that i was a tad skeptical of \" g...      1\n",
       "898  a cinematic version of one of john irving's no...      1\n",
       "899  the only historical figure that has been writt...      1\n",
       "\n",
       "[900 rows x 2 columns]"
      ]
     },
     "execution_count": 6,
     "metadata": {},
     "output_type": "execute_result"
    }
   ],
   "source": [
    "df"
   ]
  },
  {
   "cell_type": "code",
   "execution_count": 7,
   "id": "e9262eed",
   "metadata": {},
   "outputs": [],
   "source": [
    "import string\n",
    "#input_f[0].translate(str.maketrans('', '', string.punctuation))\n",
    "input_f = np.array(df['File Input'])\n",
    "punc = []\n",
    "for i in range(len(input_f)):\n",
    "    str1 = input_f[i].translate(str.maketrans('', '', string.punctuation))\n",
    "    str2 = ' '.join(str1.split())\n",
    "    punc.append(str2)"
   ]
  },
  {
   "cell_type": "code",
   "execution_count": 8,
   "id": "1835bb32",
   "metadata": {},
   "outputs": [],
   "source": [
    "df['File Input'] = punc"
   ]
  },
  {
   "cell_type": "code",
   "execution_count": 9,
   "id": "3d2fd0a3",
   "metadata": {},
   "outputs": [
    {
     "data": {
      "text/html": [
       "<div>\n",
       "<style scoped>\n",
       "    .dataframe tbody tr th:only-of-type {\n",
       "        vertical-align: middle;\n",
       "    }\n",
       "\n",
       "    .dataframe tbody tr th {\n",
       "        vertical-align: top;\n",
       "    }\n",
       "\n",
       "    .dataframe thead th {\n",
       "        text-align: right;\n",
       "    }\n",
       "</style>\n",
       "<table border=\"1\" class=\"dataframe\">\n",
       "  <thead>\n",
       "    <tr style=\"text-align: right;\">\n",
       "      <th></th>\n",
       "      <th>File Input</th>\n",
       "      <th>Label</th>\n",
       "    </tr>\n",
       "  </thead>\n",
       "  <tbody>\n",
       "    <tr>\n",
       "      <th>0</th>\n",
       "      <td>films adapted from comic books have had plenty...</td>\n",
       "      <td>1</td>\n",
       "    </tr>\n",
       "    <tr>\n",
       "      <th>1</th>\n",
       "      <td>every now and then a movie comes along from a ...</td>\n",
       "      <td>1</td>\n",
       "    </tr>\n",
       "    <tr>\n",
       "      <th>2</th>\n",
       "      <td>youve got mail works alot better than it deser...</td>\n",
       "      <td>1</td>\n",
       "    </tr>\n",
       "    <tr>\n",
       "      <th>3</th>\n",
       "      <td>jaws is a rare film that grabs your attention ...</td>\n",
       "      <td>1</td>\n",
       "    </tr>\n",
       "    <tr>\n",
       "      <th>4</th>\n",
       "      <td>moviemaking is a lot like being the general ma...</td>\n",
       "      <td>1</td>\n",
       "    </tr>\n",
       "    <tr>\n",
       "      <th>...</th>\n",
       "      <td>...</td>\n",
       "      <td>...</td>\n",
       "    </tr>\n",
       "    <tr>\n",
       "      <th>895</th>\n",
       "      <td>the soldiers of three kings have taken their c...</td>\n",
       "      <td>1</td>\n",
       "    </tr>\n",
       "    <tr>\n",
       "      <th>896</th>\n",
       "      <td>bill condons gods and monsters is a fascinatin...</td>\n",
       "      <td>1</td>\n",
       "    </tr>\n",
       "    <tr>\n",
       "      <th>897</th>\n",
       "      <td>i must admit that i was a tad skeptical of goo...</td>\n",
       "      <td>1</td>\n",
       "    </tr>\n",
       "    <tr>\n",
       "      <th>898</th>\n",
       "      <td>a cinematic version of one of john irvings nov...</td>\n",
       "      <td>1</td>\n",
       "    </tr>\n",
       "    <tr>\n",
       "      <th>899</th>\n",
       "      <td>the only historical figure that has been writt...</td>\n",
       "      <td>1</td>\n",
       "    </tr>\n",
       "  </tbody>\n",
       "</table>\n",
       "<p>900 rows × 2 columns</p>\n",
       "</div>"
      ],
      "text/plain": [
       "                                            File Input  Label\n",
       "0    films adapted from comic books have had plenty...      1\n",
       "1    every now and then a movie comes along from a ...      1\n",
       "2    youve got mail works alot better than it deser...      1\n",
       "3    jaws is a rare film that grabs your attention ...      1\n",
       "4    moviemaking is a lot like being the general ma...      1\n",
       "..                                                 ...    ...\n",
       "895  the soldiers of three kings have taken their c...      1\n",
       "896  bill condons gods and monsters is a fascinatin...      1\n",
       "897  i must admit that i was a tad skeptical of goo...      1\n",
       "898  a cinematic version of one of john irvings nov...      1\n",
       "899  the only historical figure that has been writt...      1\n",
       "\n",
       "[900 rows x 2 columns]"
      ]
     },
     "execution_count": 9,
     "metadata": {},
     "output_type": "execute_result"
    }
   ],
   "source": [
    "df"
   ]
  },
  {
   "cell_type": "code",
   "execution_count": 10,
   "id": "628b8b34",
   "metadata": {},
   "outputs": [],
   "source": [
    "df.to_csv('pos-files-labels.csv')"
   ]
  }
 ],
 "metadata": {
  "kernelspec": {
   "display_name": "Python 3 (ipykernel)",
   "language": "python",
   "name": "python3"
  },
  "language_info": {
   "codemirror_mode": {
    "name": "ipython",
    "version": 3
   },
   "file_extension": ".py",
   "mimetype": "text/x-python",
   "name": "python",
   "nbconvert_exporter": "python",
   "pygments_lexer": "ipython3",
   "version": "3.8.12"
  }
 },
 "nbformat": 4,
 "nbformat_minor": 5
}
