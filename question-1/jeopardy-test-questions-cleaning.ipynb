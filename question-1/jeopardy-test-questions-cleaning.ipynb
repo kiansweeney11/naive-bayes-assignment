{
 "cells": [
  {
   "cell_type": "code",
   "execution_count": 1,
   "id": "33b77f7c",
   "metadata": {},
   "outputs": [],
   "source": [
    "import pandas as pd"
   ]
  },
  {
   "cell_type": "code",
   "execution_count": 2,
   "id": "d590ec31",
   "metadata": {},
   "outputs": [],
   "source": [
    "j = pd.read_csv('jeopardy.csv',  on_bad_lines='skip')"
   ]
  },
  {
   "cell_type": "code",
   "execution_count": 3,
   "id": "55a148a1",
   "metadata": {},
   "outputs": [
    {
     "data": {
      "text/html": [
       "<div>\n",
       "<style scoped>\n",
       "    .dataframe tbody tr th:only-of-type {\n",
       "        vertical-align: middle;\n",
       "    }\n",
       "\n",
       "    .dataframe tbody tr th {\n",
       "        vertical-align: top;\n",
       "    }\n",
       "\n",
       "    .dataframe thead th {\n",
       "        text-align: right;\n",
       "    }\n",
       "</style>\n",
       "<table border=\"1\" class=\"dataframe\">\n",
       "  <thead>\n",
       "    <tr style=\"text-align: right;\">\n",
       "      <th></th>\n",
       "      <th>QuestionID</th>\n",
       "      <th>Question</th>\n",
       "      <th>DocumentID</th>\n",
       "      <th>DocumentTitle</th>\n",
       "      <th>SentenceID</th>\n",
       "      <th>Sentence</th>\n",
       "      <th>Label</th>\n",
       "    </tr>\n",
       "  </thead>\n",
       "  <tbody>\n",
       "    <tr>\n",
       "      <th>0</th>\n",
       "      <td>Q0</td>\n",
       "      <td>HOW AFRICAN AMERICANS WERE IMMIGRATED TO THE US</td>\n",
       "      <td>D0</td>\n",
       "      <td>African immigration to the United States</td>\n",
       "      <td>D0-0</td>\n",
       "      <td>African immigration to the United States refer...</td>\n",
       "      <td>0</td>\n",
       "    </tr>\n",
       "    <tr>\n",
       "      <th>1</th>\n",
       "      <td>Q0</td>\n",
       "      <td>HOW AFRICAN AMERICANS WERE IMMIGRATED TO THE US</td>\n",
       "      <td>D0</td>\n",
       "      <td>African immigration to the United States</td>\n",
       "      <td>D0-1</td>\n",
       "      <td>The term African in the scope of this article ...</td>\n",
       "      <td>0</td>\n",
       "    </tr>\n",
       "    <tr>\n",
       "      <th>2</th>\n",
       "      <td>Q0</td>\n",
       "      <td>HOW AFRICAN AMERICANS WERE IMMIGRATED TO THE US</td>\n",
       "      <td>D0</td>\n",
       "      <td>African immigration to the United States</td>\n",
       "      <td>D0-2</td>\n",
       "      <td>From the Immigration and Nationality Act of 19...</td>\n",
       "      <td>0</td>\n",
       "    </tr>\n",
       "    <tr>\n",
       "      <th>3</th>\n",
       "      <td>Q0</td>\n",
       "      <td>HOW AFRICAN AMERICANS WERE IMMIGRATED TO THE US</td>\n",
       "      <td>D0</td>\n",
       "      <td>African immigration to the United States</td>\n",
       "      <td>D0-3</td>\n",
       "      <td>African immigrants in the United States come f...</td>\n",
       "      <td>0</td>\n",
       "    </tr>\n",
       "    <tr>\n",
       "      <th>4</th>\n",
       "      <td>Q0</td>\n",
       "      <td>HOW AFRICAN AMERICANS WERE IMMIGRATED TO THE US</td>\n",
       "      <td>D0</td>\n",
       "      <td>African immigration to the United States</td>\n",
       "      <td>D0-4</td>\n",
       "      <td>They include people from different national, l...</td>\n",
       "      <td>0</td>\n",
       "    </tr>\n",
       "  </tbody>\n",
       "</table>\n",
       "</div>"
      ],
      "text/plain": [
       "  QuestionID                                         Question DocumentID  \\\n",
       "0         Q0  HOW AFRICAN AMERICANS WERE IMMIGRATED TO THE US         D0   \n",
       "1         Q0  HOW AFRICAN AMERICANS WERE IMMIGRATED TO THE US         D0   \n",
       "2         Q0  HOW AFRICAN AMERICANS WERE IMMIGRATED TO THE US         D0   \n",
       "3         Q0  HOW AFRICAN AMERICANS WERE IMMIGRATED TO THE US         D0   \n",
       "4         Q0  HOW AFRICAN AMERICANS WERE IMMIGRATED TO THE US         D0   \n",
       "\n",
       "                              DocumentTitle SentenceID  \\\n",
       "0  African immigration to the United States       D0-0   \n",
       "1  African immigration to the United States       D0-1   \n",
       "2  African immigration to the United States       D0-2   \n",
       "3  African immigration to the United States       D0-3   \n",
       "4  African immigration to the United States       D0-4   \n",
       "\n",
       "                                            Sentence  Label  \n",
       "0  African immigration to the United States refer...      0  \n",
       "1  The term African in the scope of this article ...      0  \n",
       "2  From the Immigration and Nationality Act of 19...      0  \n",
       "3  African immigrants in the United States come f...      0  \n",
       "4  They include people from different national, l...      0  "
      ]
     },
     "execution_count": 3,
     "metadata": {},
     "output_type": "execute_result"
    }
   ],
   "source": [
    "j.head()"
   ]
  },
  {
   "cell_type": "code",
   "execution_count": 4,
   "id": "8f99e4de",
   "metadata": {},
   "outputs": [],
   "source": [
    "j.drop(columns=['QuestionID', 'Question', 'DocumentID', 'DocumentTitle', 'SentenceID', 'Label'], inplace = True)"
   ]
  },
  {
   "cell_type": "code",
   "execution_count": 5,
   "id": "ec128e6c",
   "metadata": {},
   "outputs": [
    {
     "data": {
      "text/html": [
       "<div>\n",
       "<style scoped>\n",
       "    .dataframe tbody tr th:only-of-type {\n",
       "        vertical-align: middle;\n",
       "    }\n",
       "\n",
       "    .dataframe tbody tr th {\n",
       "        vertical-align: top;\n",
       "    }\n",
       "\n",
       "    .dataframe thead th {\n",
       "        text-align: right;\n",
       "    }\n",
       "</style>\n",
       "<table border=\"1\" class=\"dataframe\">\n",
       "  <thead>\n",
       "    <tr style=\"text-align: right;\">\n",
       "      <th></th>\n",
       "      <th>Sentence</th>\n",
       "    </tr>\n",
       "  </thead>\n",
       "  <tbody>\n",
       "    <tr>\n",
       "      <th>0</th>\n",
       "      <td>African immigration to the United States refer...</td>\n",
       "    </tr>\n",
       "    <tr>\n",
       "      <th>1</th>\n",
       "      <td>The term African in the scope of this article ...</td>\n",
       "    </tr>\n",
       "    <tr>\n",
       "      <th>2</th>\n",
       "      <td>From the Immigration and Nationality Act of 19...</td>\n",
       "    </tr>\n",
       "    <tr>\n",
       "      <th>3</th>\n",
       "      <td>African immigrants in the United States come f...</td>\n",
       "    </tr>\n",
       "    <tr>\n",
       "      <th>4</th>\n",
       "      <td>They include people from different national, l...</td>\n",
       "    </tr>\n",
       "    <tr>\n",
       "      <th>...</th>\n",
       "      <td>...</td>\n",
       "    </tr>\n",
       "    <tr>\n",
       "      <th>4147</th>\n",
       "      <td>Junebug\", by The B-52s\\t0\\nQ3015\\twhat is the ...</td>\n",
       "    </tr>\n",
       "    <tr>\n",
       "      <th>4148</th>\n",
       "      <td>A broodmare is a mare used for breeding.</td>\n",
       "    </tr>\n",
       "    <tr>\n",
       "      <th>4149</th>\n",
       "      <td>A horse's female parent is known as its dam.</td>\n",
       "    </tr>\n",
       "    <tr>\n",
       "      <th>4150</th>\n",
       "      <td>An adult male horse is called a stallion , or,...</td>\n",
       "    </tr>\n",
       "    <tr>\n",
       "      <th>4151</th>\n",
       "      <td>Occasionally the term \"horse\" is used in a res...</td>\n",
       "    </tr>\n",
       "  </tbody>\n",
       "</table>\n",
       "<p>4152 rows × 1 columns</p>\n",
       "</div>"
      ],
      "text/plain": [
       "                                               Sentence\n",
       "0     African immigration to the United States refer...\n",
       "1     The term African in the scope of this article ...\n",
       "2     From the Immigration and Nationality Act of 19...\n",
       "3     African immigrants in the United States come f...\n",
       "4     They include people from different national, l...\n",
       "...                                                 ...\n",
       "4147  Junebug\", by The B-52s\\t0\\nQ3015\\twhat is the ...\n",
       "4148           A broodmare is a mare used for breeding.\n",
       "4149       A horse's female parent is known as its dam.\n",
       "4150  An adult male horse is called a stallion , or,...\n",
       "4151  Occasionally the term \"horse\" is used in a res...\n",
       "\n",
       "[4152 rows x 1 columns]"
      ]
     },
     "execution_count": 5,
     "metadata": {},
     "output_type": "execute_result"
    }
   ],
   "source": [
    "j"
   ]
  },
  {
   "cell_type": "code",
   "execution_count": 6,
   "id": "44a11b66",
   "metadata": {},
   "outputs": [
    {
     "data": {
      "text/plain": [
       "(4152, 1)"
      ]
     },
     "execution_count": 6,
     "metadata": {},
     "output_type": "execute_result"
    }
   ],
   "source": [
    "j.shape"
   ]
  },
  {
   "cell_type": "code",
   "execution_count": 7,
   "id": "df1b2ccb",
   "metadata": {},
   "outputs": [],
   "source": [
    "import numpy as np\n",
    "text = np.array(j['Sentence'])\n",
    "lst = []\n",
    "for i in range(len(text)):\n",
    "    texts = \" \".join(text[i].split())\n",
    "    lst.append(texts)"
   ]
  },
  {
   "cell_type": "code",
   "execution_count": 8,
   "id": "0471d67b",
   "metadata": {},
   "outputs": [],
   "source": [
    "j['Sentence'] = lst"
   ]
  },
  {
   "cell_type": "code",
   "execution_count": 9,
   "id": "74921550",
   "metadata": {},
   "outputs": [],
   "source": [
    "text = np.array(j['Sentence'])\n",
    "lst = []\n",
    "for i in range(len(text)):\n",
    "    texts = text[i].strip()\n",
    "    if texts[0].islower():\n",
    "        lst.append(texts)\n",
    "    else:\n",
    "        continue"
   ]
  },
  {
   "cell_type": "code",
   "execution_count": 10,
   "id": "6ebc6dad",
   "metadata": {},
   "outputs": [
    {
     "data": {
      "text/plain": [
       "42"
      ]
     },
     "execution_count": 10,
     "metadata": {},
     "output_type": "execute_result"
    }
   ],
   "source": [
    "len(lst)"
   ]
  },
  {
   "cell_type": "code",
   "execution_count": 11,
   "id": "b5841efb",
   "metadata": {},
   "outputs": [],
   "source": [
    "j.drop(j[j['Sentence'].isin(lst)].index, inplace=True)"
   ]
  },
  {
   "cell_type": "code",
   "execution_count": 12,
   "id": "9b92c32e",
   "metadata": {},
   "outputs": [
    {
     "data": {
      "text/html": [
       "<div>\n",
       "<style scoped>\n",
       "    .dataframe tbody tr th:only-of-type {\n",
       "        vertical-align: middle;\n",
       "    }\n",
       "\n",
       "    .dataframe tbody tr th {\n",
       "        vertical-align: top;\n",
       "    }\n",
       "\n",
       "    .dataframe thead th {\n",
       "        text-align: right;\n",
       "    }\n",
       "</style>\n",
       "<table border=\"1\" class=\"dataframe\">\n",
       "  <thead>\n",
       "    <tr style=\"text-align: right;\">\n",
       "      <th></th>\n",
       "      <th>Sentence</th>\n",
       "    </tr>\n",
       "  </thead>\n",
       "  <tbody>\n",
       "    <tr>\n",
       "      <th>0</th>\n",
       "      <td>African immigration to the United States refer...</td>\n",
       "    </tr>\n",
       "    <tr>\n",
       "      <th>1</th>\n",
       "      <td>The term African in the scope of this article ...</td>\n",
       "    </tr>\n",
       "    <tr>\n",
       "      <th>2</th>\n",
       "      <td>From the Immigration and Nationality Act of 19...</td>\n",
       "    </tr>\n",
       "    <tr>\n",
       "      <th>3</th>\n",
       "      <td>African immigrants in the United States come f...</td>\n",
       "    </tr>\n",
       "    <tr>\n",
       "      <th>4</th>\n",
       "      <td>They include people from different national, l...</td>\n",
       "    </tr>\n",
       "    <tr>\n",
       "      <th>...</th>\n",
       "      <td>...</td>\n",
       "    </tr>\n",
       "    <tr>\n",
       "      <th>4147</th>\n",
       "      <td>Junebug\", by The B-52s 0 Q3015 what is the lif...</td>\n",
       "    </tr>\n",
       "    <tr>\n",
       "      <th>4148</th>\n",
       "      <td>A broodmare is a mare used for breeding.</td>\n",
       "    </tr>\n",
       "    <tr>\n",
       "      <th>4149</th>\n",
       "      <td>A horse's female parent is known as its dam.</td>\n",
       "    </tr>\n",
       "    <tr>\n",
       "      <th>4150</th>\n",
       "      <td>An adult male horse is called a stallion , or,...</td>\n",
       "    </tr>\n",
       "    <tr>\n",
       "      <th>4151</th>\n",
       "      <td>Occasionally the term \"horse\" is used in a res...</td>\n",
       "    </tr>\n",
       "  </tbody>\n",
       "</table>\n",
       "<p>4110 rows × 1 columns</p>\n",
       "</div>"
      ],
      "text/plain": [
       "                                               Sentence\n",
       "0     African immigration to the United States refer...\n",
       "1     The term African in the scope of this article ...\n",
       "2     From the Immigration and Nationality Act of 19...\n",
       "3     African immigrants in the United States come f...\n",
       "4     They include people from different national, l...\n",
       "...                                                 ...\n",
       "4147  Junebug\", by The B-52s 0 Q3015 what is the lif...\n",
       "4148           A broodmare is a mare used for breeding.\n",
       "4149       A horse's female parent is known as its dam.\n",
       "4150  An adult male horse is called a stallion , or,...\n",
       "4151  Occasionally the term \"horse\" is used in a res...\n",
       "\n",
       "[4110 rows x 1 columns]"
      ]
     },
     "execution_count": 12,
     "metadata": {},
     "output_type": "execute_result"
    }
   ],
   "source": [
    "j"
   ]
  },
  {
   "cell_type": "code",
   "execution_count": 13,
   "id": "226ccd5c",
   "metadata": {},
   "outputs": [],
   "source": [
    "j.to_csv('cleaned-jeo.csv')"
   ]
  }
 ],
 "metadata": {
  "kernelspec": {
   "display_name": "Python 3 (ipykernel)",
   "language": "python",
   "name": "python3"
  },
  "language_info": {
   "codemirror_mode": {
    "name": "ipython",
    "version": 3
   },
   "file_extension": ".py",
   "mimetype": "text/x-python",
   "name": "python",
   "nbconvert_exporter": "python",
   "pygments_lexer": "ipython3",
   "version": "3.8.12"
  }
 },
 "nbformat": 4,
 "nbformat_minor": 5
}
