{
 "cells": [
  {
   "cell_type": "code",
   "execution_count": 1,
   "id": "518d3172",
   "metadata": {},
   "outputs": [],
   "source": [
    "import math\n",
    "import re\n",
    "import os\n",
    "import sys"
   ]
  },
  {
   "cell_type": "code",
   "execution_count": 2,
   "id": "d0d96b9a",
   "metadata": {},
   "outputs": [],
   "source": [
    "def load_text_file(file):\n",
    "    # had unicode error without encoding, most text files are utf-8 encoded anyway\n",
    "    with open(file, encoding = \"utf8\") as f:\n",
    "        # open file then create string of all the lines\n",
    "        listToStr = ' '.join([str(elem.lower()) for elem in f])\n",
    "        # remove newline characters\n",
    "        str2 = listToStr.replace(\"\\n\", \"\")\n",
    "        str2 = str2.split()\n",
    "        return str2"
   ]
  },
  {
   "cell_type": "code",
   "execution_count": 3,
   "id": "259031e0",
   "metadata": {},
   "outputs": [
    {
     "data": {
      "text/plain": [
       "['<s>',\n",
       " 'a',\n",
       " 'b',\n",
       " '</s>',\n",
       " '<s>',\n",
       " 'b',\n",
       " 'b',\n",
       " '</s>',\n",
       " '<s>',\n",
       " 'b',\n",
       " 'c',\n",
       " '</s>',\n",
       " '<s>',\n",
       " 'a',\n",
       " 'a',\n",
       " '</s>']"
      ]
     },
     "execution_count": 3,
     "metadata": {},
     "output_type": "execute_result"
    }
   ],
   "source": [
    "load_text_file('train2-exam21.txt')"
   ]
  },
  {
   "cell_type": "code",
   "execution_count": 4,
   "id": "2153cd14",
   "metadata": {},
   "outputs": [],
   "source": [
    "# this function will create list of sentences in our test file\n",
    "# using lists will be better here to treat each sentence seperately\n",
    "def create_sentence(file):\n",
    "    # load in each space delimited character\n",
    "    text = load_text_file(file)\n",
    "    sentences = []\n",
    "    for i in range(len(text)):\n",
    "        if text[i] == \"<s>\":\n",
    "            # create a list for start of new sentence\n",
    "            lst = []\n",
    "            # append lower case values as not to treat upper and lower case characters seperately\n",
    "            lst.append(text[i].lower())\n",
    "            continue\n",
    "        if text[i] == \"</s>\":\n",
    "            # append last item of sentence (</s>) and then append this sentence to our list of sentences\n",
    "            lst.append(text[i].lower())\n",
    "            sentences.append(lst)\n",
    "        else:\n",
    "            # append lowercase word to sentence list\n",
    "            lst.append(text[i].lower())\n",
    "    # return list of list of sentences\n",
    "    return sentences"
   ]
  },
  {
   "cell_type": "code",
   "execution_count": 5,
   "id": "a0b517c5",
   "metadata": {},
   "outputs": [
    {
     "data": {
      "text/plain": [
       "[['<s>', 'c', '</s>'],\n",
       " ['<s>', 'b', '</s>'],\n",
       " ['<s>', 'b', 'b', '</s>'],\n",
       " ['<s>', 'b', 'a', '</s>'],\n",
       " ['<s>', 'a', 'b', 'c', '</s>']]"
      ]
     },
     "execution_count": 5,
     "metadata": {},
     "output_type": "execute_result"
    }
   ],
   "source": [
    "create_sentence('test-exam21.txt')"
   ]
  },
  {
   "cell_type": "code",
   "execution_count": 6,
   "id": "7eeefc8b",
   "metadata": {},
   "outputs": [],
   "source": [
    "# function to find all bigrams in the training data\n",
    "def createBigram(data):\n",
    "    listOfBigrams = []\n",
    "    bigramCounts = {}\n",
    "    unigramCounts = {}\n",
    "    for i in range(len(data) - 1):\n",
    "        if i < len(data) - 1 and data[i + 1].islower():\n",
    "\n",
    "            listOfBigrams.append((data[i], data[i + 1]))\n",
    "\n",
    "        if (data[i], data[i + 1]) in bigramCounts:\n",
    "            bigramCounts[(data[i], data[i + 1])] += 1\n",
    "        else:\n",
    "            bigramCounts[(data[i], data[i + 1])] = 1\n",
    "\n",
    "        if data[i] in unigramCounts:\n",
    "            unigramCounts[data[i]] += 1\n",
    "        else:\n",
    "            unigramCounts[data[i]] = 1\n",
    "    return listOfBigrams, unigramCounts, bigramCounts\n",
    "\n",
    "# function to calculate bigram probabilities in our training data\n",
    "def calcBigramProb(listOfBigrams, unigramCounts, bigramCounts):\n",
    "    listOfProb = {}\n",
    "    for bigram in listOfBigrams:\n",
    "        word1 = bigram[0]\n",
    "        word2 = bigram[1]\n",
    "        # assign key as number of times (a,b) occurs divided by unigram of first word\n",
    "        listOfProb[bigram] = (bigramCounts.get(bigram))/(unigramCounts.get(word1))\n",
    "    return listOfProb"
   ]
  },
  {
   "cell_type": "code",
   "execution_count": 7,
   "id": "bbfd15a9",
   "metadata": {},
   "outputs": [
    {
     "name": "stdout",
     "output_type": "stream",
     "text": [
      "\n",
      " All the possible Bigrams in the training file are: \n",
      "[('<s>', 'a'), ('a', 'b'), ('b', '</s>'), ('</s>', '<s>'), ('<s>', 'b'), ('b', 'b'), ('b', '</s>'), ('</s>', '<s>'), ('<s>', 'b'), ('b', 'c'), ('c', '</s>'), ('</s>', '<s>'), ('<s>', 'a'), ('a', 'a'), ('a', '</s>')]\n",
      "\n",
      " Bigrams in the training file along with their frequency are: \n",
      "{('<s>', 'a'): 2, ('a', 'b'): 1, ('b', '</s>'): 2, ('</s>', '<s>'): 3, ('<s>', 'b'): 2, ('b', 'b'): 1, ('b', 'c'): 1, ('c', '</s>'): 1, ('a', 'a'): 1, ('a', '</s>'): 1}\n",
      "\n",
      " Unigrams in the training file along with their frequency are: \n",
      "{'<s>': 4, 'a': 3, 'b': 4, '</s>': 3, 'c': 1}\n",
      "\n",
      " Bigrams in the training file along with their probability are: \n",
      "{('<s>', 'a'): 0.5, ('a', 'b'): 0.3333333333333333, ('b', '</s>'): 0.5, ('</s>', '<s>'): 1.0, ('<s>', 'b'): 0.5, ('b', 'b'): 0.25, ('b', 'c'): 0.25, ('c', '</s>'): 1.0, ('a', 'a'): 0.3333333333333333, ('a', '</s>'): 0.3333333333333333}\n",
      "\n",
      " The bigrams in given test file are: \n",
      "[('<s>', 'c'), ('c', '</s>'), ('<s>', 'b'), ('b', '</s>'), ('<s>', 'b'), ('b', 'b'), ('b', '</s>'), ('<s>', 'b'), ('b', 'a'), ('a', '</s>'), ('<s>', 'a'), ('a', 'b'), ('b', 'c'), ('c', '</s>')]\n",
      "\n",
      "Probablility of sentence ['<s>', 'c', '</s>'] is: 0.0\n",
      "\n",
      "Probablility of sentence ['<s>', 'b', '</s>'] is: 0.25\n",
      "\n",
      "Probablility of sentence ['<s>', 'b', 'b', '</s>'] is: 0.0625\n",
      "\n",
      "Probablility of sentence ['<s>', 'b', 'a', '</s>'] is: 0.0\n",
      "\n",
      "Probablility of sentence ['<s>', 'a', 'b', 'c', '</s>'] is: 0.041666666666666664\n"
     ]
    }
   ],
   "source": [
    "data = load_text_file('train2-exam21.txt')\n",
    "listOfBigrams, unigramCounts, bigramCounts = createBigram(data)\n",
    "print(\"\\n All the possible Bigrams in the training file are: \")\n",
    "print(listOfBigrams)\n",
    "\n",
    "print(\"\\n Bigrams in the training file along with their frequency are: \")\n",
    "print(bigramCounts)\n",
    "\n",
    "print(\"\\n Unigrams in the training file along with their frequency are: \")\n",
    "print(unigramCounts)\n",
    "\n",
    "bigramProb = calcBigramProb(listOfBigrams, unigramCounts, bigramCounts)\n",
    "\n",
    "print(\"\\n Bigrams in the training file along with their probability are: \")\n",
    "print(bigramProb)\n",
    "inputList = create_sentence('test-exam21.txt')\n",
    "bilist = []\n",
    "bigrm = []\n",
    "for i in range(len(inputList)):\n",
    "    for j in range(len(inputList[i])):\n",
    "        if j < len(inputList[i]) - 1:\n",
    "\n",
    "            bilist.append((inputList[i][j], inputList[i][j + 1]))\n",
    "\n",
    "print(\"\\n The bigrams in given test file are: \")\n",
    "print(bilist)\n",
    "# list we will append probabilities of sentences to\n",
    "res = []\n",
    "for i in range(len(inputList)):\n",
    "    # starting probability for sentence is 1\n",
    "    outputProb1 = 1\n",
    "    for j in range(len(inputList[i]) - 1):\n",
    "        if (inputList[i][j], inputList[i][j + 1]) in bilist:\n",
    "            # listed is our bigram in question\n",
    "            listed = (inputList[i][j], inputList[i][j + 1])\n",
    "            # check for bigram probabilities\n",
    "            if listed in bigramProb:\n",
    "            # multiply our starting probability by bigram probability if recognised bigram\n",
    "                outputProb1 *= bigramProb[listed]\n",
    "            else:\n",
    "            # if it doesn't occur zero probability\n",
    "                outputProb1 *= 0\n",
    "    res.append(outputProb1)\n",
    "\n",
    "# print sentence and corresponding probability\n",
    "for i in range(len(res)):\n",
    "    print('\\n' + 'Probablility of sentence ' +  str(inputList[i]) + ' is: ' + str(res[i]))"
   ]
  }
 ],
 "metadata": {
  "kernelspec": {
   "display_name": "Python 3 (ipykernel)",
   "language": "python",
   "name": "python3"
  },
  "language_info": {
   "codemirror_mode": {
    "name": "ipython",
    "version": 3
   },
   "file_extension": ".py",
   "mimetype": "text/x-python",
   "name": "python",
   "nbconvert_exporter": "python",
   "pygments_lexer": "ipython3",
   "version": "3.8.12"
  }
 },
 "nbformat": 4,
 "nbformat_minor": 5
}
